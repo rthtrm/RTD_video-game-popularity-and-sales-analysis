{
 "cells": [
  {
   "cell_type": "markdown",
   "metadata": {},
   "source": [
    "<span style=\"font-size: 32px; font-weight: bold;\">Video Games Popularity and Sales Analysis</span>"
   ]
  },
  {
   "cell_type": "markdown",
   "metadata": {},
   "source": [
    "<span id=\"contents\" style=\"font-size:20pt; font-weight: bold;\">Contents</span>"
   ]
  },
  {
   "cell_type": "markdown",
   "metadata": {},
   "source": [
    "1. [Initialization](#Initialization)\n",
    "   - [Background](#Background)\n",
    "   - [Libraries](#Libraries)\n",
    "   - [Data Overview](#Data-Overview)\n",
    "   \n",
    "\n",
    "2. [Data Preparation](#Data-Preparation)\n",
    "   - [Column Naming](#Column-Naming)\n",
    "   - [Data Refinement](#Data-Refinement)\n",
    "       - [Column `name`](#Column-name)\n",
    "       - [Column `year_of_release`](#Column-year_of_release)\n",
    "       - [Column `genre`](#Column-genre)\n",
    "       - [Column `critic_score`](#Column-critic_score)\n",
    "       - [Column `user_score`](#Column-user_score)\n",
    "       - [Column `rating`](#Column-rating)\n",
    "       - [Duplicates](#Duplicates)\n",
    "   - [Data Quality Enhancement](#Data-Quality-Enhancement)\n",
    "       \n",
    "       \n",
    "3. [Anaslysis](#Analysis)\n",
    "   - [Production Trend by Platform](#Production-Trend-by-Platform)\n",
    "   - [Sales by Platform](#Sales-by-Platform)\n",
    "   - [Global Sales Overview](#Global-Sales-Overview)\n",
    "   - [Game Reviews and Sales Figure](#Game-Reviews-and-Sales-Figure)\n",
    "   - [Multiplatform Game Sales](#Multiplatform-Game-Sales)\n",
    "   - [Popularity by Genre](#Popularity-by-Genre)\n",
    "    \n",
    "       \n",
    "4. [User Profile by Region](#User-Profile-by-Region)\n",
    "   - [Platform Popularity by Region](#Platform-Popularity-by-Region)\n",
    "       - [Popular Platform in European Market](#Popular-Platform-in-European-Market)\n",
    "       - [Popular Platform in North American Market](#Popular-Platform-in-North-American-Market)\n",
    "       - [Popular Platform in Japanese Market](#Popular-Platform-in-Japanese-Market)\n",
    "   - [Genre Popularity by Region](#Genre-Popularity-by-Region)\n",
    "       - [Popular Genre in European Market](#Popular-Genre-in-European-Market)\n",
    "       - [Popular Genre in North American Market](#Popular-Genre-in-North-American-Market)\n",
    "       - [Popular Genre in Japanese Market](#Popular-Genre-in-Japanese-Market)\n",
    "   - [Age Rating and Total Sales](#Age-Rating-and-Total-Sales)\n",
    "       - [Sales by Age Rating in European Market](#Sales-by-Age-Rating-in-European-Market)\n",
    "       - [Sales by Age Rating in North American Market](#Sales-by-Age-Rating-in-North-American-Market)\n",
    "       - [Sales by Age Rating in Japanese Market](#Sales-by-Age-Rating-in-Japanese-Market)\n",
    "       \n",
    "       \n",
    "5. [Hypothesis Testing](#Hypothesis-Testing)\n",
    "    - [Average Users Review on XBOX 360 and PC](#Average-Users-Review-on-XBOX-360-and-PC)\n",
    "    - [Average Users Review of Action dan Sports Genre](#Average-Users-Review-of-Action-dan-Sports-Genre)\n",
    "\n",
    "\n",
    "6. [Findings and Conclusions](#Findings-and-Conclusions)\n"
   ]
  },
  {
   "cell_type": "markdown",
   "metadata": {},
   "source": [
    "## Initialization"
   ]
  },
  {
   "cell_type": "markdown",
   "metadata": {},
   "source": [
    "### Background"
   ]
  },
  {
   "cell_type": "markdown",
   "metadata": {},
   "source": [
    "ICE is an e-commerce company specializing in the trade of video games from around the globe.\n",
    "\n",
    "At the beginning of each new year, the company develops a predictive model based on the analysis of sales data from the previous year. This data encompasses user and expert reviews, game genres, age ratings as defined by the Entertainment Software Rating Board (ESRB), platforms (such as Xbox or PlayStation), and historical sales figures. The primary objective of this analysis is to identify patterns that determine the success or failure of a video game.\n",
    "\n",
    "This report presents a comprehensive analysis of sales activities throughout 2016, which will serve as a foundation for designing the sales model for 2017."
   ]
  },
  {
   "cell_type": "markdown",
   "metadata": {},
   "source": [
    "###  Libraries"
   ]
  },
  {
   "cell_type": "code",
   "execution_count": 1,
   "metadata": {},
   "outputs": [],
   "source": [
    "# Import Library data processing\n",
    "import pandas as pd, numpy as np\n",
    "\n",
    "#Import Library data visualization\n",
    "import matplotlib.pyplot as plt, seaborn as sns\n",
    "\n",
    "#Import Library Statistics\n",
    "from scipy.stats import ttest_ind\n",
    "import scipy.stats as stats\n",
    "\n",
    "#Import Library Statistical Testing\n",
    "from scipy.stats import ttest_1samp, shapiro, mannwhitneyu, chi2_contingency\n",
    "\n",
    "import warnings\n",
    "warnings.filterwarnings('ignore')"
   ]
  },
  {
   "cell_type": "markdown",
   "metadata": {},
   "source": [
    "### Data Overview"
   ]
  },
  {
   "cell_type": "code",
   "execution_count": 2,
   "metadata": {
    "scrolled": false
   },
   "outputs": [
    {
     "data": {
      "text/html": [
       "<div>\n",
       "<style scoped>\n",
       "    .dataframe tbody tr th:only-of-type {\n",
       "        vertical-align: middle;\n",
       "    }\n",
       "\n",
       "    .dataframe tbody tr th {\n",
       "        vertical-align: top;\n",
       "    }\n",
       "\n",
       "    .dataframe thead th {\n",
       "        text-align: right;\n",
       "    }\n",
       "</style>\n",
       "<table border=\"1\" class=\"dataframe\">\n",
       "  <thead>\n",
       "    <tr style=\"text-align: right;\">\n",
       "      <th></th>\n",
       "      <th>Name</th>\n",
       "      <th>Platform</th>\n",
       "      <th>Year_of_Release</th>\n",
       "      <th>Genre</th>\n",
       "      <th>NA_sales</th>\n",
       "      <th>EU_sales</th>\n",
       "      <th>JP_sales</th>\n",
       "      <th>Other_sales</th>\n",
       "      <th>Critic_Score</th>\n",
       "      <th>User_Score</th>\n",
       "      <th>Rating</th>\n",
       "    </tr>\n",
       "  </thead>\n",
       "  <tbody>\n",
       "    <tr>\n",
       "      <th>0</th>\n",
       "      <td>Wii Sports</td>\n",
       "      <td>Wii</td>\n",
       "      <td>2006.0</td>\n",
       "      <td>Sports</td>\n",
       "      <td>41.36</td>\n",
       "      <td>28.96</td>\n",
       "      <td>3.77</td>\n",
       "      <td>8.45</td>\n",
       "      <td>76.0</td>\n",
       "      <td>8</td>\n",
       "      <td>E</td>\n",
       "    </tr>\n",
       "    <tr>\n",
       "      <th>1</th>\n",
       "      <td>Super Mario Bros.</td>\n",
       "      <td>NES</td>\n",
       "      <td>1985.0</td>\n",
       "      <td>Platform</td>\n",
       "      <td>29.08</td>\n",
       "      <td>3.58</td>\n",
       "      <td>6.81</td>\n",
       "      <td>0.77</td>\n",
       "      <td>NaN</td>\n",
       "      <td>NaN</td>\n",
       "      <td>NaN</td>\n",
       "    </tr>\n",
       "    <tr>\n",
       "      <th>2</th>\n",
       "      <td>Mario Kart Wii</td>\n",
       "      <td>Wii</td>\n",
       "      <td>2008.0</td>\n",
       "      <td>Racing</td>\n",
       "      <td>15.68</td>\n",
       "      <td>12.76</td>\n",
       "      <td>3.79</td>\n",
       "      <td>3.29</td>\n",
       "      <td>82.0</td>\n",
       "      <td>8.3</td>\n",
       "      <td>E</td>\n",
       "    </tr>\n",
       "    <tr>\n",
       "      <th>3</th>\n",
       "      <td>Wii Sports Resort</td>\n",
       "      <td>Wii</td>\n",
       "      <td>2009.0</td>\n",
       "      <td>Sports</td>\n",
       "      <td>15.61</td>\n",
       "      <td>10.93</td>\n",
       "      <td>3.28</td>\n",
       "      <td>2.95</td>\n",
       "      <td>80.0</td>\n",
       "      <td>8</td>\n",
       "      <td>E</td>\n",
       "    </tr>\n",
       "    <tr>\n",
       "      <th>4</th>\n",
       "      <td>Pokemon Red/Pokemon Blue</td>\n",
       "      <td>GB</td>\n",
       "      <td>1996.0</td>\n",
       "      <td>Role-Playing</td>\n",
       "      <td>11.27</td>\n",
       "      <td>8.89</td>\n",
       "      <td>10.22</td>\n",
       "      <td>1.00</td>\n",
       "      <td>NaN</td>\n",
       "      <td>NaN</td>\n",
       "      <td>NaN</td>\n",
       "    </tr>\n",
       "    <tr>\n",
       "      <th>5</th>\n",
       "      <td>Tetris</td>\n",
       "      <td>GB</td>\n",
       "      <td>1989.0</td>\n",
       "      <td>Puzzle</td>\n",
       "      <td>23.20</td>\n",
       "      <td>2.26</td>\n",
       "      <td>4.22</td>\n",
       "      <td>0.58</td>\n",
       "      <td>NaN</td>\n",
       "      <td>NaN</td>\n",
       "      <td>NaN</td>\n",
       "    </tr>\n",
       "    <tr>\n",
       "      <th>6</th>\n",
       "      <td>New Super Mario Bros.</td>\n",
       "      <td>DS</td>\n",
       "      <td>2006.0</td>\n",
       "      <td>Platform</td>\n",
       "      <td>11.28</td>\n",
       "      <td>9.14</td>\n",
       "      <td>6.50</td>\n",
       "      <td>2.88</td>\n",
       "      <td>89.0</td>\n",
       "      <td>8.5</td>\n",
       "      <td>E</td>\n",
       "    </tr>\n",
       "    <tr>\n",
       "      <th>7</th>\n",
       "      <td>Wii Play</td>\n",
       "      <td>Wii</td>\n",
       "      <td>2006.0</td>\n",
       "      <td>Misc</td>\n",
       "      <td>13.96</td>\n",
       "      <td>9.18</td>\n",
       "      <td>2.93</td>\n",
       "      <td>2.84</td>\n",
       "      <td>58.0</td>\n",
       "      <td>6.6</td>\n",
       "      <td>E</td>\n",
       "    </tr>\n",
       "    <tr>\n",
       "      <th>8</th>\n",
       "      <td>New Super Mario Bros. Wii</td>\n",
       "      <td>Wii</td>\n",
       "      <td>2009.0</td>\n",
       "      <td>Platform</td>\n",
       "      <td>14.44</td>\n",
       "      <td>6.94</td>\n",
       "      <td>4.70</td>\n",
       "      <td>2.24</td>\n",
       "      <td>87.0</td>\n",
       "      <td>8.4</td>\n",
       "      <td>E</td>\n",
       "    </tr>\n",
       "    <tr>\n",
       "      <th>9</th>\n",
       "      <td>Duck Hunt</td>\n",
       "      <td>NES</td>\n",
       "      <td>1984.0</td>\n",
       "      <td>Shooter</td>\n",
       "      <td>26.93</td>\n",
       "      <td>0.63</td>\n",
       "      <td>0.28</td>\n",
       "      <td>0.47</td>\n",
       "      <td>NaN</td>\n",
       "      <td>NaN</td>\n",
       "      <td>NaN</td>\n",
       "    </tr>\n",
       "  </tbody>\n",
       "</table>\n",
       "</div>"
      ],
      "text/plain": [
       "                        Name Platform  Year_of_Release         Genre  \\\n",
       "0                 Wii Sports      Wii           2006.0        Sports   \n",
       "1          Super Mario Bros.      NES           1985.0      Platform   \n",
       "2             Mario Kart Wii      Wii           2008.0        Racing   \n",
       "3          Wii Sports Resort      Wii           2009.0        Sports   \n",
       "4   Pokemon Red/Pokemon Blue       GB           1996.0  Role-Playing   \n",
       "5                     Tetris       GB           1989.0        Puzzle   \n",
       "6      New Super Mario Bros.       DS           2006.0      Platform   \n",
       "7                   Wii Play      Wii           2006.0          Misc   \n",
       "8  New Super Mario Bros. Wii      Wii           2009.0      Platform   \n",
       "9                  Duck Hunt      NES           1984.0       Shooter   \n",
       "\n",
       "   NA_sales  EU_sales  JP_sales  Other_sales  Critic_Score User_Score Rating  \n",
       "0     41.36     28.96      3.77         8.45          76.0          8      E  \n",
       "1     29.08      3.58      6.81         0.77           NaN        NaN    NaN  \n",
       "2     15.68     12.76      3.79         3.29          82.0        8.3      E  \n",
       "3     15.61     10.93      3.28         2.95          80.0          8      E  \n",
       "4     11.27      8.89     10.22         1.00           NaN        NaN    NaN  \n",
       "5     23.20      2.26      4.22         0.58           NaN        NaN    NaN  \n",
       "6     11.28      9.14      6.50         2.88          89.0        8.5      E  \n",
       "7     13.96      9.18      2.93         2.84          58.0        6.6      E  \n",
       "8     14.44      6.94      4.70         2.24          87.0        8.4      E  \n",
       "9     26.93      0.63      0.28         0.47           NaN        NaN    NaN  "
      ]
     },
     "execution_count": 2,
     "metadata": {},
     "output_type": "execute_result"
    }
   ],
   "source": [
    "# Load data\n",
    "df = pd.read_csv('/datasets/games.csv')\n",
    "df.head(10)"
   ]
  },
  {
   "cell_type": "markdown",
   "metadata": {},
   "source": [
    "The dataset contains information on various attributes, including the name of each video game, the gaming platform, genre, sales figures across North America (NA), Europe (EU), Japan (JP), and other regions, critic ratings, player ratings, and age ratings.\n",
    "\n",
    "A preliminary review reveals several rows and columns with missing values (NaN). Below is a general overview of the dataset:"
   ]
  },
  {
   "cell_type": "code",
   "execution_count": 3,
   "metadata": {},
   "outputs": [
    {
     "name": "stdout",
     "output_type": "stream",
     "text": [
      "<class 'pandas.core.frame.DataFrame'>\n",
      "RangeIndex: 16715 entries, 0 to 16714\n",
      "Data columns (total 11 columns):\n",
      " #   Column           Non-Null Count  Dtype  \n",
      "---  ------           --------------  -----  \n",
      " 0   Name             16713 non-null  object \n",
      " 1   Platform         16715 non-null  object \n",
      " 2   Year_of_Release  16446 non-null  float64\n",
      " 3   Genre            16713 non-null  object \n",
      " 4   NA_sales         16715 non-null  float64\n",
      " 5   EU_sales         16715 non-null  float64\n",
      " 6   JP_sales         16715 non-null  float64\n",
      " 7   Other_sales      16715 non-null  float64\n",
      " 8   Critic_Score     8137 non-null   float64\n",
      " 9   User_Score       10014 non-null  object \n",
      " 10  Rating           9949 non-null   object \n",
      "dtypes: float64(6), object(5)\n",
      "memory usage: 1.4+ MB\n"
     ]
    }
   ],
   "source": [
    "# general info of dataset\n",
    "df.info()"
   ]
  },
  {
   "cell_type": "markdown",
   "metadata": {},
   "source": [
    "Based on the information above, the dataset contains a total of 16,715 entries. However, several columns have fewer entries than this total, including the columns for game name, release year, genre, critic ratings, player ratings, and age ratings. A further investigation into this discrepancy will be conducted in Section 2.\n",
    "\n",
    "In terms of data types, most columns have appropriate data types. The exceptions are `Year_of_Release` (which should be an integer), `User_Score` (which should be a float), and `Rating` (which should be an object). These data type adjustments will be addressed in Section 2.\n",
    "\n",
    "Additionally, the column names are currently a mix of uppercase and lowercase letters. Standardizing the column names to lowercase will also be handled in Section 2."
   ]
  },
  {
   "cell_type": "markdown",
   "metadata": {},
   "source": [
    "[Back to Contents](#contents)"
   ]
  },
  {
   "cell_type": "markdown",
   "metadata": {},
   "source": [
    "## Data Preparation"
   ]
  },
  {
   "cell_type": "markdown",
   "metadata": {},
   "source": [
    "This section focuses on data preparation prior to analysis. As highlighted in the previous section, the dataset still contains missing values, incorrect data types, and inconsistent column naming. In addition to addressing these three issues, duplicate entries will also be examined."
   ]
  },
  {
   "cell_type": "markdown",
   "metadata": {},
   "source": [
    "### Column Naming"
   ]
  },
  {
   "cell_type": "code",
   "execution_count": 4,
   "metadata": {},
   "outputs": [
    {
     "data": {
      "text/html": [
       "<div>\n",
       "<style scoped>\n",
       "    .dataframe tbody tr th:only-of-type {\n",
       "        vertical-align: middle;\n",
       "    }\n",
       "\n",
       "    .dataframe tbody tr th {\n",
       "        vertical-align: top;\n",
       "    }\n",
       "\n",
       "    .dataframe thead th {\n",
       "        text-align: right;\n",
       "    }\n",
       "</style>\n",
       "<table border=\"1\" class=\"dataframe\">\n",
       "  <thead>\n",
       "    <tr style=\"text-align: right;\">\n",
       "      <th></th>\n",
       "      <th>name</th>\n",
       "      <th>platform</th>\n",
       "      <th>year_of_release</th>\n",
       "      <th>genre</th>\n",
       "      <th>na_sales</th>\n",
       "      <th>eu_sales</th>\n",
       "      <th>jp_sales</th>\n",
       "      <th>other_sales</th>\n",
       "      <th>critic_score</th>\n",
       "      <th>user_score</th>\n",
       "      <th>rating</th>\n",
       "    </tr>\n",
       "  </thead>\n",
       "  <tbody>\n",
       "    <tr>\n",
       "      <th>0</th>\n",
       "      <td>Wii Sports</td>\n",
       "      <td>Wii</td>\n",
       "      <td>2006.0</td>\n",
       "      <td>Sports</td>\n",
       "      <td>41.36</td>\n",
       "      <td>28.96</td>\n",
       "      <td>3.77</td>\n",
       "      <td>8.45</td>\n",
       "      <td>76.0</td>\n",
       "      <td>8</td>\n",
       "      <td>E</td>\n",
       "    </tr>\n",
       "    <tr>\n",
       "      <th>1</th>\n",
       "      <td>Super Mario Bros.</td>\n",
       "      <td>NES</td>\n",
       "      <td>1985.0</td>\n",
       "      <td>Platform</td>\n",
       "      <td>29.08</td>\n",
       "      <td>3.58</td>\n",
       "      <td>6.81</td>\n",
       "      <td>0.77</td>\n",
       "      <td>NaN</td>\n",
       "      <td>NaN</td>\n",
       "      <td>NaN</td>\n",
       "    </tr>\n",
       "    <tr>\n",
       "      <th>2</th>\n",
       "      <td>Mario Kart Wii</td>\n",
       "      <td>Wii</td>\n",
       "      <td>2008.0</td>\n",
       "      <td>Racing</td>\n",
       "      <td>15.68</td>\n",
       "      <td>12.76</td>\n",
       "      <td>3.79</td>\n",
       "      <td>3.29</td>\n",
       "      <td>82.0</td>\n",
       "      <td>8.3</td>\n",
       "      <td>E</td>\n",
       "    </tr>\n",
       "    <tr>\n",
       "      <th>3</th>\n",
       "      <td>Wii Sports Resort</td>\n",
       "      <td>Wii</td>\n",
       "      <td>2009.0</td>\n",
       "      <td>Sports</td>\n",
       "      <td>15.61</td>\n",
       "      <td>10.93</td>\n",
       "      <td>3.28</td>\n",
       "      <td>2.95</td>\n",
       "      <td>80.0</td>\n",
       "      <td>8</td>\n",
       "      <td>E</td>\n",
       "    </tr>\n",
       "    <tr>\n",
       "      <th>4</th>\n",
       "      <td>Pokemon Red/Pokemon Blue</td>\n",
       "      <td>GB</td>\n",
       "      <td>1996.0</td>\n",
       "      <td>Role-Playing</td>\n",
       "      <td>11.27</td>\n",
       "      <td>8.89</td>\n",
       "      <td>10.22</td>\n",
       "      <td>1.00</td>\n",
       "      <td>NaN</td>\n",
       "      <td>NaN</td>\n",
       "      <td>NaN</td>\n",
       "    </tr>\n",
       "  </tbody>\n",
       "</table>\n",
       "</div>"
      ],
      "text/plain": [
       "                       name platform  year_of_release         genre  na_sales  \\\n",
       "0                Wii Sports      Wii           2006.0        Sports     41.36   \n",
       "1         Super Mario Bros.      NES           1985.0      Platform     29.08   \n",
       "2            Mario Kart Wii      Wii           2008.0        Racing     15.68   \n",
       "3         Wii Sports Resort      Wii           2009.0        Sports     15.61   \n",
       "4  Pokemon Red/Pokemon Blue       GB           1996.0  Role-Playing     11.27   \n",
       "\n",
       "   eu_sales  jp_sales  other_sales  critic_score user_score rating  \n",
       "0     28.96      3.77         8.45          76.0          8      E  \n",
       "1      3.58      6.81         0.77           NaN        NaN    NaN  \n",
       "2     12.76      3.79         3.29          82.0        8.3      E  \n",
       "3     10.93      3.28         2.95          80.0          8      E  \n",
       "4      8.89     10.22         1.00           NaN        NaN    NaN  "
      ]
     },
     "execution_count": 4,
     "metadata": {},
     "output_type": "execute_result"
    }
   ],
   "source": [
    "# uniform column naming to lowercase\n",
    "df.columns = df.columns.str.lower()\n",
    "df.head()"
   ]
  },
  {
   "cell_type": "markdown",
   "metadata": {},
   "source": [
    "All column names are now in lowercase."
   ]
  },
  {
   "cell_type": "markdown",
   "metadata": {},
   "source": [
    "[Back to Data Preparation](#Data-Preparation)"
   ]
  },
  {
   "cell_type": "markdown",
   "metadata": {},
   "source": [
    "### Data Refinement"
   ]
  },
  {
   "cell_type": "markdown",
   "metadata": {},
   "source": [
    "In this section, the necessary adjustments will be made for each column in the dataset. These adjustments include handling missing values, changing data types, checking for duplicates, and making any other necessary modifications."
   ]
  },
  {
   "cell_type": "markdown",
   "metadata": {},
   "source": [
    "#### Column `name`"
   ]
  },
  {
   "cell_type": "code",
   "execution_count": 5,
   "metadata": {},
   "outputs": [
    {
     "data": {
      "text/plain": [
       "2"
      ]
     },
     "execution_count": 5,
     "metadata": {},
     "output_type": "execute_result"
    }
   ],
   "source": [
    "# check missing values on column 'name'\n",
    "df['name'].isnull().sum()"
   ]
  },
  {
   "cell_type": "code",
   "execution_count": 6,
   "metadata": {},
   "outputs": [
    {
     "data": {
      "text/html": [
       "<div>\n",
       "<style scoped>\n",
       "    .dataframe tbody tr th:only-of-type {\n",
       "        vertical-align: middle;\n",
       "    }\n",
       "\n",
       "    .dataframe tbody tr th {\n",
       "        vertical-align: top;\n",
       "    }\n",
       "\n",
       "    .dataframe thead th {\n",
       "        text-align: right;\n",
       "    }\n",
       "</style>\n",
       "<table border=\"1\" class=\"dataframe\">\n",
       "  <thead>\n",
       "    <tr style=\"text-align: right;\">\n",
       "      <th></th>\n",
       "      <th>name</th>\n",
       "      <th>platform</th>\n",
       "      <th>year_of_release</th>\n",
       "      <th>genre</th>\n",
       "      <th>na_sales</th>\n",
       "      <th>eu_sales</th>\n",
       "      <th>jp_sales</th>\n",
       "      <th>other_sales</th>\n",
       "      <th>critic_score</th>\n",
       "      <th>user_score</th>\n",
       "      <th>rating</th>\n",
       "    </tr>\n",
       "  </thead>\n",
       "  <tbody>\n",
       "    <tr>\n",
       "      <th>659</th>\n",
       "      <td>NaN</td>\n",
       "      <td>GEN</td>\n",
       "      <td>1993.0</td>\n",
       "      <td>NaN</td>\n",
       "      <td>1.78</td>\n",
       "      <td>0.53</td>\n",
       "      <td>0.00</td>\n",
       "      <td>0.08</td>\n",
       "      <td>NaN</td>\n",
       "      <td>NaN</td>\n",
       "      <td>NaN</td>\n",
       "    </tr>\n",
       "    <tr>\n",
       "      <th>14244</th>\n",
       "      <td>NaN</td>\n",
       "      <td>GEN</td>\n",
       "      <td>1993.0</td>\n",
       "      <td>NaN</td>\n",
       "      <td>0.00</td>\n",
       "      <td>0.00</td>\n",
       "      <td>0.03</td>\n",
       "      <td>0.00</td>\n",
       "      <td>NaN</td>\n",
       "      <td>NaN</td>\n",
       "      <td>NaN</td>\n",
       "    </tr>\n",
       "  </tbody>\n",
       "</table>\n",
       "</div>"
      ],
      "text/plain": [
       "      name platform  year_of_release genre  na_sales  eu_sales  jp_sales  \\\n",
       "659    NaN      GEN           1993.0   NaN      1.78      0.53      0.00   \n",
       "14244  NaN      GEN           1993.0   NaN      0.00      0.00      0.03   \n",
       "\n",
       "       other_sales  critic_score user_score rating  \n",
       "659           0.08           NaN        NaN    NaN  \n",
       "14244         0.00           NaN        NaN    NaN  "
      ]
     },
     "execution_count": 6,
     "metadata": {},
     "output_type": "execute_result"
    }
   ],
   "source": [
    "# display rows with missing values in column 'name'\n",
    "df[df['name'].isnull()]"
   ]
  },
  {
   "cell_type": "markdown",
   "metadata": {},
   "source": [
    "The number of missing values in the `name` column corresponds to the difference between its entries and the total number of entries in the dataset, amounting to 2 rows. Since this represents less than 1% of the entire dataset, it was decided to remove these two rows."
   ]
  },
  {
   "cell_type": "code",
   "execution_count": 7,
   "metadata": {},
   "outputs": [],
   "source": [
    "# eliminate rows with missing values in column 'name'\n",
    "df = df.dropna(subset=['name'])"
   ]
  },
  {
   "cell_type": "code",
   "execution_count": 8,
   "metadata": {},
   "outputs": [
    {
     "name": "stdout",
     "output_type": "stream",
     "text": [
      "missing values in column name: 0\n"
     ]
    }
   ],
   "source": [
    "# re-check missing values in column 'name'\n",
    "missing_name = df['name'].isnull().sum()\n",
    "print(\"missing values in column name:\", missing_name)"
   ]
  },
  {
   "cell_type": "markdown",
   "metadata": {},
   "source": [
    "There is now no more missing values in column `name`."
   ]
  },
  {
   "cell_type": "markdown",
   "metadata": {},
   "source": [
    "#### Column `year_of_release`"
   ]
  },
  {
   "cell_type": "code",
   "execution_count": 9,
   "metadata": {},
   "outputs": [
    {
     "data": {
      "text/plain": [
       "269"
      ]
     },
     "execution_count": 9,
     "metadata": {},
     "output_type": "execute_result"
    }
   ],
   "source": [
    "# check missing values in column 'year_of_release'\n",
    "df['year_of_release'].isnull().sum()"
   ]
  },
  {
   "cell_type": "markdown",
   "metadata": {},
   "source": [
    "There are 269 rows with missing values in the `year_of_release` column. Since the release year is not a critical variable for the hypothesis testing, the missing values will be imputed using the **median** of the overall release years. This approach allows us to retain all 269 rows without the need for deletion."
   ]
  },
  {
   "cell_type": "code",
   "execution_count": 10,
   "metadata": {},
   "outputs": [],
   "source": [
    "# display median of column 'year_of_release'\n",
    "median_year = df['year_of_release'].median()"
   ]
  },
  {
   "cell_type": "code",
   "execution_count": 11,
   "metadata": {},
   "outputs": [],
   "source": [
    "# replace missing values with median\n",
    "df['year_of_release'] = df['year_of_release'].fillna(median_year)"
   ]
  },
  {
   "cell_type": "code",
   "execution_count": 12,
   "metadata": {},
   "outputs": [
    {
     "name": "stdout",
     "output_type": "stream",
     "text": [
      "missing values in column year_of_release: 0\n"
     ]
    }
   ],
   "source": [
    "# re-check missing values in column 'year_of_release'\n",
    "missing_year = df['year_of_release'].isnull().sum()\n",
    "print(\"missing values in column year_of_release:\", missing_year)"
   ]
  },
  {
   "cell_type": "markdown",
   "metadata": {},
   "source": [
    "All missing values in column `year_of_release` have been replaced with median. The next necessary step for column `year_of_release` prior to analysis is the change of data type from float to integer. "
   ]
  },
  {
   "cell_type": "code",
   "execution_count": 13,
   "metadata": {},
   "outputs": [
    {
     "name": "stdout",
     "output_type": "stream",
     "text": [
      "<class 'pandas.core.frame.DataFrame'>\n",
      "Int64Index: 16713 entries, 0 to 16714\n",
      "Data columns (total 11 columns):\n",
      " #   Column           Non-Null Count  Dtype  \n",
      "---  ------           --------------  -----  \n",
      " 0   name             16713 non-null  object \n",
      " 1   platform         16713 non-null  object \n",
      " 2   year_of_release  16713 non-null  int64  \n",
      " 3   genre            16713 non-null  object \n",
      " 4   na_sales         16713 non-null  float64\n",
      " 5   eu_sales         16713 non-null  float64\n",
      " 6   jp_sales         16713 non-null  float64\n",
      " 7   other_sales      16713 non-null  float64\n",
      " 8   critic_score     8137 non-null   float64\n",
      " 9   user_score       10014 non-null  object \n",
      " 10  rating           9949 non-null   object \n",
      "dtypes: float64(5), int64(1), object(5)\n",
      "memory usage: 1.5+ MB\n"
     ]
    }
   ],
   "source": [
    "# change data type of 'year_of_release' to integer\n",
    "df['year_of_release'] = df['year_of_release'].astype('int')\n",
    "df.info()"
   ]
  },
  {
   "cell_type": "markdown",
   "metadata": {},
   "source": [
    "The data type of column `year_of_release` have been changed to integer. "
   ]
  },
  {
   "cell_type": "markdown",
   "metadata": {},
   "source": [
    "#### Column `genre`"
   ]
  },
  {
   "cell_type": "code",
   "execution_count": 14,
   "metadata": {},
   "outputs": [
    {
     "data": {
      "text/plain": [
       "0"
      ]
     },
     "execution_count": 14,
     "metadata": {},
     "output_type": "execute_result"
    }
   ],
   "source": [
    "# Check missing values in column 'genre'\n",
    "df['genre'].isnull().sum()"
   ]
  },
  {
   "cell_type": "markdown",
   "metadata": {},
   "source": [
    "The dataset contains 16,173 non-null entries, indicating the presence of two missing values. In Section 2.2.1, where rows with missing values in the `name`column are displayed, these two rows also show NaN values in the `genre` column. Since these rows were removed in Section 2.2.1, the issue of missing values in the 'genre' column has been automatically addressed."
   ]
  },
  {
   "cell_type": "markdown",
   "metadata": {},
   "source": [
    "#### Column `critic_score`"
   ]
  },
  {
   "cell_type": "code",
   "execution_count": 15,
   "metadata": {},
   "outputs": [
    {
     "data": {
      "text/plain": [
       "8576"
      ]
     },
     "execution_count": 15,
     "metadata": {},
     "output_type": "execute_result"
    }
   ],
   "source": [
    "# check missing values in column 'critic_score'\n",
    "df['critic_score'].isnull().sum()"
   ]
  },
  {
   "cell_type": "markdown",
   "metadata": {},
   "source": [
    "There are 8,576 missing values in the `critic_score` column, which is significant as it accounts for more than half of the dataset’s total entries. This column contains numeric data, which can substantially impact data analysis outcomes and hypothesis testing. To determine an appropriate replacement value, an examination of the data distribution in this column is necessary to establish a representative substitute. "
   ]
  },
  {
   "cell_type": "code",
   "execution_count": 16,
   "metadata": {},
   "outputs": [
    {
     "data": {
      "text/plain": [
       "count    8137.000000\n",
       "mean       68.967679\n",
       "std        13.938165\n",
       "min        13.000000\n",
       "25%        60.000000\n",
       "50%        71.000000\n",
       "75%        79.000000\n",
       "max        98.000000\n",
       "Name: critic_score, dtype: float64"
      ]
     },
     "execution_count": 16,
     "metadata": {},
     "output_type": "execute_result"
    }
   ],
   "source": [
    "# get description of column 'critic_score'\n",
    "df['critic_score'].describe()"
   ]
  },
  {
   "cell_type": "markdown",
   "metadata": {},
   "source": [
    "Overall, the data in this column exhibits a relatively low standard deviation, with an interquartile range that captures a substantial portion of the dataset. These characteristics suggest a distribution that approximates normality. Therefore, the **mean** value is likely a suitable and representative choice for imputing missing values."
   ]
  },
  {
   "cell_type": "code",
   "execution_count": 17,
   "metadata": {},
   "outputs": [],
   "source": [
    "# replace missing values with mean\n",
    "mean_critic_score = df['critic_score'].mean()\n",
    "df['critic_score'] = df['critic_score'].fillna(mean_critic_score)"
   ]
  },
  {
   "cell_type": "code",
   "execution_count": 18,
   "metadata": {},
   "outputs": [
    {
     "name": "stdout",
     "output_type": "stream",
     "text": [
      "Missing values in column critic_score: 0\n"
     ]
    }
   ],
   "source": [
    "# re-checking missing values in column 'critic_score'\n",
    "missing_critic_score = df['critic_score'].isnull().sum()\n",
    "print(\"Missing values in column critic_score:\", missing_critic_score)"
   ]
  },
  {
   "cell_type": "markdown",
   "metadata": {},
   "source": [
    "The missing values in the `critic_score` column have been successfully addressed."
   ]
  },
  {
   "cell_type": "markdown",
   "metadata": {},
   "source": [
    "#### Column `user_score`"
   ]
  },
  {
   "cell_type": "code",
   "execution_count": 19,
   "metadata": {},
   "outputs": [
    {
     "data": {
      "text/plain": [
       "6699"
      ]
     },
     "execution_count": 19,
     "metadata": {},
     "output_type": "execute_result"
    }
   ],
   "source": [
    "# check missing values in column 'user_score'\n",
    "df['user_score'].isnull().sum()"
   ]
  },
  {
   "cell_type": "markdown",
   "metadata": {},
   "source": [
    "The `user_score` column contains 6,699 missing values, which is substantial, accounting for nearly half of the dataset’s entries. This column contains numeric data that will influence the results of data analysis and hypothesis testing. To select a representative value for imputation, an examination of the data distribution in this column is necessary.\n",
    "\n",
    "However, the `user_score` column is currently stored as a string data type. Conversion to a float data type cannot proceed while missing values are present. Therefore, it is necessary to first inspect the unique values in the `user_score` column."
   ]
  },
  {
   "cell_type": "code",
   "execution_count": 20,
   "metadata": {},
   "outputs": [
    {
     "data": {
      "text/plain": [
       "array(['8', nan, '8.3', '8.5', '6.6', '8.4', '8.6', '7.7', '6.3', '7.4',\n",
       "       '8.2', '9', '7.9', '8.1', '8.7', '7.1', '3.4', '5.3', '4.8', '3.2',\n",
       "       '8.9', '6.4', '7.8', '7.5', '2.6', '7.2', '9.2', '7', '7.3', '4.3',\n",
       "       '7.6', '5.7', '5', '9.1', '6.5', 'tbd', '8.8', '6.9', '9.4', '6.8',\n",
       "       '6.1', '6.7', '5.4', '4', '4.9', '4.5', '9.3', '6.2', '4.2', '6',\n",
       "       '3.7', '4.1', '5.8', '5.6', '5.5', '4.4', '4.6', '5.9', '3.9',\n",
       "       '3.1', '2.9', '5.2', '3.3', '4.7', '5.1', '3.5', '2.5', '1.9', '3',\n",
       "       '2.7', '2.2', '2', '9.5', '2.1', '3.6', '2.8', '1.8', '3.8', '0',\n",
       "       '1.6', '9.6', '2.4', '1.7', '1.1', '0.3', '1.5', '0.7', '1.2',\n",
       "       '2.3', '0.5', '1.3', '0.2', '0.6', '1.4', '0.9', '1', '9.7'],\n",
       "      dtype=object)"
      ]
     },
     "execution_count": 20,
     "metadata": {},
     "output_type": "execute_result"
    }
   ],
   "source": [
    "# display unique values in column 'user_score'\n",
    "df['user_score'].unique()"
   ]
  },
  {
   "cell_type": "markdown",
   "metadata": {},
   "source": [
    "The list above reveals two non-numeric entries: 'nan' and 'tbd'. These entries prevent conversion to a float data type. Additionally, there are values below 1, which are inaccurate given the review scoring scale of 1–10.\n",
    "\n",
    "Both 'nan' and 'tbd' need to be replaced with numerical values that do not appear in the list of unique values to maintain clarity in the original dataset. It has been decided to replace these non-numeric values with \"0.\""
   ]
  },
  {
   "cell_type": "code",
   "execution_count": 21,
   "metadata": {},
   "outputs": [
    {
     "data": {
      "text/plain": [
       "array(['8', nan, '8.3', '8.5', '6.6', '8.4', '8.6', '7.7', '6.3', '7.4',\n",
       "       '8.2', '9', '7.9', '8.1', '8.7', '7.1', '3.4', '5.3', '4.8', '3.2',\n",
       "       '8.9', '6.4', '7.8', '7.5', '2.6', '7.2', '9.2', '7', '7.3', '4.3',\n",
       "       '7.6', '5.7', '5', '9.1', '6.5', '0', '8.8', '6.9', '9.4', '6.8',\n",
       "       '6.1', '6.7', '5.4', '4', '4.9', '4.5', '9.3', '6.2', '4.2', '6',\n",
       "       '3.7', '4.1', '5.8', '5.6', '5.5', '4.4', '4.6', '5.9', '3.9',\n",
       "       '3.1', '2.9', '5.2', '3.3', '4.7', '5.1', '3.5', '2.5', '1.9', '3',\n",
       "       '2.7', '2.2', '2', '9.5', '2.1', '3.6', '2.8', '1.8', '3.8', '1.6',\n",
       "       '9.6', '2.4', '1.7', '1.1', '0.3', '1.5', '0.7', '1.2', '2.3',\n",
       "       '0.5', '1.3', '0.2', '0.6', '1.4', '0.9', '1', '9.7'], dtype=object)"
      ]
     },
     "execution_count": 21,
     "metadata": {},
     "output_type": "execute_result"
    }
   ],
   "source": [
    "# replace 'nan' and 'tbd' with '0'\n",
    "df['user_score'] = df['user_score'].replace(['nan', 'tbd'], '0')\n",
    "df['user_score'].unique()"
   ]
  },
  {
   "cell_type": "markdown",
   "metadata": {},
   "source": [
    "The 'tbd' value is no longer present in the list, indicating that rows previously containing 'tbd' have now been converted to '0'. However, 'nan' values are still visible. It is possible that these rows had no input provided in the `user_score` column at the time of data collection. To verify this, an attempt to convert the data type to float will be conducted. If this assumption is correct, the data type conversion for `user_score` should proceed successfully."
   ]
  },
  {
   "cell_type": "code",
   "execution_count": 22,
   "metadata": {},
   "outputs": [
    {
     "name": "stdout",
     "output_type": "stream",
     "text": [
      "<class 'pandas.core.frame.DataFrame'>\n",
      "Int64Index: 16713 entries, 0 to 16714\n",
      "Data columns (total 11 columns):\n",
      " #   Column           Non-Null Count  Dtype  \n",
      "---  ------           --------------  -----  \n",
      " 0   name             16713 non-null  object \n",
      " 1   platform         16713 non-null  object \n",
      " 2   year_of_release  16713 non-null  int64  \n",
      " 3   genre            16713 non-null  object \n",
      " 4   na_sales         16713 non-null  float64\n",
      " 5   eu_sales         16713 non-null  float64\n",
      " 6   jp_sales         16713 non-null  float64\n",
      " 7   other_sales      16713 non-null  float64\n",
      " 8   critic_score     16713 non-null  float64\n",
      " 9   user_score       10014 non-null  float64\n",
      " 10  rating           9949 non-null   object \n",
      "dtypes: float64(6), int64(1), object(4)\n",
      "memory usage: 1.5+ MB\n"
     ]
    }
   ],
   "source": [
    "# convert 'user_score' data type to float\n",
    "df['user_score'] = df['user_score'].astype(float)\n",
    "df.info()"
   ]
  },
  {
   "cell_type": "markdown",
   "metadata": {},
   "source": [
    "The data type for the `user_score` column has successfully been converted to float. A difference of 6,161 non-null values remains when compared to the total number of entries, suggesting that these 6,161 rows still contain 'nan' values. The following code cell addresses this by imputing values for these rows."
   ]
  },
  {
   "cell_type": "code",
   "execution_count": 23,
   "metadata": {},
   "outputs": [
    {
     "name": "stdout",
     "output_type": "stream",
     "text": [
      "<class 'pandas.core.frame.DataFrame'>\n",
      "Int64Index: 16713 entries, 0 to 16714\n",
      "Data columns (total 11 columns):\n",
      " #   Column           Non-Null Count  Dtype  \n",
      "---  ------           --------------  -----  \n",
      " 0   name             16713 non-null  object \n",
      " 1   platform         16713 non-null  object \n",
      " 2   year_of_release  16713 non-null  int64  \n",
      " 3   genre            16713 non-null  object \n",
      " 4   na_sales         16713 non-null  float64\n",
      " 5   eu_sales         16713 non-null  float64\n",
      " 6   jp_sales         16713 non-null  float64\n",
      " 7   other_sales      16713 non-null  float64\n",
      " 8   critic_score     16713 non-null  float64\n",
      " 9   user_score       16713 non-null  float64\n",
      " 10  rating           9949 non-null   object \n",
      "dtypes: float64(6), int64(1), object(4)\n",
      "memory usage: 1.5+ MB\n"
     ]
    }
   ],
   "source": [
    "# replace 'nan' with 0\n",
    "df['user_score'] = df['user_score'].fillna(0)\n",
    "\n",
    "#check dataset general info\n",
    "df.info()"
   ]
  },
  {
   "cell_type": "markdown",
   "metadata": {},
   "source": [
    "The non-null count for the `user_score` column now matches the total entry count."
   ]
  },
  {
   "cell_type": "code",
   "execution_count": 24,
   "metadata": {
    "scrolled": true
   },
   "outputs": [
    {
     "data": {
      "text/plain": [
       "array([8. , 0. , 8.3, 8.5, 6.6, 8.4, 8.6, 7.7, 6.3, 7.4, 8.2, 9. , 7.9,\n",
       "       8.1, 8.7, 7.1, 3.4, 5.3, 4.8, 3.2, 8.9, 6.4, 7.8, 7.5, 2.6, 7.2,\n",
       "       9.2, 7. , 7.3, 4.3, 7.6, 5.7, 5. , 9.1, 6.5, 8.8, 6.9, 9.4, 6.8,\n",
       "       6.1, 6.7, 5.4, 4. , 4.9, 4.5, 9.3, 6.2, 4.2, 6. , 3.7, 4.1, 5.8,\n",
       "       5.6, 5.5, 4.4, 4.6, 5.9, 3.9, 3.1, 2.9, 5.2, 3.3, 4.7, 5.1, 3.5,\n",
       "       2.5, 1.9, 3. , 2.7, 2.2, 2. , 9.5, 2.1, 3.6, 2.8, 1.8, 3.8, 1.6,\n",
       "       9.6, 2.4, 1.7, 1.1, 0.3, 1.5, 0.7, 1.2, 2.3, 0.5, 1.3, 0.2, 0.6,\n",
       "       1.4, 0.9, 1. , 9.7])"
      ]
     },
     "execution_count": 24,
     "metadata": {},
     "output_type": "execute_result"
    }
   ],
   "source": [
    "# check unique values to find if missing value remains\n",
    "df['user_score'].unique()"
   ]
  },
  {
   "cell_type": "markdown",
   "metadata": {},
   "source": [
    "There are no longer any 'nan' or other non-numeric values in the 'user_score' column."
   ]
  },
  {
   "cell_type": "code",
   "execution_count": 25,
   "metadata": {},
   "outputs": [
    {
     "data": {
      "text/plain": [
       "array([8. , 0. , 8.3, 8.5, 6.6, 8.4, 8.6, 7.7, 6.3, 7.4, 8.2, 9. , 7.9,\n",
       "       8.1, 8.7, 7.1, 3.4, 5.3, 4.8, 3.2, 8.9, 6.4, 7.8, 7.5, 2.6, 7.2,\n",
       "       9.2, 7. , 7.3, 4.3, 7.6, 5.7, 5. , 9.1, 6.5, 8.8, 6.9, 9.4, 6.8,\n",
       "       6.1, 6.7, 5.4, 4. , 4.9, 4.5, 9.3, 6.2, 4.2, 6. , 3.7, 4.1, 5.8,\n",
       "       5.6, 5.5, 4.4, 4.6, 5.9, 3.9, 3.1, 2.9, 5.2, 3.3, 4.7, 5.1, 3.5,\n",
       "       2.5, 1.9, 3. , 2.7, 2.2, 2. , 9.5, 2.1, 3.6, 2.8, 1.8, 3.8, 1.6,\n",
       "       9.6, 2.4, 1.7, 1.1, 1.5, 1.2, 2.3, 1.3, 1.4, 1. , 9.7])"
      ]
     },
     "execution_count": 25,
     "metadata": {},
     "output_type": "execute_result"
    }
   ],
   "source": [
    "#  replace values < 1 with '0'\n",
    "df['user_score'] = np.where(df['user_score'] < 1, 0, df['user_score'])\n",
    "\n",
    "# display unique values\n",
    "df['user_score'].unique()"
   ]
  },
  {
   "cell_type": "markdown",
   "metadata": {},
   "source": [
    "Values below 1 have been eliminated. The next step is to replace '0' values, which were temporarily used to enable the data type conversion to float. These placeholders need to be replaced with a representative value, either the mean or median. To obtain an accurate measure of the mean and median, a **separate dataset excluding rows with '0'** values will be created."
   ]
  },
  {
   "cell_type": "code",
   "execution_count": 26,
   "metadata": {},
   "outputs": [
    {
     "data": {
      "text/plain": [
       "count    7577.000000\n",
       "mean        7.136426\n",
       "std         1.475851\n",
       "min         1.000000\n",
       "25%         6.400000\n",
       "50%         7.500000\n",
       "75%         8.200000\n",
       "max         9.700000\n",
       "Name: user_score, dtype: float64"
      ]
     },
     "execution_count": 26,
     "metadata": {},
     "output_type": "execute_result"
    }
   ],
   "source": [
    "# temporary dataset for rows in column 'user_score' with values >0\n",
    "temp_user = df[df['user_score'] > 0]\n",
    "\n",
    "# show description of temp_user\n",
    "temp_user['user_score'].describe()"
   ]
  },
  {
   "cell_type": "markdown",
   "metadata": {},
   "source": [
    "The above description reveals a relatively small standard deviation, along with an interquartile range that covers a substantial proportion of the data. These indicators suggest a normal distribution, making the mean an appropriate choice for imputing missing values."
   ]
  },
  {
   "cell_type": "code",
   "execution_count": 27,
   "metadata": {},
   "outputs": [
    {
     "data": {
      "text/plain": [
       "array([8.        , 7.13642603, 8.3       , 8.5       , 6.6       ,\n",
       "       8.4       , 8.6       , 7.7       , 6.3       , 7.4       ,\n",
       "       8.2       , 9.        , 7.9       , 8.1       , 8.7       ,\n",
       "       7.1       , 3.4       , 5.3       , 4.8       , 3.2       ,\n",
       "       8.9       , 6.4       , 7.8       , 7.5       , 2.6       ,\n",
       "       7.2       , 9.2       , 7.        , 7.3       , 4.3       ,\n",
       "       7.6       , 5.7       , 5.        , 9.1       , 6.5       ,\n",
       "       8.8       , 6.9       , 9.4       , 6.8       , 6.1       ,\n",
       "       6.7       , 5.4       , 4.        , 4.9       , 4.5       ,\n",
       "       9.3       , 6.2       , 4.2       , 6.        , 3.7       ,\n",
       "       4.1       , 5.8       , 5.6       , 5.5       , 4.4       ,\n",
       "       4.6       , 5.9       , 3.9       , 3.1       , 2.9       ,\n",
       "       5.2       , 3.3       , 4.7       , 5.1       , 3.5       ,\n",
       "       2.5       , 1.9       , 3.        , 2.7       , 2.2       ,\n",
       "       2.        , 9.5       , 2.1       , 3.6       , 2.8       ,\n",
       "       1.8       , 3.8       , 1.6       , 9.6       , 2.4       ,\n",
       "       1.7       , 1.1       , 1.5       , 1.2       , 2.3       ,\n",
       "       1.3       , 1.4       , 1.        , 9.7       ])"
      ]
     },
     "execution_count": 27,
     "metadata": {},
     "output_type": "execute_result"
    }
   ],
   "source": [
    "# change value '99' with mean value\n",
    "user_mean = temp_user['user_score'].mean()\n",
    "df['user_score'] = df['user_score'].replace(0, user_mean)\n",
    "df['user_score'].unique()"
   ]
  },
  {
   "cell_type": "markdown",
   "metadata": {},
   "source": [
    "All missing values have been replaced with the mean. There are now no zero values, values below 1, or missing entries in the `user_score` column."
   ]
  },
  {
   "cell_type": "markdown",
   "metadata": {},
   "source": [
    "#### Column `rating`"
   ]
  },
  {
   "cell_type": "markdown",
   "metadata": {},
   "source": [
    "The `rating` column contains age rating information as determined by the ESRB (Entertainment Software Rating Board), the globally recognized regulatory authority. The age rating categories in this dataframe should ideally be stored as strings (object type), so the data type will be converted in the following code cell."
   ]
  },
  {
   "cell_type": "code",
   "execution_count": 28,
   "metadata": {},
   "outputs": [
    {
     "name": "stdout",
     "output_type": "stream",
     "text": [
      "<class 'pandas.core.frame.DataFrame'>\n",
      "Int64Index: 16713 entries, 0 to 16714\n",
      "Data columns (total 11 columns):\n",
      " #   Column           Non-Null Count  Dtype  \n",
      "---  ------           --------------  -----  \n",
      " 0   name             16713 non-null  object \n",
      " 1   platform         16713 non-null  object \n",
      " 2   year_of_release  16713 non-null  int64  \n",
      " 3   genre            16713 non-null  object \n",
      " 4   na_sales         16713 non-null  float64\n",
      " 5   eu_sales         16713 non-null  float64\n",
      " 6   jp_sales         16713 non-null  float64\n",
      " 7   other_sales      16713 non-null  float64\n",
      " 8   critic_score     16713 non-null  float64\n",
      " 9   user_score       16713 non-null  float64\n",
      " 10  rating           16713 non-null  object \n",
      "dtypes: float64(6), int64(1), object(4)\n",
      "memory usage: 1.5+ MB\n"
     ]
    }
   ],
   "source": [
    "# convert 'rating' to string\n",
    "df['rating'] = df['rating'].astype('str')\n",
    "df.info()"
   ]
  },
  {
   "cell_type": "markdown",
   "metadata": {},
   "source": [
    "Data type in column `rating` has been successfully converted to object"
   ]
  },
  {
   "cell_type": "code",
   "execution_count": 29,
   "metadata": {},
   "outputs": [
    {
     "data": {
      "text/plain": [
       "0"
      ]
     },
     "execution_count": 29,
     "metadata": {},
     "output_type": "execute_result"
    }
   ],
   "source": [
    "# check missing values in column 'rating'\n",
    "df['rating'].isnull().sum()"
   ]
  },
  {
   "cell_type": "markdown",
   "metadata": {},
   "source": [
    "The results indicate no missing values in the `rating` column. However, since a data type conversion was recently applied, it’s possible that values originally missing as integers (potentially recorded as 'NaN') are no longer recognized as missing due to the conversion to string type. Thus, a review of unique values is necessary."
   ]
  },
  {
   "cell_type": "code",
   "execution_count": 30,
   "metadata": {},
   "outputs": [
    {
     "data": {
      "text/plain": [
       "nan     6764\n",
       "E       3990\n",
       "T       2961\n",
       "M       1563\n",
       "E10+    1420\n",
       "EC         8\n",
       "K-A        3\n",
       "RP         3\n",
       "AO         1\n",
       "Name: rating, dtype: int64"
      ]
     },
     "execution_count": 30,
     "metadata": {},
     "output_type": "execute_result"
    }
   ],
   "source": [
    "# display unique values in column 'rating'\n",
    "df['rating'].value_counts()"
   ]
  },
  {
   "cell_type": "markdown",
   "metadata": {},
   "source": [
    "There are 6,764 'nan' values in the `rating` column, comprising approximately 41% of the dataset’s entries. As this column contains categorical data, these 'nan' values will be replaced with 'unknown' to ensure clarity."
   ]
  },
  {
   "cell_type": "code",
   "execution_count": 31,
   "metadata": {},
   "outputs": [
    {
     "data": {
      "text/plain": [
       "unknown    6764\n",
       "E          3990\n",
       "T          2961\n",
       "M          1563\n",
       "E10+       1420\n",
       "EC            8\n",
       "K-A           3\n",
       "RP            3\n",
       "AO            1\n",
       "Name: rating, dtype: int64"
      ]
     },
     "execution_count": 31,
     "metadata": {},
     "output_type": "execute_result"
    }
   ],
   "source": [
    "# replace 'nan' with 'unknown'\n",
    "df['rating'] = df['rating'].replace('nan', 'unknown')\n",
    "df['rating'].value_counts()"
   ]
  },
  {
   "cell_type": "markdown",
   "metadata": {},
   "source": [
    "All missing values in the `rating` column have been successfully replaced with 'unknown.'\n",
    "\n",
    "The next task is to standardize ratings still labeled \"K-A.\" This label, short for \"Kids to Adult,\" was used in the ESRB rating system until 1998. In 1999, the ESRB updated its system, replacing the K-A label with E.\n",
    "\n",
    "Games still labeled K-A are likely those released before 1999 without any subsequent editions. Therefore, all entries with a K-A rating will be updated to E for consistency."
   ]
  },
  {
   "cell_type": "code",
   "execution_count": 32,
   "metadata": {},
   "outputs": [
    {
     "data": {
      "text/plain": [
       "unknown    6764\n",
       "E          3993\n",
       "T          2961\n",
       "M          1563\n",
       "E10+       1420\n",
       "EC            8\n",
       "RP            3\n",
       "AO            1\n",
       "Name: rating, dtype: int64"
      ]
     },
     "execution_count": 32,
     "metadata": {},
     "output_type": "execute_result"
    }
   ],
   "source": [
    "# replace 'K-A' with 'E'\n",
    "df['rating'] = df['rating'].replace('K-A', 'E')\n",
    "df['rating'].value_counts()"
   ]
  },
  {
   "cell_type": "markdown",
   "metadata": {},
   "source": [
    "There are no longer any games labeled with the K-A rating. The count of games labeled E has increased accordingly."
   ]
  },
  {
   "cell_type": "markdown",
   "metadata": {},
   "source": [
    "#### Duplicates"
   ]
  },
  {
   "cell_type": "code",
   "execution_count": 33,
   "metadata": {},
   "outputs": [
    {
     "name": "stdout",
     "output_type": "stream",
     "text": [
      "Duplicates in dataframe:  0\n"
     ]
    }
   ],
   "source": [
    "# inspect duplicates\n",
    "print('Duplicates in dataframe: ', df.duplicated().sum())"
   ]
  },
  {
   "cell_type": "markdown",
   "metadata": {},
   "source": [
    " There are no duplicate entries in the complete dataframe."
   ]
  },
  {
   "cell_type": "markdown",
   "metadata": {},
   "source": [
    "[Back to Data Preparation](#Data-Preparation)"
   ]
  },
  {
   "cell_type": "markdown",
   "metadata": {},
   "source": [
    "### Data Quality Enhancement"
   ]
  },
  {
   "cell_type": "markdown",
   "metadata": {},
   "source": [
    "Issues with inconsistent formatting, missing values, data type errors, and duplicates have been resolved. This section will address necessary transformations to facilitate the analysis phase.\n",
    "\n",
    "Currently, no column aggregates total sales across the four regions. Total sales is a key variable for hypothesis testing, so a new column, `total_sales`, will be added to capture this information."
   ]
  },
  {
   "cell_type": "code",
   "execution_count": 34,
   "metadata": {},
   "outputs": [
    {
     "data": {
      "text/html": [
       "<div>\n",
       "<style scoped>\n",
       "    .dataframe tbody tr th:only-of-type {\n",
       "        vertical-align: middle;\n",
       "    }\n",
       "\n",
       "    .dataframe tbody tr th {\n",
       "        vertical-align: top;\n",
       "    }\n",
       "\n",
       "    .dataframe thead th {\n",
       "        text-align: right;\n",
       "    }\n",
       "</style>\n",
       "<table border=\"1\" class=\"dataframe\">\n",
       "  <thead>\n",
       "    <tr style=\"text-align: right;\">\n",
       "      <th></th>\n",
       "      <th>name</th>\n",
       "      <th>platform</th>\n",
       "      <th>year_of_release</th>\n",
       "      <th>genre</th>\n",
       "      <th>na_sales</th>\n",
       "      <th>eu_sales</th>\n",
       "      <th>jp_sales</th>\n",
       "      <th>other_sales</th>\n",
       "      <th>critic_score</th>\n",
       "      <th>user_score</th>\n",
       "      <th>rating</th>\n",
       "      <th>total_sales</th>\n",
       "    </tr>\n",
       "  </thead>\n",
       "  <tbody>\n",
       "    <tr>\n",
       "      <th>0</th>\n",
       "      <td>Wii Sports</td>\n",
       "      <td>Wii</td>\n",
       "      <td>2006</td>\n",
       "      <td>Sports</td>\n",
       "      <td>41.36</td>\n",
       "      <td>28.96</td>\n",
       "      <td>3.77</td>\n",
       "      <td>8.45</td>\n",
       "      <td>76.000000</td>\n",
       "      <td>8.000000</td>\n",
       "      <td>E</td>\n",
       "      <td>82.54</td>\n",
       "    </tr>\n",
       "    <tr>\n",
       "      <th>1</th>\n",
       "      <td>Super Mario Bros.</td>\n",
       "      <td>NES</td>\n",
       "      <td>1985</td>\n",
       "      <td>Platform</td>\n",
       "      <td>29.08</td>\n",
       "      <td>3.58</td>\n",
       "      <td>6.81</td>\n",
       "      <td>0.77</td>\n",
       "      <td>68.967679</td>\n",
       "      <td>7.136426</td>\n",
       "      <td>unknown</td>\n",
       "      <td>40.24</td>\n",
       "    </tr>\n",
       "    <tr>\n",
       "      <th>2</th>\n",
       "      <td>Mario Kart Wii</td>\n",
       "      <td>Wii</td>\n",
       "      <td>2008</td>\n",
       "      <td>Racing</td>\n",
       "      <td>15.68</td>\n",
       "      <td>12.76</td>\n",
       "      <td>3.79</td>\n",
       "      <td>3.29</td>\n",
       "      <td>82.000000</td>\n",
       "      <td>8.300000</td>\n",
       "      <td>E</td>\n",
       "      <td>35.52</td>\n",
       "    </tr>\n",
       "    <tr>\n",
       "      <th>3</th>\n",
       "      <td>Wii Sports Resort</td>\n",
       "      <td>Wii</td>\n",
       "      <td>2009</td>\n",
       "      <td>Sports</td>\n",
       "      <td>15.61</td>\n",
       "      <td>10.93</td>\n",
       "      <td>3.28</td>\n",
       "      <td>2.95</td>\n",
       "      <td>80.000000</td>\n",
       "      <td>8.000000</td>\n",
       "      <td>E</td>\n",
       "      <td>32.77</td>\n",
       "    </tr>\n",
       "    <tr>\n",
       "      <th>4</th>\n",
       "      <td>Pokemon Red/Pokemon Blue</td>\n",
       "      <td>GB</td>\n",
       "      <td>1996</td>\n",
       "      <td>Role-Playing</td>\n",
       "      <td>11.27</td>\n",
       "      <td>8.89</td>\n",
       "      <td>10.22</td>\n",
       "      <td>1.00</td>\n",
       "      <td>68.967679</td>\n",
       "      <td>7.136426</td>\n",
       "      <td>unknown</td>\n",
       "      <td>31.38</td>\n",
       "    </tr>\n",
       "  </tbody>\n",
       "</table>\n",
       "</div>"
      ],
      "text/plain": [
       "                       name platform  year_of_release         genre  na_sales  \\\n",
       "0                Wii Sports      Wii             2006        Sports     41.36   \n",
       "1         Super Mario Bros.      NES             1985      Platform     29.08   \n",
       "2            Mario Kart Wii      Wii             2008        Racing     15.68   \n",
       "3         Wii Sports Resort      Wii             2009        Sports     15.61   \n",
       "4  Pokemon Red/Pokemon Blue       GB             1996  Role-Playing     11.27   \n",
       "\n",
       "   eu_sales  jp_sales  other_sales  critic_score  user_score   rating  \\\n",
       "0     28.96      3.77         8.45     76.000000    8.000000        E   \n",
       "1      3.58      6.81         0.77     68.967679    7.136426  unknown   \n",
       "2     12.76      3.79         3.29     82.000000    8.300000        E   \n",
       "3     10.93      3.28         2.95     80.000000    8.000000        E   \n",
       "4      8.89     10.22         1.00     68.967679    7.136426  unknown   \n",
       "\n",
       "   total_sales  \n",
       "0        82.54  \n",
       "1        40.24  \n",
       "2        35.52  \n",
       "3        32.77  \n",
       "4        31.38  "
      ]
     },
     "execution_count": 34,
     "metadata": {},
     "output_type": "execute_result"
    }
   ],
   "source": [
    "# new column for total sales across all regions\n",
    "df['total_sales'] = df['na_sales'] + df['jp_sales'] + df['eu_sales'] + df['other_sales']\n",
    "df.head()"
   ]
  },
  {
   "cell_type": "code",
   "execution_count": 35,
   "metadata": {},
   "outputs": [
    {
     "name": "stdout",
     "output_type": "stream",
     "text": [
      "<class 'pandas.core.frame.DataFrame'>\n",
      "Int64Index: 16713 entries, 0 to 16714\n",
      "Data columns (total 12 columns):\n",
      " #   Column           Non-Null Count  Dtype  \n",
      "---  ------           --------------  -----  \n",
      " 0   name             16713 non-null  object \n",
      " 1   platform         16713 non-null  object \n",
      " 2   year_of_release  16713 non-null  int64  \n",
      " 3   genre            16713 non-null  object \n",
      " 4   na_sales         16713 non-null  float64\n",
      " 5   eu_sales         16713 non-null  float64\n",
      " 6   jp_sales         16713 non-null  float64\n",
      " 7   other_sales      16713 non-null  float64\n",
      " 8   critic_score     16713 non-null  float64\n",
      " 9   user_score       16713 non-null  float64\n",
      " 10  rating           16713 non-null  object \n",
      " 11  total_sales      16713 non-null  float64\n",
      "dtypes: float64(7), int64(1), object(4)\n",
      "memory usage: 1.7+ MB\n"
     ]
    }
   ],
   "source": [
    "# dataframe general info \n",
    "df.info()"
   ]
  },
  {
   "cell_type": "markdown",
   "metadata": {},
   "source": [
    "After a series of corrections and transformations, the updated dataframe now contains 11 columns and 16,713 rows. There are no missing values, and all columns have appropriate data types. Additionally, a new column has been added to reflect total sales across the four regional categories. This refined dataset is now ready for the next phase, which involves analysis and hypothesis testing."
   ]
  },
  {
   "cell_type": "markdown",
   "metadata": {},
   "source": [
    "[Back to Contents](#contents)"
   ]
  },
  {
   "cell_type": "markdown",
   "metadata": {},
   "source": [
    "## Analysis"
   ]
  },
  {
   "cell_type": "markdown",
   "metadata": {},
   "source": [
    "### Production Trend by Platform"
   ]
  },
  {
   "cell_type": "markdown",
   "metadata": {},
   "source": [
    "The dataset contains information on game sales over an extended period. Annual data intervals are too granular for effectively analyzing shifts in market preferences. Before establishing an appropriate interval size, it is essential to examine the variation in unique values within the release year column."
   ]
  },
  {
   "cell_type": "code",
   "execution_count": 36,
   "metadata": {},
   "outputs": [
    {
     "data": {
      "text/plain": [
       "array([2006, 1985, 2008, 2009, 1996, 1989, 1984, 2005, 1999, 2007, 2010,\n",
       "       2013, 2004, 1990, 1988, 2002, 2001, 2011, 1998, 2015, 2012, 2014,\n",
       "       1992, 1997, 1993, 1994, 1982, 2016, 2003, 1986, 2000, 1995, 1991,\n",
       "       1981, 1987, 1980, 1983])"
      ]
     },
     "execution_count": 36,
     "metadata": {},
     "output_type": "execute_result"
    }
   ],
   "source": [
    "# check unique values in column 'year_of_release'\n",
    "df['year_of_release'].unique()"
   ]
  },
  {
   "cell_type": "markdown",
   "metadata": {},
   "source": [
    "he variation in release years within this dataset is substantial. To gain clearer insights into sales trends, it is necessary to categorize the release years into smaller data groups."
   ]
  },
  {
   "cell_type": "code",
   "execution_count": 37,
   "metadata": {
    "scrolled": true
   },
   "outputs": [
    {
     "data": {
      "text/html": [
       "<div>\n",
       "<style scoped>\n",
       "    .dataframe tbody tr th:only-of-type {\n",
       "        vertical-align: middle;\n",
       "    }\n",
       "\n",
       "    .dataframe tbody tr th {\n",
       "        vertical-align: top;\n",
       "    }\n",
       "\n",
       "    .dataframe thead th {\n",
       "        text-align: right;\n",
       "    }\n",
       "</style>\n",
       "<table border=\"1\" class=\"dataframe\">\n",
       "  <thead>\n",
       "    <tr style=\"text-align: right;\">\n",
       "      <th></th>\n",
       "      <th>name</th>\n",
       "      <th>platform</th>\n",
       "      <th>year_of_release</th>\n",
       "      <th>genre</th>\n",
       "      <th>na_sales</th>\n",
       "      <th>eu_sales</th>\n",
       "      <th>jp_sales</th>\n",
       "      <th>other_sales</th>\n",
       "      <th>critic_score</th>\n",
       "      <th>user_score</th>\n",
       "      <th>rating</th>\n",
       "      <th>total_sales</th>\n",
       "      <th>decade</th>\n",
       "    </tr>\n",
       "  </thead>\n",
       "  <tbody>\n",
       "    <tr>\n",
       "      <th>0</th>\n",
       "      <td>Wii Sports</td>\n",
       "      <td>Wii</td>\n",
       "      <td>2006</td>\n",
       "      <td>Sports</td>\n",
       "      <td>41.36</td>\n",
       "      <td>28.96</td>\n",
       "      <td>3.77</td>\n",
       "      <td>8.45</td>\n",
       "      <td>76.000000</td>\n",
       "      <td>8.000000</td>\n",
       "      <td>E</td>\n",
       "      <td>82.54</td>\n",
       "      <td>2000s</td>\n",
       "    </tr>\n",
       "    <tr>\n",
       "      <th>1</th>\n",
       "      <td>Super Mario Bros.</td>\n",
       "      <td>NES</td>\n",
       "      <td>1985</td>\n",
       "      <td>Platform</td>\n",
       "      <td>29.08</td>\n",
       "      <td>3.58</td>\n",
       "      <td>6.81</td>\n",
       "      <td>0.77</td>\n",
       "      <td>68.967679</td>\n",
       "      <td>7.136426</td>\n",
       "      <td>unknown</td>\n",
       "      <td>40.24</td>\n",
       "      <td>1980s</td>\n",
       "    </tr>\n",
       "    <tr>\n",
       "      <th>2</th>\n",
       "      <td>Mario Kart Wii</td>\n",
       "      <td>Wii</td>\n",
       "      <td>2008</td>\n",
       "      <td>Racing</td>\n",
       "      <td>15.68</td>\n",
       "      <td>12.76</td>\n",
       "      <td>3.79</td>\n",
       "      <td>3.29</td>\n",
       "      <td>82.000000</td>\n",
       "      <td>8.300000</td>\n",
       "      <td>E</td>\n",
       "      <td>35.52</td>\n",
       "      <td>2000s</td>\n",
       "    </tr>\n",
       "    <tr>\n",
       "      <th>3</th>\n",
       "      <td>Wii Sports Resort</td>\n",
       "      <td>Wii</td>\n",
       "      <td>2009</td>\n",
       "      <td>Sports</td>\n",
       "      <td>15.61</td>\n",
       "      <td>10.93</td>\n",
       "      <td>3.28</td>\n",
       "      <td>2.95</td>\n",
       "      <td>80.000000</td>\n",
       "      <td>8.000000</td>\n",
       "      <td>E</td>\n",
       "      <td>32.77</td>\n",
       "      <td>2000s</td>\n",
       "    </tr>\n",
       "    <tr>\n",
       "      <th>4</th>\n",
       "      <td>Pokemon Red/Pokemon Blue</td>\n",
       "      <td>GB</td>\n",
       "      <td>1996</td>\n",
       "      <td>Role-Playing</td>\n",
       "      <td>11.27</td>\n",
       "      <td>8.89</td>\n",
       "      <td>10.22</td>\n",
       "      <td>1.00</td>\n",
       "      <td>68.967679</td>\n",
       "      <td>7.136426</td>\n",
       "      <td>unknown</td>\n",
       "      <td>31.38</td>\n",
       "      <td>1990s</td>\n",
       "    </tr>\n",
       "  </tbody>\n",
       "</table>\n",
       "</div>"
      ],
      "text/plain": [
       "                       name platform  year_of_release         genre  na_sales  \\\n",
       "0                Wii Sports      Wii             2006        Sports     41.36   \n",
       "1         Super Mario Bros.      NES             1985      Platform     29.08   \n",
       "2            Mario Kart Wii      Wii             2008        Racing     15.68   \n",
       "3         Wii Sports Resort      Wii             2009        Sports     15.61   \n",
       "4  Pokemon Red/Pokemon Blue       GB             1996  Role-Playing     11.27   \n",
       "\n",
       "   eu_sales  jp_sales  other_sales  critic_score  user_score   rating  \\\n",
       "0     28.96      3.77         8.45     76.000000    8.000000        E   \n",
       "1      3.58      6.81         0.77     68.967679    7.136426  unknown   \n",
       "2     12.76      3.79         3.29     82.000000    8.300000        E   \n",
       "3     10.93      3.28         2.95     80.000000    8.000000        E   \n",
       "4      8.89     10.22         1.00     68.967679    7.136426  unknown   \n",
       "\n",
       "   total_sales decade  \n",
       "0        82.54  2000s  \n",
       "1        40.24  1980s  \n",
       "2        35.52  2000s  \n",
       "3        32.77  2000s  \n",
       "4        31.38  1990s  "
      ]
     },
     "execution_count": 37,
     "metadata": {},
     "output_type": "execute_result"
    }
   ],
   "source": [
    "# create function to categorize release year into decades\n",
    "def categorize_decade(year):\n",
    "    if 1980 <= year < 1990:\n",
    "        return '1980s'\n",
    "    elif 1990 <= year < 2000:\n",
    "        return '1990s'\n",
    "    elif 2000 <= year < 2010:\n",
    "        return '2000s'\n",
    "    else:\n",
    "        return '2010s'\n",
    "\n",
    "# apply function and store results in column 'decade'\n",
    "df['decade'] = df['year_of_release'].apply(categorize_decade)\n",
    "df.head()"
   ]
  },
  {
   "cell_type": "code",
   "execution_count": 38,
   "metadata": {},
   "outputs": [
    {
     "data": {
      "text/html": [
       "<div>\n",
       "<style scoped>\n",
       "    .dataframe tbody tr th:only-of-type {\n",
       "        vertical-align: middle;\n",
       "    }\n",
       "\n",
       "    .dataframe tbody tr th {\n",
       "        vertical-align: top;\n",
       "    }\n",
       "\n",
       "    .dataframe thead th {\n",
       "        text-align: right;\n",
       "    }\n",
       "</style>\n",
       "<table border=\"1\" class=\"dataframe\">\n",
       "  <thead>\n",
       "    <tr style=\"text-align: right;\">\n",
       "      <th></th>\n",
       "      <th>games_released</th>\n",
       "    </tr>\n",
       "    <tr>\n",
       "      <th>decade</th>\n",
       "      <th></th>\n",
       "    </tr>\n",
       "  </thead>\n",
       "  <tbody>\n",
       "    <tr>\n",
       "      <th>1980s</th>\n",
       "      <td>205</td>\n",
       "    </tr>\n",
       "    <tr>\n",
       "      <th>1990s</th>\n",
       "      <td>1769</td>\n",
       "    </tr>\n",
       "    <tr>\n",
       "      <th>2000s</th>\n",
       "      <td>9462</td>\n",
       "    </tr>\n",
       "    <tr>\n",
       "      <th>2010s</th>\n",
       "      <td>5277</td>\n",
       "    </tr>\n",
       "  </tbody>\n",
       "</table>\n",
       "</div>"
      ],
      "text/plain": [
       "        games_released\n",
       "decade                \n",
       "1980s              205\n",
       "1990s             1769\n",
       "2000s             9462\n",
       "2010s             5277"
      ]
     },
     "execution_count": 38,
     "metadata": {},
     "output_type": "execute_result"
    }
   ],
   "source": [
    "# number of games released per decade\n",
    "games_per_decade = df.pivot_table(index='decade', values='name', aggfunc='count')\n",
    "games_per_decade.columns = ['games_released']\n",
    "games_per_decade"
   ]
  },
  {
   "cell_type": "markdown",
   "metadata": {},
   "source": [
    "Data categorization into decades reveals that the 2000s experienced the highest production figures, with a total of 9,462 games released. This number signifies a substantial increase compared to the 1990s. However, a declining trend is observed in the subsequent decade, the 2010s, where production decreased by nearly 50% from the previous decade.\n",
    "\n",
    "**The positive trend** between the 1990s and 2000s can be attributed to the **rapid advancements in gaming platform technology**. According to the journal \"The Evolution of Video Game Consoles 2000-2021\" (Luck, 2021), Sony’s PlayStation launched two generations (the 2nd and 3rd) during the 2000s. The competitive landscape during this period was intense, prompting competitors to release updates and new devices in quick succession, which significantly contributed to the growth of game production.\n",
    "\n",
    "In contrast, **the negative trend** observed in the transition from the 2000s to the 2010s can be linked to shifts in consumer behavior regarding gaming. The **surge in smartphone ownership**, coupled with operating systems that facilitate game development as applications for mobile devices, has transformed consumer engagement. As nearly all activities can now be conducted on smartphones, consumers have gradually become less accustomed to playing games on separate devices. Consequently, game producers have redirected their focus toward developing games for smartphones. This shift has resulted in a highly segmented market for platform-specific games (e.g., professional gamers, gaming influencers), which has directly influenced the number of games released."
   ]
  },
  {
   "cell_type": "markdown",
   "metadata": {},
   "source": [
    "[Back to Analysis](#Analysis)"
   ]
  },
  {
   "cell_type": "markdown",
   "metadata": {},
   "source": [
    "### Sales by Platform"
   ]
  },
  {
   "cell_type": "markdown",
   "metadata": {},
   "source": [
    "The gaming platform serves as a critical determinant of a game's sales value. An increase in the availability of a platform correlates with a heightened potential for game sales on that platform. This section examines the variation in total sales across different platforms. The objective of this analysis is to identify which platform demonstrated the greatest potential for generating profit in 2017."
   ]
  },
  {
   "cell_type": "code",
   "execution_count": 39,
   "metadata": {},
   "outputs": [
    {
     "data": {
      "text/html": [
       "<div>\n",
       "<style scoped>\n",
       "    .dataframe tbody tr th:only-of-type {\n",
       "        vertical-align: middle;\n",
       "    }\n",
       "\n",
       "    .dataframe tbody tr th {\n",
       "        vertical-align: top;\n",
       "    }\n",
       "\n",
       "    .dataframe thead th {\n",
       "        text-align: right;\n",
       "    }\n",
       "</style>\n",
       "<table border=\"1\" class=\"dataframe\">\n",
       "  <thead>\n",
       "    <tr style=\"text-align: right;\">\n",
       "      <th>decade</th>\n",
       "      <th>1980s</th>\n",
       "      <th>1990s</th>\n",
       "      <th>2000s</th>\n",
       "      <th>2010s</th>\n",
       "    </tr>\n",
       "    <tr>\n",
       "      <th>platform</th>\n",
       "      <th></th>\n",
       "      <th></th>\n",
       "      <th></th>\n",
       "      <th></th>\n",
       "    </tr>\n",
       "  </thead>\n",
       "  <tbody>\n",
       "    <tr>\n",
       "      <th>2600</th>\n",
       "      <td>86.48</td>\n",
       "      <td>NaN</td>\n",
       "      <td>10.50</td>\n",
       "      <td>NaN</td>\n",
       "    </tr>\n",
       "    <tr>\n",
       "      <th>3DO</th>\n",
       "      <td>NaN</td>\n",
       "      <td>0.10</td>\n",
       "      <td>NaN</td>\n",
       "      <td>NaN</td>\n",
       "    </tr>\n",
       "    <tr>\n",
       "      <th>3DS</th>\n",
       "      <td>NaN</td>\n",
       "      <td>NaN</td>\n",
       "      <td>1.19</td>\n",
       "      <td>257.81</td>\n",
       "    </tr>\n",
       "    <tr>\n",
       "      <th>DC</th>\n",
       "      <td>NaN</td>\n",
       "      <td>8.54</td>\n",
       "      <td>7.41</td>\n",
       "      <td>NaN</td>\n",
       "    </tr>\n",
       "    <tr>\n",
       "      <th>DS</th>\n",
       "      <td>0.02</td>\n",
       "      <td>NaN</td>\n",
       "      <td>682.35</td>\n",
       "      <td>123.75</td>\n",
       "    </tr>\n",
       "  </tbody>\n",
       "</table>\n",
       "</div>"
      ],
      "text/plain": [
       "decade    1980s  1990s   2000s   2010s\n",
       "platform                              \n",
       "2600      86.48    NaN   10.50     NaN\n",
       "3DO         NaN   0.10     NaN     NaN\n",
       "3DS         NaN    NaN    1.19  257.81\n",
       "DC          NaN   8.54    7.41     NaN\n",
       "DS         0.02    NaN  682.35  123.75"
      ]
     },
     "execution_count": 39,
     "metadata": {},
     "output_type": "execute_result"
    }
   ],
   "source": [
    "# inspect total sales by platforms\n",
    "platform_sales = df.pivot_table(index='platform', columns='decade', values='total_sales', aggfunc='sum')\n",
    "platform_sales.head()"
   ]
  },
  {
   "cell_type": "markdown",
   "metadata": {},
   "source": [
    "Several platforms exhibit NaN values in specific decades, which may indicate two possibilities: either the platform was not released during that decade or no sales occurred at all within that time frame. It is essential to replace NaN values with 0."
   ]
  },
  {
   "cell_type": "code",
   "execution_count": 40,
   "metadata": {},
   "outputs": [
    {
     "data": {
      "text/html": [
       "<div>\n",
       "<style scoped>\n",
       "    .dataframe tbody tr th:only-of-type {\n",
       "        vertical-align: middle;\n",
       "    }\n",
       "\n",
       "    .dataframe tbody tr th {\n",
       "        vertical-align: top;\n",
       "    }\n",
       "\n",
       "    .dataframe thead th {\n",
       "        text-align: right;\n",
       "    }\n",
       "</style>\n",
       "<table border=\"1\" class=\"dataframe\">\n",
       "  <thead>\n",
       "    <tr style=\"text-align: right;\">\n",
       "      <th></th>\n",
       "      <th>total_sales</th>\n",
       "    </tr>\n",
       "    <tr>\n",
       "      <th>platform</th>\n",
       "      <th></th>\n",
       "    </tr>\n",
       "  </thead>\n",
       "  <tbody>\n",
       "    <tr>\n",
       "      <th>2600</th>\n",
       "      <td>96.98</td>\n",
       "    </tr>\n",
       "    <tr>\n",
       "      <th>3DO</th>\n",
       "      <td>0.10</td>\n",
       "    </tr>\n",
       "    <tr>\n",
       "      <th>3DS</th>\n",
       "      <td>259.00</td>\n",
       "    </tr>\n",
       "    <tr>\n",
       "      <th>DC</th>\n",
       "      <td>15.95</td>\n",
       "    </tr>\n",
       "    <tr>\n",
       "      <th>DS</th>\n",
       "      <td>806.12</td>\n",
       "    </tr>\n",
       "  </tbody>\n",
       "</table>\n",
       "</div>"
      ],
      "text/plain": [
       "          total_sales\n",
       "platform             \n",
       "2600            96.98\n",
       "3DO              0.10\n",
       "3DS            259.00\n",
       "DC              15.95\n",
       "DS             806.12"
      ]
     },
     "execution_count": 40,
     "metadata": {},
     "output_type": "execute_result"
    }
   ],
   "source": [
    "platform_total = df.pivot_table(index='platform', values='total_sales', aggfunc='sum')\n",
    "platform_total.head()"
   ]
  },
  {
   "cell_type": "code",
   "execution_count": 41,
   "metadata": {},
   "outputs": [
    {
     "data": {
      "text/html": [
       "<div>\n",
       "<style scoped>\n",
       "    .dataframe tbody tr th:only-of-type {\n",
       "        vertical-align: middle;\n",
       "    }\n",
       "\n",
       "    .dataframe tbody tr th {\n",
       "        vertical-align: top;\n",
       "    }\n",
       "\n",
       "    .dataframe thead th {\n",
       "        text-align: right;\n",
       "    }\n",
       "</style>\n",
       "<table border=\"1\" class=\"dataframe\">\n",
       "  <thead>\n",
       "    <tr style=\"text-align: right;\">\n",
       "      <th></th>\n",
       "      <th>1980s</th>\n",
       "      <th>1990s</th>\n",
       "      <th>2000s</th>\n",
       "      <th>2010s</th>\n",
       "      <th>total_sales</th>\n",
       "    </tr>\n",
       "    <tr>\n",
       "      <th>platform</th>\n",
       "      <th></th>\n",
       "      <th></th>\n",
       "      <th></th>\n",
       "      <th></th>\n",
       "      <th></th>\n",
       "    </tr>\n",
       "  </thead>\n",
       "  <tbody>\n",
       "    <tr>\n",
       "      <th>PS2</th>\n",
       "      <td>NaN</td>\n",
       "      <td>NaN</td>\n",
       "      <td>1249.68</td>\n",
       "      <td>6.09</td>\n",
       "      <td>1255.77</td>\n",
       "    </tr>\n",
       "    <tr>\n",
       "      <th>X360</th>\n",
       "      <td>NaN</td>\n",
       "      <td>NaN</td>\n",
       "      <td>421.01</td>\n",
       "      <td>550.41</td>\n",
       "      <td>971.42</td>\n",
       "    </tr>\n",
       "    <tr>\n",
       "      <th>PS3</th>\n",
       "      <td>NaN</td>\n",
       "      <td>NaN</td>\n",
       "      <td>351.91</td>\n",
       "      <td>587.74</td>\n",
       "      <td>939.65</td>\n",
       "    </tr>\n",
       "    <tr>\n",
       "      <th>Wii</th>\n",
       "      <td>NaN</td>\n",
       "      <td>NaN</td>\n",
       "      <td>684.54</td>\n",
       "      <td>222.97</td>\n",
       "      <td>907.51</td>\n",
       "    </tr>\n",
       "    <tr>\n",
       "      <th>DS</th>\n",
       "      <td>0.02</td>\n",
       "      <td>NaN</td>\n",
       "      <td>682.35</td>\n",
       "      <td>123.75</td>\n",
       "      <td>806.12</td>\n",
       "    </tr>\n",
       "  </tbody>\n",
       "</table>\n",
       "</div>"
      ],
      "text/plain": [
       "          1980s  1990s    2000s   2010s  total_sales\n",
       "platform                                            \n",
       "PS2         NaN    NaN  1249.68    6.09      1255.77\n",
       "X360        NaN    NaN   421.01  550.41       971.42\n",
       "PS3         NaN    NaN   351.91  587.74       939.65\n",
       "Wii         NaN    NaN   684.54  222.97       907.51\n",
       "DS         0.02    NaN   682.35  123.75       806.12"
      ]
     },
     "execution_count": 41,
     "metadata": {},
     "output_type": "execute_result"
    }
   ],
   "source": [
    "# join tables 'platform_sales' and 'platform_total' \n",
    "combined_platform = platform_sales.merge(platform_total, on='platform')\n",
    "combined_platform.sort_values(by='total_sales', ascending=False, inplace=True) #display in descending order\n",
    "combined_platform.head()"
   ]
  },
  {
   "cell_type": "code",
   "execution_count": 42,
   "metadata": {},
   "outputs": [
    {
     "data": {
      "text/html": [
       "<div>\n",
       "<style scoped>\n",
       "    .dataframe tbody tr th:only-of-type {\n",
       "        vertical-align: middle;\n",
       "    }\n",
       "\n",
       "    .dataframe tbody tr th {\n",
       "        vertical-align: top;\n",
       "    }\n",
       "\n",
       "    .dataframe thead th {\n",
       "        text-align: right;\n",
       "    }\n",
       "</style>\n",
       "<table border=\"1\" class=\"dataframe\">\n",
       "  <thead>\n",
       "    <tr style=\"text-align: right;\">\n",
       "      <th></th>\n",
       "      <th>1980s</th>\n",
       "      <th>1990s</th>\n",
       "      <th>2000s</th>\n",
       "      <th>2010s</th>\n",
       "      <th>total_sales</th>\n",
       "    </tr>\n",
       "    <tr>\n",
       "      <th>platform</th>\n",
       "      <th></th>\n",
       "      <th></th>\n",
       "      <th></th>\n",
       "      <th></th>\n",
       "      <th></th>\n",
       "    </tr>\n",
       "  </thead>\n",
       "  <tbody>\n",
       "    <tr>\n",
       "      <th>PS2</th>\n",
       "      <td>0.00</td>\n",
       "      <td>0.00</td>\n",
       "      <td>1249.68</td>\n",
       "      <td>6.09</td>\n",
       "      <td>1255.77</td>\n",
       "    </tr>\n",
       "    <tr>\n",
       "      <th>X360</th>\n",
       "      <td>0.00</td>\n",
       "      <td>0.00</td>\n",
       "      <td>421.01</td>\n",
       "      <td>550.41</td>\n",
       "      <td>971.42</td>\n",
       "    </tr>\n",
       "    <tr>\n",
       "      <th>PS3</th>\n",
       "      <td>0.00</td>\n",
       "      <td>0.00</td>\n",
       "      <td>351.91</td>\n",
       "      <td>587.74</td>\n",
       "      <td>939.65</td>\n",
       "    </tr>\n",
       "    <tr>\n",
       "      <th>Wii</th>\n",
       "      <td>0.00</td>\n",
       "      <td>0.00</td>\n",
       "      <td>684.54</td>\n",
       "      <td>222.97</td>\n",
       "      <td>907.51</td>\n",
       "    </tr>\n",
       "    <tr>\n",
       "      <th>DS</th>\n",
       "      <td>0.02</td>\n",
       "      <td>0.00</td>\n",
       "      <td>682.35</td>\n",
       "      <td>123.75</td>\n",
       "      <td>806.12</td>\n",
       "    </tr>\n",
       "    <tr>\n",
       "      <th>PS</th>\n",
       "      <td>0.00</td>\n",
       "      <td>586.88</td>\n",
       "      <td>143.98</td>\n",
       "      <td>0.00</td>\n",
       "      <td>730.86</td>\n",
       "    </tr>\n",
       "    <tr>\n",
       "      <th>GBA</th>\n",
       "      <td>0.00</td>\n",
       "      <td>0.00</td>\n",
       "      <td>317.85</td>\n",
       "      <td>0.00</td>\n",
       "      <td>317.85</td>\n",
       "    </tr>\n",
       "    <tr>\n",
       "      <th>PS4</th>\n",
       "      <td>0.00</td>\n",
       "      <td>0.00</td>\n",
       "      <td>0.00</td>\n",
       "      <td>314.14</td>\n",
       "      <td>314.14</td>\n",
       "    </tr>\n",
       "    <tr>\n",
       "      <th>PSP</th>\n",
       "      <td>0.00</td>\n",
       "      <td>0.00</td>\n",
       "      <td>230.00</td>\n",
       "      <td>64.05</td>\n",
       "      <td>294.05</td>\n",
       "    </tr>\n",
       "    <tr>\n",
       "      <th>PC</th>\n",
       "      <td>0.07</td>\n",
       "      <td>49.97</td>\n",
       "      <td>87.52</td>\n",
       "      <td>121.96</td>\n",
       "      <td>259.52</td>\n",
       "    </tr>\n",
       "  </tbody>\n",
       "</table>\n",
       "</div>"
      ],
      "text/plain": [
       "          1980s   1990s    2000s   2010s  total_sales\n",
       "platform                                             \n",
       "PS2        0.00    0.00  1249.68    6.09      1255.77\n",
       "X360       0.00    0.00   421.01  550.41       971.42\n",
       "PS3        0.00    0.00   351.91  587.74       939.65\n",
       "Wii        0.00    0.00   684.54  222.97       907.51\n",
       "DS         0.02    0.00   682.35  123.75       806.12\n",
       "PS         0.00  586.88   143.98    0.00       730.86\n",
       "GBA        0.00    0.00   317.85    0.00       317.85\n",
       "PS4        0.00    0.00     0.00  314.14       314.14\n",
       "PSP        0.00    0.00   230.00   64.05       294.05\n",
       "PC         0.07   49.97    87.52  121.96       259.52"
      ]
     },
     "execution_count": 42,
     "metadata": {},
     "output_type": "execute_result"
    }
   ],
   "source": [
    "# replace NaN with 0\n",
    "combined_platform.fillna(0, inplace=True)\n",
    "combined_platform.head(10)"
   ]
  },
  {
   "cell_type": "markdown",
   "metadata": {},
   "source": [
    "The table above presents the sales figures (in millions of dollars) for games categorized by platform, arranged from the highest to the lowest total sales. Among the top ten platforms, the one with the highest sales across the four recorded decades is the **PS2 (Sony Playstation 2)**, with total sales amounting to 1,255.77 million dollars."
   ]
  },
  {
   "cell_type": "code",
   "execution_count": 43,
   "metadata": {
    "scrolled": true
   },
   "outputs": [
    {
     "data": {
      "image/png": "[encoded data removed]",
      "text/plain": [
       "<Figure size 1200x500 with 1 Axes>"
      ]
     },
     "metadata": {},
     "output_type": "display_data"
    }
   ],
   "source": [
    "# Graph of PS2 popularity fluctuation\n",
    "# prepare dataset of sales of games on PS2 platform\n",
    "ps2_sales = df[df['platform'] == 'PS2']\n",
    "plt.figure(figsize=(12, 5))\n",
    "plt.title('Total Sales of PS2 Games per Year')\n",
    "sns.lineplot(data=ps2_sales, x=\"year_of_release\", y=\"total_sales\")\n",
    "plt.show()"
   ]
  },
  {
   "cell_type": "markdown",
   "metadata": {},
   "source": [
    "In terms of growth, the PS2 platform experienced significant expansion, reaching its peak within approximately **one year** (from 2000 to 2001). A slight decline occurred until 2004; however, total sales remained high, ranging from 800 to 900 million dollars. Subsequently, sales consistently decreased until they ceased in mid-2011. This indicates that for the platform with the highest popularity, a duration of one year is required to achieve peak popularity, followed by **seven years for complete market disappearance**."
   ]
  },
  {
   "cell_type": "markdown",
   "metadata": {},
   "source": [
    "<span style=\"font-size:12pt; font-weight: bold;\">Preliminary Conclusions</span>"
   ]
  },
  {
   "cell_type": "markdown",
   "metadata": {},
   "source": [
    "Almost all platforms with the highest sales began to gain popularity in the 2000s. Two platforms that had already established greater popularity were the PS and PC. The distinction lies in the fact that the PS exhibited a negative trend; it was highly popular in the 1990s and 2000s but entirely vanished in the 2010s. Conversely, the PC displayed a positive trend, experiencing moderate popularity upon its initial release (1990s) and showing continuous growth, surpassing 100 million dollars in the 2010s.\n",
    "\n",
    "Although the PS ranked highest in total sales, its popularity was notably short-lived, lasting only one decade before experiencing a drastic decline in the subsequent decade. This trend contrasts with the four platforms ranked at the bottom: X360, PS3, Wii, and DS. All four began their rise in popularity during the 2000s and maintained total sales above 100 million dollars in the 2010s. However, in the last two decades, the X360 and PS3 exhibited positive trends, while the Wii and DS showed negative trends.\n",
    "\n",
    "These findings suggest that although the PS2 has the highest total sales over four decades, its consumer base has dissipated in the present context. Consequently, game sales for the PS2 platform are no longer relevant for the year 2017. Similarly, the Wii and DS platforms, which once had high sales, have also demonstrated a decline in popularity. Their sales figures in the 2010s have been overshadowed by the newly emerged PS4. Thus, both the Wii and DS are also considered irrelevant for 2017.\n",
    "\n",
    "It is also noteworthy to consider the PC platform. While its total sales do not rank highly, the PC is the only platform that has exhibited a consistently positive trend over three decades. Total sales in the most recent decade remain substantial (121 million dollars).\n",
    "\n",
    "The X360 and PS3 rank as the top two platforms in total sales during the 2010s, with the PS4 in third place. Additionally, the PC remains the sole platform demonstrating a consistent positive trend. "
   ]
  },
  {
   "cell_type": "markdown",
   "metadata": {},
   "source": [
    "[Back to Sales by Platform](#Sales-by-Platform)"
   ]
  },
  {
   "cell_type": "markdown",
   "metadata": {},
   "source": [
    "**In the following analysis are examination of the distribution of game sales data for each of these platforms:**"
   ]
  },
  {
   "cell_type": "code",
   "execution_count": 80,
   "metadata": {},
   "outputs": [
    {
     "data": {
      "image/png": "[encoded data removed]",
      "text/plain": [
       "<Figure size 640x480 with 1 Axes>"
      ]
     },
     "metadata": {},
     "output_type": "display_data"
    }
   ],
   "source": [
    "# data distribution of X360 games per year\n",
    "x360 = df[df['platform'] == 'X360']\n",
    "x360_sales = x360.pivot_table(index='year_of_release', values='total_sales', aggfunc='sum')\n",
    "x360_sales.plot(kind='bar', legend=None)\n",
    "plt.xlabel('Year')\n",
    "plt.ylabel('Total Sales (in million Dollars)')\n",
    "plt.title('Total Sales of Games on Platform X360')\n",
    "plt.show()"
   ]
  },
  {
   "cell_type": "markdown",
   "metadata": {},
   "source": [
    "Based on the bar chart above, game sales for the X360 began to increase in 2006, peaking in 2010. However, sales experienced a decline in 2011, with this downward trend continuing until there were no sales recorded in 2016. This outcome contrasts with initial assumptions, where the X360 appeared promising in the 2010s due to its total sales being the highest among the PS3 and PS4."
   ]
  },
  {
   "cell_type": "code",
   "execution_count": 45,
   "metadata": {},
   "outputs": [
    {
     "data": {
      "image/png": "[encoded data removed]",
      "text/plain": [
       "<Figure size 640x480 with 1 Axes>"
      ]
     },
     "metadata": {},
     "output_type": "display_data"
    }
   ],
   "source": [
    "# data distribution of PS3 per year\n",
    "ps3 = df[df['platform'] == 'PS3']\n",
    "ps3_sales = ps3.pivot_table(index='year_of_release', values='total_sales', aggfunc='sum')\n",
    "ps3_sales.plot(kind='bar', legend=None)\n",
    "plt.xlabel('Year')\n",
    "plt.ylabel('Total Sales (in million Dollars)')\n",
    "plt.title('Total Sales of Games on Platform PS 3')\n",
    "plt.show()"
   ]
  },
  {
   "cell_type": "markdown",
   "metadata": {},
   "source": [
    "According to the bar chart above, game sales for the PS3 increased starting in 2007, reaching their peak in 2011. Nevertheless, sales underwent a sharp decline in 2012 and continued to decrease in 2014, ultimately hitting their lowest point in 2016. This also deviates from initial expectations, where the PS3 was perceived as a promising platform in the 2010s due to its total sales surpassing that of the PS4."
   ]
  },
  {
   "cell_type": "code",
   "execution_count": 46,
   "metadata": {},
   "outputs": [
    {
     "data": {
      "image/png": "[encoded data removed]",
      "text/plain": [
       "<Figure size 640x480 with 1 Axes>"
      ]
     },
     "metadata": {},
     "output_type": "display_data"
    }
   ],
   "source": [
    "# data distribution of PS4 per year\n",
    "ps4 = df[df['platform'] == 'PS4']\n",
    "ps4_sales = ps4.pivot_table(index='year_of_release', values='total_sales', aggfunc='sum')\n",
    "ps4_sales.plot(kind='bar', legend=None)\n",
    "plt.xlabel('Year')\n",
    "plt.ylabel('Total Sales (in million Dollars)')\n",
    "plt.title('Total Sales of Game on Platform PS 4')\n",
    "plt.show()"
   ]
  },
  {
   "cell_type": "markdown",
   "metadata": {},
   "source": [
    "From the analysis of the bar chart above, game sales for the PS4 experienced a significant surge one year after its debut in 2013, reaching a peak in 2015. However, sales declined by nearly 50% in 2016, falling below 100 million dollars. Although the last year's sales dropped considerably compared to the previous year, the figure of 70 million dollars remains substantial. This indicates that games for the PS4 platform continue to be favored by the market."
   ]
  },
  {
   "cell_type": "code",
   "execution_count": 47,
   "metadata": {},
   "outputs": [
    {
     "data": {
      "image/png": "[encoded data removed]",
      "text/plain": [
       "<Figure size 640x480 with 1 Axes>"
      ]
     },
     "metadata": {},
     "output_type": "display_data"
    }
   ],
   "source": [
    "# data distribution of PC per year\n",
    "pc = df[df['platform'] == 'PC']\n",
    "pc_sales = pc.pivot_table(index='year_of_release', values='total_sales', aggfunc='sum')\n",
    "pc_sales.plot(kind='bar', legend=None)\n",
    "plt.xlabel('Year')\n",
    "plt.ylabel('Total Sales (in million Dollars)')\n",
    "plt.title('Total Sales of Games on Platform PC')\n",
    "plt.show()"
   ]
  },
  {
   "cell_type": "markdown",
   "metadata": {},
   "source": [
    "Based on the bar chart above, game sales for PC experienced a sharp increase in 2011; however, this growth was short-lived. Sales consistently declined, reaching approximately 5 million dollars by the end of 2016. Considering its presence since the 1980s, the PC platform is likely to remain popular in the future, albeit with a limited market share.\n",
    "\n",
    "Consequently, it has been determined that the **platform with the most potential for profitability is the PS4**. Learning from the sales patterns of the PS2, it typically takes seven years from the onset of a negative trend for a game to lose its market appeal entirely. Currently, the PS4 is in its fourth year in the market, and only one year has elapsed since it reached its peak popularity. There remains a possibility for sales to increase, similar to the PS2 during the period from 2002 to 2004. Even in the face of a negative trend, companies can still anticipate sales in the coming years, akin to the PS2 from 2004 to 2011."
   ]
  },
  {
   "cell_type": "markdown",
   "metadata": {},
   "source": [
    "[Back to Analysis](#Analysis)"
   ]
  },
  {
   "cell_type": "markdown",
   "metadata": {},
   "source": [
    "### Global Sales Overview"
   ]
  },
  {
   "cell_type": "markdown",
   "metadata": {},
   "source": [
    "According to company data, the three largest markets for game sales are Europe, North America, and Japan. However, sales also occur in other regions worldwide, though not as significantly as in these three primary regions. If viewed at the individual country level, the data may lack meaningful insights. Consequently, sales from regions outside these three major markets are combined in the `other_sales` column, which serves as a comparative measure against the three principal markets."
   ]
  },
  {
   "cell_type": "code",
   "execution_count": 48,
   "metadata": {
    "scrolled": true
   },
   "outputs": [
    {
     "data": {
      "text/html": [
       "<div>\n",
       "<style scoped>\n",
       "    .dataframe tbody tr th:only-of-type {\n",
       "        vertical-align: middle;\n",
       "    }\n",
       "\n",
       "    .dataframe tbody tr th {\n",
       "        vertical-align: top;\n",
       "    }\n",
       "\n",
       "    .dataframe thead th {\n",
       "        text-align: right;\n",
       "    }\n",
       "</style>\n",
       "<table border=\"1\" class=\"dataframe\">\n",
       "  <thead>\n",
       "    <tr style=\"text-align: right;\">\n",
       "      <th></th>\n",
       "      <th>other_sales</th>\n",
       "    </tr>\n",
       "    <tr>\n",
       "      <th>platform</th>\n",
       "      <th></th>\n",
       "    </tr>\n",
       "  </thead>\n",
       "  <tbody>\n",
       "    <tr>\n",
       "      <th>PS2</th>\n",
       "      <td>193.44</td>\n",
       "    </tr>\n",
       "    <tr>\n",
       "      <th>PS3</th>\n",
       "      <td>135.68</td>\n",
       "    </tr>\n",
       "    <tr>\n",
       "      <th>X360</th>\n",
       "      <td>85.76</td>\n",
       "    </tr>\n",
       "    <tr>\n",
       "      <th>Wii</th>\n",
       "      <td>79.07</td>\n",
       "    </tr>\n",
       "    <tr>\n",
       "      <th>DS</th>\n",
       "      <td>59.26</td>\n",
       "    </tr>\n",
       "  </tbody>\n",
       "</table>\n",
       "</div>"
      ],
      "text/plain": [
       "          other_sales\n",
       "platform             \n",
       "PS2            193.44\n",
       "PS3            135.68\n",
       "X360            85.76\n",
       "Wii             79.07\n",
       "DS              59.26"
      ]
     },
     "execution_count": 48,
     "metadata": {},
     "output_type": "execute_result"
    }
   ],
   "source": [
    "# create new table containing the total of 'other_sales' sorted by platform \n",
    "platform_global = df.pivot_table(index='platform', values='other_sales', aggfunc='sum')\n",
    "platform_global.sort_values(by='other_sales', ascending=False, inplace=True)\n",
    "platform_global.head()"
   ]
  },
  {
   "cell_type": "code",
   "execution_count": 49,
   "metadata": {},
   "outputs": [
    {
     "data": {
      "text/plain": [
       "<AxesSubplot:xlabel='other_sales'>"
      ]
     },
     "execution_count": 49,
     "metadata": {},
     "output_type": "execute_result"
    },
    {
     "data": {
      "image/png": "[encoded data removed]",
      "text/plain": [
       "<Figure size 640x480 with 1 Axes>"
      ]
     },
     "metadata": {},
     "output_type": "display_data"
    }
   ],
   "source": [
    "# Boxplot of 'total_sales' by platform \n",
    "sns.boxplot(platform_global['other_sales'])"
   ]
  },
  {
   "cell_type": "markdown",
   "metadata": {},
   "source": [
    "The boxplot above reveals that the lower whisker falls within the box itself. This boxplot indicates a skewed distribution, where the majority of data points are concentrated at lower values, close to zero. Additionally, several points lie considerably beyond the upper whisker, signifying that certain platforms have exceptionally high global sales figures. According to the `platform_global` table, these platforms are the ones ranking at the top (PS2, PS3, X360, Wii, and DS).\n",
    "\n",
    "This distribution suggests an **imbalance in platform preferences within the global market**. This imbalance may be due to the limited availability of gaming consoles in regions outside the three main markets, resulting in sales being largely concentrated on only the most popular platforms."
   ]
  },
  {
   "cell_type": "markdown",
   "metadata": {},
   "source": [
    "[Back to Analysis](#Analysis)"
   ]
  },
  {
   "cell_type": "markdown",
   "metadata": {},
   "source": [
    "### Game Reviews and Sales Figure"
   ]
  },
  {
   "cell_type": "markdown",
   "metadata": {},
   "source": [
    "The ICE sales data also includes information on both professional and user (non-professional) reviews. This section examines the relationship between reviews and total sales, focusing on the case of the PS2 platform, which has remained the most popular platform over four decades."
   ]
  },
  {
   "cell_type": "code",
   "execution_count": 50,
   "metadata": {},
   "outputs": [
    {
     "data": {
      "text/html": [
       "<div>\n",
       "<style scoped>\n",
       "    .dataframe tbody tr th:only-of-type {\n",
       "        vertical-align: middle;\n",
       "    }\n",
       "\n",
       "    .dataframe tbody tr th {\n",
       "        vertical-align: top;\n",
       "    }\n",
       "\n",
       "    .dataframe thead th {\n",
       "        text-align: right;\n",
       "    }\n",
       "</style>\n",
       "<table border=\"1\" class=\"dataframe\">\n",
       "  <thead>\n",
       "    <tr style=\"text-align: right;\">\n",
       "      <th></th>\n",
       "      <th>name</th>\n",
       "      <th>critic_score</th>\n",
       "      <th>user_score</th>\n",
       "      <th>total_sales</th>\n",
       "    </tr>\n",
       "  </thead>\n",
       "  <tbody>\n",
       "    <tr>\n",
       "      <th>17</th>\n",
       "      <td>Grand Theft Auto: San Andreas</td>\n",
       "      <td>95.0</td>\n",
       "      <td>9.0</td>\n",
       "      <td>20.81</td>\n",
       "    </tr>\n",
       "    <tr>\n",
       "      <th>24</th>\n",
       "      <td>Grand Theft Auto: Vice City</td>\n",
       "      <td>95.0</td>\n",
       "      <td>8.7</td>\n",
       "      <td>16.15</td>\n",
       "    </tr>\n",
       "    <tr>\n",
       "      <th>28</th>\n",
       "      <td>Gran Turismo 3: A-Spec</td>\n",
       "      <td>95.0</td>\n",
       "      <td>8.4</td>\n",
       "      <td>14.97</td>\n",
       "    </tr>\n",
       "    <tr>\n",
       "      <th>38</th>\n",
       "      <td>Grand Theft Auto III</td>\n",
       "      <td>97.0</td>\n",
       "      <td>8.5</td>\n",
       "      <td>13.10</td>\n",
       "    </tr>\n",
       "    <tr>\n",
       "      <th>48</th>\n",
       "      <td>Gran Turismo 4</td>\n",
       "      <td>89.0</td>\n",
       "      <td>8.5</td>\n",
       "      <td>11.65</td>\n",
       "    </tr>\n",
       "  </tbody>\n",
       "</table>\n",
       "</div>"
      ],
      "text/plain": [
       "                             name  critic_score  user_score  total_sales\n",
       "17  Grand Theft Auto: San Andreas          95.0         9.0        20.81\n",
       "24    Grand Theft Auto: Vice City          95.0         8.7        16.15\n",
       "28         Gran Turismo 3: A-Spec          95.0         8.4        14.97\n",
       "38           Grand Theft Auto III          97.0         8.5        13.10\n",
       "48                 Gran Turismo 4          89.0         8.5        11.65"
      ]
     },
     "execution_count": 50,
     "metadata": {},
     "output_type": "execute_result"
    }
   ],
   "source": [
    "# prepare dataset of PS2 reviews and total sales \n",
    "ps2 = df[df['platform'] == 'PS2']\n",
    "columns_selected = [\"name\", \"critic_score\", \"user_score\", \"total_sales\"]\n",
    "ps2_review = ps2[columns_selected]\n",
    "\n",
    "# display in descending order\n",
    "ps2_review.head()"
   ]
  },
  {
   "cell_type": "code",
   "execution_count": 51,
   "metadata": {},
   "outputs": [
    {
     "data": {
      "image/png": "[encoded data removed]",
      "text/plain": [
       "<Figure size 1000x600 with 2 Axes>"
      ]
     },
     "metadata": {},
     "output_type": "display_data"
    }
   ],
   "source": [
    "# scatterplot visualization\n",
    "plt.figure(figsize=(10, 6))\n",
    "\n",
    "# check correlation between professional reviews and total sales\n",
    "plt.subplot(1, 2, 1)  # Create the first subplot\n",
    "plt.scatter(ps2_review['critic_score'], ps2_review['total_sales'], alpha=0.5)\n",
    "plt.title('Critic Scores vs. Total Sales')\n",
    "plt.xlabel('Critic Score')\n",
    "plt.ylabel('Total Sales')\n",
    "\n",
    "# check correlation between users reviews and total sales\n",
    "plt.subplot(1, 2, 2)  # Create the second subplot\n",
    "plt.scatter(ps2_review['user_score'], ps2_review['total_sales'], alpha=0.5)\n",
    "plt.title('User Scores vs. Total Sales')\n",
    "plt.xlabel('User Score')\n",
    "plt.ylabel('Total Sales')\n",
    "\n",
    "plt.tight_layout()\n",
    "plt.show()"
   ]
  },
  {
   "cell_type": "markdown",
   "metadata": {},
   "source": [
    "The scatterplot above illustrates a linear relationship between professional reviews and total sales, as well as between user reviews and total sales. Below is the correlation matrix to assess the strength of these relationships."
   ]
  },
  {
   "cell_type": "code",
   "execution_count": 52,
   "metadata": {},
   "outputs": [
    {
     "data": {
      "text/html": [
       "<div>\n",
       "<style scoped>\n",
       "    .dataframe tbody tr th:only-of-type {\n",
       "        vertical-align: middle;\n",
       "    }\n",
       "\n",
       "    .dataframe tbody tr th {\n",
       "        vertical-align: top;\n",
       "    }\n",
       "\n",
       "    .dataframe thead th {\n",
       "        text-align: right;\n",
       "    }\n",
       "</style>\n",
       "<table border=\"1\" class=\"dataframe\">\n",
       "  <thead>\n",
       "    <tr style=\"text-align: right;\">\n",
       "      <th></th>\n",
       "      <th>critic_score</th>\n",
       "      <th>user_score</th>\n",
       "      <th>total_sales</th>\n",
       "    </tr>\n",
       "  </thead>\n",
       "  <tbody>\n",
       "    <tr>\n",
       "      <th>critic_score</th>\n",
       "      <td>1.000000</td>\n",
       "      <td>0.517380</td>\n",
       "      <td>0.367454</td>\n",
       "    </tr>\n",
       "    <tr>\n",
       "      <th>user_score</th>\n",
       "      <td>0.517380</td>\n",
       "      <td>1.000000</td>\n",
       "      <td>0.210498</td>\n",
       "    </tr>\n",
       "    <tr>\n",
       "      <th>total_sales</th>\n",
       "      <td>0.367454</td>\n",
       "      <td>0.210498</td>\n",
       "      <td>1.000000</td>\n",
       "    </tr>\n",
       "  </tbody>\n",
       "</table>\n",
       "</div>"
      ],
      "text/plain": [
       "              critic_score  user_score  total_sales\n",
       "critic_score      1.000000    0.517380     0.367454\n",
       "user_score        0.517380    1.000000     0.210498\n",
       "total_sales       0.367454    0.210498     1.000000"
      ]
     },
     "execution_count": 52,
     "metadata": {},
     "output_type": "execute_result"
    }
   ],
   "source": [
    "# correlation matrics of critics score, user score, and total sales\n",
    "ps2_review.corr()"
   ]
  },
  {
   "cell_type": "markdown",
   "metadata": {},
   "source": [
    "The correlation matrix above reveals the following:\n",
    "\n",
    "There exists a moderate linear relationship** between professional and user reviews. This indicates that **games rated highly by professionals often receive high ratings from general users as well**.\n",
    "\n",
    "There is **a weak linear relationship between professional review scores and total sales**. In some cases, high sales figures are observed for games with high professional ratings. However, this correlation is weak, indicating it is not a sufficiently reliable basis for sales-related decision-making.\n",
    "\n",
    "There is also **a weak linear relationship between user review scores and total sales**. Although high sales are sometimes observed for games rated highly by users, this correlation is even weaker than that of professional reviews, further limiting its reliability for sales decision-making purposes."
   ]
  },
  {
   "cell_type": "markdown",
   "metadata": {},
   "source": [
    "[Back to Analysis](#Analysis)"
   ]
  },
  {
   "cell_type": "markdown",
   "metadata": {},
   "source": [
    "### Multiplatform Games Sales"
   ]
  },
  {
   "cell_type": "markdown",
   "metadata": {},
   "source": [
    "The production of games across multiple platforms is a common strategy, as it is relatively rare for individual consumers to own more than one gaming platform. This approach aims to capture a broader market segment by making games available on various systems. This section will analyze sales variations for games released as multiplatform titles."
   ]
  },
  {
   "cell_type": "code",
   "execution_count": 53,
   "metadata": {},
   "outputs": [
    {
     "data": {
      "text/plain": [
       "Need for Speed: Most Wanted        12\n",
       "Ratatouille                         9\n",
       "Madden NFL 07                       9\n",
       "FIFA 14                             9\n",
       "LEGO Marvel Super Heroes            9\n",
       "                                   ..\n",
       "Storm Lover Kai!!                   1\n",
       "Dark Cloud 2                        1\n",
       "Don King Presents: Prizefighter     1\n",
       "Tail Concerto                       1\n",
       "Sonic Advance 2                     1\n",
       "Name: name, Length: 11559, dtype: int64"
      ]
     },
     "execution_count": 53,
     "metadata": {},
     "output_type": "execute_result"
    }
   ],
   "source": [
    "# identify games with highest number of compatible platforms\n",
    "df['name'].value_counts()"
   ]
  },
  {
   "cell_type": "markdown",
   "metadata": {},
   "source": [
    "The table above indicates that **\"Need for Speed: Most Wanted\"\"** is available on the highest number of platforms, making it the most widely distributed game across different systems."
   ]
  },
  {
   "cell_type": "code",
   "execution_count": 54,
   "metadata": {
    "scrolled": false
   },
   "outputs": [
    {
     "data": {
      "text/html": [
       "<div>\n",
       "<style scoped>\n",
       "    .dataframe tbody tr th:only-of-type {\n",
       "        vertical-align: middle;\n",
       "    }\n",
       "\n",
       "    .dataframe tbody tr th {\n",
       "        vertical-align: top;\n",
       "    }\n",
       "\n",
       "    .dataframe thead th {\n",
       "        text-align: right;\n",
       "    }\n",
       "</style>\n",
       "<table border=\"1\" class=\"dataframe\">\n",
       "  <thead>\n",
       "    <tr style=\"text-align: right;\">\n",
       "      <th></th>\n",
       "      <th>name</th>\n",
       "      <th>platform</th>\n",
       "      <th>year_of_release</th>\n",
       "      <th>genre</th>\n",
       "      <th>na_sales</th>\n",
       "      <th>eu_sales</th>\n",
       "      <th>jp_sales</th>\n",
       "      <th>other_sales</th>\n",
       "      <th>critic_score</th>\n",
       "      <th>user_score</th>\n",
       "      <th>rating</th>\n",
       "      <th>total_sales</th>\n",
       "      <th>decade</th>\n",
       "    </tr>\n",
       "  </thead>\n",
       "  <tbody>\n",
       "    <tr>\n",
       "      <th>1190</th>\n",
       "      <td>Need for Speed: Most Wanted</td>\n",
       "      <td>X360</td>\n",
       "      <td>2012</td>\n",
       "      <td>Racing</td>\n",
       "      <td>0.62</td>\n",
       "      <td>0.78</td>\n",
       "      <td>0.01</td>\n",
       "      <td>0.15</td>\n",
       "      <td>83.000000</td>\n",
       "      <td>8.500000</td>\n",
       "      <td>T</td>\n",
       "      <td>1.56</td>\n",
       "      <td>2010s</td>\n",
       "    </tr>\n",
       "    <tr>\n",
       "      <th>1591</th>\n",
       "      <td>Need for Speed: Most Wanted</td>\n",
       "      <td>X360</td>\n",
       "      <td>2005</td>\n",
       "      <td>Racing</td>\n",
       "      <td>1.00</td>\n",
       "      <td>0.13</td>\n",
       "      <td>0.02</td>\n",
       "      <td>0.10</td>\n",
       "      <td>83.000000</td>\n",
       "      <td>8.500000</td>\n",
       "      <td>T</td>\n",
       "      <td>1.25</td>\n",
       "      <td>2000s</td>\n",
       "    </tr>\n",
       "    <tr>\n",
       "      <th>1998</th>\n",
       "      <td>Need for Speed: Most Wanted</td>\n",
       "      <td>XB</td>\n",
       "      <td>2005</td>\n",
       "      <td>Racing</td>\n",
       "      <td>0.53</td>\n",
       "      <td>0.46</td>\n",
       "      <td>0.00</td>\n",
       "      <td>0.05</td>\n",
       "      <td>83.000000</td>\n",
       "      <td>8.800000</td>\n",
       "      <td>T</td>\n",
       "      <td>1.04</td>\n",
       "      <td>2000s</td>\n",
       "    </tr>\n",
       "    <tr>\n",
       "      <th>253</th>\n",
       "      <td>Need for Speed: Most Wanted</td>\n",
       "      <td>PS2</td>\n",
       "      <td>2005</td>\n",
       "      <td>Racing</td>\n",
       "      <td>2.03</td>\n",
       "      <td>1.79</td>\n",
       "      <td>0.08</td>\n",
       "      <td>0.47</td>\n",
       "      <td>82.000000</td>\n",
       "      <td>9.100000</td>\n",
       "      <td>T</td>\n",
       "      <td>4.37</td>\n",
       "      <td>2000s</td>\n",
       "    </tr>\n",
       "    <tr>\n",
       "      <th>5972</th>\n",
       "      <td>Need for Speed: Most Wanted</td>\n",
       "      <td>PC</td>\n",
       "      <td>2005</td>\n",
       "      <td>Racing</td>\n",
       "      <td>0.02</td>\n",
       "      <td>0.23</td>\n",
       "      <td>0.00</td>\n",
       "      <td>0.04</td>\n",
       "      <td>82.000000</td>\n",
       "      <td>8.500000</td>\n",
       "      <td>T</td>\n",
       "      <td>0.29</td>\n",
       "      <td>2000s</td>\n",
       "    </tr>\n",
       "    <tr>\n",
       "      <th>11715</th>\n",
       "      <td>Need for Speed: Most Wanted</td>\n",
       "      <td>PC</td>\n",
       "      <td>2012</td>\n",
       "      <td>Racing</td>\n",
       "      <td>0.00</td>\n",
       "      <td>0.06</td>\n",
       "      <td>0.00</td>\n",
       "      <td>0.02</td>\n",
       "      <td>82.000000</td>\n",
       "      <td>8.500000</td>\n",
       "      <td>T</td>\n",
       "      <td>0.08</td>\n",
       "      <td>2010s</td>\n",
       "    </tr>\n",
       "    <tr>\n",
       "      <th>3581</th>\n",
       "      <td>Need for Speed: Most Wanted</td>\n",
       "      <td>GC</td>\n",
       "      <td>2005</td>\n",
       "      <td>Racing</td>\n",
       "      <td>0.43</td>\n",
       "      <td>0.11</td>\n",
       "      <td>0.00</td>\n",
       "      <td>0.02</td>\n",
       "      <td>80.000000</td>\n",
       "      <td>9.100000</td>\n",
       "      <td>T</td>\n",
       "      <td>0.56</td>\n",
       "      <td>2000s</td>\n",
       "    </tr>\n",
       "    <tr>\n",
       "      <th>523</th>\n",
       "      <td>Need for Speed: Most Wanted</td>\n",
       "      <td>PS3</td>\n",
       "      <td>2012</td>\n",
       "      <td>Racing</td>\n",
       "      <td>0.71</td>\n",
       "      <td>1.46</td>\n",
       "      <td>0.06</td>\n",
       "      <td>0.58</td>\n",
       "      <td>68.967679</td>\n",
       "      <td>7.136426</td>\n",
       "      <td>unknown</td>\n",
       "      <td>2.81</td>\n",
       "      <td>2010s</td>\n",
       "    </tr>\n",
       "    <tr>\n",
       "      <th>2048</th>\n",
       "      <td>Need for Speed: Most Wanted</td>\n",
       "      <td>PSV</td>\n",
       "      <td>2012</td>\n",
       "      <td>Racing</td>\n",
       "      <td>0.33</td>\n",
       "      <td>0.45</td>\n",
       "      <td>0.01</td>\n",
       "      <td>0.22</td>\n",
       "      <td>68.967679</td>\n",
       "      <td>7.136426</td>\n",
       "      <td>unknown</td>\n",
       "      <td>1.01</td>\n",
       "      <td>2010s</td>\n",
       "    </tr>\n",
       "    <tr>\n",
       "      <th>6273</th>\n",
       "      <td>Need for Speed: Most Wanted</td>\n",
       "      <td>WiiU</td>\n",
       "      <td>2013</td>\n",
       "      <td>Racing</td>\n",
       "      <td>0.13</td>\n",
       "      <td>0.12</td>\n",
       "      <td>0.00</td>\n",
       "      <td>0.02</td>\n",
       "      <td>68.967679</td>\n",
       "      <td>7.136426</td>\n",
       "      <td>unknown</td>\n",
       "      <td>0.27</td>\n",
       "      <td>2010s</td>\n",
       "    </tr>\n",
       "    <tr>\n",
       "      <th>6473</th>\n",
       "      <td>Need for Speed: Most Wanted</td>\n",
       "      <td>GBA</td>\n",
       "      <td>2005</td>\n",
       "      <td>Racing</td>\n",
       "      <td>0.19</td>\n",
       "      <td>0.07</td>\n",
       "      <td>0.00</td>\n",
       "      <td>0.00</td>\n",
       "      <td>68.967679</td>\n",
       "      <td>8.300000</td>\n",
       "      <td>E</td>\n",
       "      <td>0.26</td>\n",
       "      <td>2000s</td>\n",
       "    </tr>\n",
       "    <tr>\n",
       "      <th>6410</th>\n",
       "      <td>Need for Speed: Most Wanted</td>\n",
       "      <td>DS</td>\n",
       "      <td>2005</td>\n",
       "      <td>Racing</td>\n",
       "      <td>0.24</td>\n",
       "      <td>0.01</td>\n",
       "      <td>0.00</td>\n",
       "      <td>0.02</td>\n",
       "      <td>45.000000</td>\n",
       "      <td>6.100000</td>\n",
       "      <td>E</td>\n",
       "      <td>0.27</td>\n",
       "      <td>2000s</td>\n",
       "    </tr>\n",
       "  </tbody>\n",
       "</table>\n",
       "</div>"
      ],
      "text/plain": [
       "                              name platform  year_of_release   genre  \\\n",
       "1190   Need for Speed: Most Wanted     X360             2012  Racing   \n",
       "1591   Need for Speed: Most Wanted     X360             2005  Racing   \n",
       "1998   Need for Speed: Most Wanted       XB             2005  Racing   \n",
       "253    Need for Speed: Most Wanted      PS2             2005  Racing   \n",
       "5972   Need for Speed: Most Wanted       PC             2005  Racing   \n",
       "11715  Need for Speed: Most Wanted       PC             2012  Racing   \n",
       "3581   Need for Speed: Most Wanted       GC             2005  Racing   \n",
       "523    Need for Speed: Most Wanted      PS3             2012  Racing   \n",
       "2048   Need for Speed: Most Wanted      PSV             2012  Racing   \n",
       "6273   Need for Speed: Most Wanted     WiiU             2013  Racing   \n",
       "6473   Need for Speed: Most Wanted      GBA             2005  Racing   \n",
       "6410   Need for Speed: Most Wanted       DS             2005  Racing   \n",
       "\n",
       "       na_sales  eu_sales  jp_sales  other_sales  critic_score  user_score  \\\n",
       "1190       0.62      0.78      0.01         0.15     83.000000    8.500000   \n",
       "1591       1.00      0.13      0.02         0.10     83.000000    8.500000   \n",
       "1998       0.53      0.46      0.00         0.05     83.000000    8.800000   \n",
       "253        2.03      1.79      0.08         0.47     82.000000    9.100000   \n",
       "5972       0.02      0.23      0.00         0.04     82.000000    8.500000   \n",
       "11715      0.00      0.06      0.00         0.02     82.000000    8.500000   \n",
       "3581       0.43      0.11      0.00         0.02     80.000000    9.100000   \n",
       "523        0.71      1.46      0.06         0.58     68.967679    7.136426   \n",
       "2048       0.33      0.45      0.01         0.22     68.967679    7.136426   \n",
       "6273       0.13      0.12      0.00         0.02     68.967679    7.136426   \n",
       "6473       0.19      0.07      0.00         0.00     68.967679    8.300000   \n",
       "6410       0.24      0.01      0.00         0.02     45.000000    6.100000   \n",
       "\n",
       "        rating  total_sales decade  \n",
       "1190         T         1.56  2010s  \n",
       "1591         T         1.25  2000s  \n",
       "1998         T         1.04  2000s  \n",
       "253          T         4.37  2000s  \n",
       "5972         T         0.29  2000s  \n",
       "11715        T         0.08  2010s  \n",
       "3581         T         0.56  2000s  \n",
       "523    unknown         2.81  2010s  \n",
       "2048   unknown         1.01  2010s  \n",
       "6273   unknown         0.27  2010s  \n",
       "6473         E         0.26  2000s  \n",
       "6410         E         0.27  2000s  "
      ]
     },
     "execution_count": 54,
     "metadata": {},
     "output_type": "execute_result"
    }
   ],
   "source": [
    "# display rows containing \"Need for Speed: Most Wanted\"\n",
    "nfs_table = df[df['name'] == 'Need for Speed: Most Wanted']\n",
    "\n",
    "# display rows in descending order by highest critics score\n",
    "nfs_table.sort_values(by='critic_score', ascending=False, inplace=True)\n",
    "nfs_table"
   ]
  },
  {
   "cell_type": "markdown",
   "metadata": {},
   "source": [
    "*Need for Speed: Most Wanted* has been released in three editions: 2005, 2012, and 2013. The 2005 edition is available on the largest number of platforms, and therefore, a new table will be constructed that excludes the 2012 and 2013 editions to focus on the most widely distributed release."
   ]
  },
  {
   "cell_type": "code",
   "execution_count": 55,
   "metadata": {},
   "outputs": [
    {
     "data": {
      "text/html": [
       "<div>\n",
       "<style scoped>\n",
       "    .dataframe tbody tr th:only-of-type {\n",
       "        vertical-align: middle;\n",
       "    }\n",
       "\n",
       "    .dataframe tbody tr th {\n",
       "        vertical-align: top;\n",
       "    }\n",
       "\n",
       "    .dataframe thead th {\n",
       "        text-align: right;\n",
       "    }\n",
       "</style>\n",
       "<table border=\"1\" class=\"dataframe\">\n",
       "  <thead>\n",
       "    <tr style=\"text-align: right;\">\n",
       "      <th></th>\n",
       "      <th>name</th>\n",
       "      <th>platform</th>\n",
       "      <th>year_of_release</th>\n",
       "      <th>genre</th>\n",
       "      <th>na_sales</th>\n",
       "      <th>eu_sales</th>\n",
       "      <th>jp_sales</th>\n",
       "      <th>other_sales</th>\n",
       "      <th>critic_score</th>\n",
       "      <th>user_score</th>\n",
       "      <th>rating</th>\n",
       "      <th>total_sales</th>\n",
       "      <th>decade</th>\n",
       "    </tr>\n",
       "  </thead>\n",
       "  <tbody>\n",
       "    <tr>\n",
       "      <th>1591</th>\n",
       "      <td>Need for Speed: Most Wanted</td>\n",
       "      <td>X360</td>\n",
       "      <td>2005</td>\n",
       "      <td>Racing</td>\n",
       "      <td>1.00</td>\n",
       "      <td>0.13</td>\n",
       "      <td>0.02</td>\n",
       "      <td>0.10</td>\n",
       "      <td>83.000000</td>\n",
       "      <td>8.5</td>\n",
       "      <td>T</td>\n",
       "      <td>1.25</td>\n",
       "      <td>2000s</td>\n",
       "    </tr>\n",
       "    <tr>\n",
       "      <th>1998</th>\n",
       "      <td>Need for Speed: Most Wanted</td>\n",
       "      <td>XB</td>\n",
       "      <td>2005</td>\n",
       "      <td>Racing</td>\n",
       "      <td>0.53</td>\n",
       "      <td>0.46</td>\n",
       "      <td>0.00</td>\n",
       "      <td>0.05</td>\n",
       "      <td>83.000000</td>\n",
       "      <td>8.8</td>\n",
       "      <td>T</td>\n",
       "      <td>1.04</td>\n",
       "      <td>2000s</td>\n",
       "    </tr>\n",
       "    <tr>\n",
       "      <th>253</th>\n",
       "      <td>Need for Speed: Most Wanted</td>\n",
       "      <td>PS2</td>\n",
       "      <td>2005</td>\n",
       "      <td>Racing</td>\n",
       "      <td>2.03</td>\n",
       "      <td>1.79</td>\n",
       "      <td>0.08</td>\n",
       "      <td>0.47</td>\n",
       "      <td>82.000000</td>\n",
       "      <td>9.1</td>\n",
       "      <td>T</td>\n",
       "      <td>4.37</td>\n",
       "      <td>2000s</td>\n",
       "    </tr>\n",
       "    <tr>\n",
       "      <th>5972</th>\n",
       "      <td>Need for Speed: Most Wanted</td>\n",
       "      <td>PC</td>\n",
       "      <td>2005</td>\n",
       "      <td>Racing</td>\n",
       "      <td>0.02</td>\n",
       "      <td>0.23</td>\n",
       "      <td>0.00</td>\n",
       "      <td>0.04</td>\n",
       "      <td>82.000000</td>\n",
       "      <td>8.5</td>\n",
       "      <td>T</td>\n",
       "      <td>0.29</td>\n",
       "      <td>2000s</td>\n",
       "    </tr>\n",
       "    <tr>\n",
       "      <th>3581</th>\n",
       "      <td>Need for Speed: Most Wanted</td>\n",
       "      <td>GC</td>\n",
       "      <td>2005</td>\n",
       "      <td>Racing</td>\n",
       "      <td>0.43</td>\n",
       "      <td>0.11</td>\n",
       "      <td>0.00</td>\n",
       "      <td>0.02</td>\n",
       "      <td>80.000000</td>\n",
       "      <td>9.1</td>\n",
       "      <td>T</td>\n",
       "      <td>0.56</td>\n",
       "      <td>2000s</td>\n",
       "    </tr>\n",
       "    <tr>\n",
       "      <th>6473</th>\n",
       "      <td>Need for Speed: Most Wanted</td>\n",
       "      <td>GBA</td>\n",
       "      <td>2005</td>\n",
       "      <td>Racing</td>\n",
       "      <td>0.19</td>\n",
       "      <td>0.07</td>\n",
       "      <td>0.00</td>\n",
       "      <td>0.00</td>\n",
       "      <td>68.967679</td>\n",
       "      <td>8.3</td>\n",
       "      <td>E</td>\n",
       "      <td>0.26</td>\n",
       "      <td>2000s</td>\n",
       "    </tr>\n",
       "    <tr>\n",
       "      <th>6410</th>\n",
       "      <td>Need for Speed: Most Wanted</td>\n",
       "      <td>DS</td>\n",
       "      <td>2005</td>\n",
       "      <td>Racing</td>\n",
       "      <td>0.24</td>\n",
       "      <td>0.01</td>\n",
       "      <td>0.00</td>\n",
       "      <td>0.02</td>\n",
       "      <td>45.000000</td>\n",
       "      <td>6.1</td>\n",
       "      <td>E</td>\n",
       "      <td>0.27</td>\n",
       "      <td>2000s</td>\n",
       "    </tr>\n",
       "  </tbody>\n",
       "</table>\n",
       "</div>"
      ],
      "text/plain": [
       "                             name platform  year_of_release   genre  na_sales  \\\n",
       "1591  Need for Speed: Most Wanted     X360             2005  Racing      1.00   \n",
       "1998  Need for Speed: Most Wanted       XB             2005  Racing      0.53   \n",
       "253   Need for Speed: Most Wanted      PS2             2005  Racing      2.03   \n",
       "5972  Need for Speed: Most Wanted       PC             2005  Racing      0.02   \n",
       "3581  Need for Speed: Most Wanted       GC             2005  Racing      0.43   \n",
       "6473  Need for Speed: Most Wanted      GBA             2005  Racing      0.19   \n",
       "6410  Need for Speed: Most Wanted       DS             2005  Racing      0.24   \n",
       "\n",
       "      eu_sales  jp_sales  other_sales  critic_score  user_score rating  \\\n",
       "1591      0.13      0.02         0.10     83.000000         8.5      T   \n",
       "1998      0.46      0.00         0.05     83.000000         8.8      T   \n",
       "253       1.79      0.08         0.47     82.000000         9.1      T   \n",
       "5972      0.23      0.00         0.04     82.000000         8.5      T   \n",
       "3581      0.11      0.00         0.02     80.000000         9.1      T   \n",
       "6473      0.07      0.00         0.00     68.967679         8.3      E   \n",
       "6410      0.01      0.00         0.02     45.000000         6.1      E   \n",
       "\n",
       "      total_sales decade  \n",
       "1591         1.25  2000s  \n",
       "1998         1.04  2000s  \n",
       "253          4.37  2000s  \n",
       "5972         0.29  2000s  \n",
       "3581         0.56  2000s  \n",
       "6473         0.26  2000s  \n",
       "6410         0.27  2000s  "
      ]
     },
     "execution_count": 55,
     "metadata": {},
     "output_type": "execute_result"
    }
   ],
   "source": [
    "# filter out rows with year_of_release 2012 and 2013, stored in new table \n",
    "nfs_table_2005 = nfs_table[nfs_table['year_of_release'] == 2005]\n",
    "nfs_table_2005"
   ]
  },
  {
   "cell_type": "markdown",
   "metadata": {},
   "source": [
    "The next step in this section is to examine the variation in Need for Speed: Most Wanted **professional review scores across different platforms**. Review scores for the same game can vary significantly by platform, influenced by several factors, including differences in tactile experience, visual quality, and UX flow. A common assumption is that the higher a game’s professional review score on a particular platform, the higher its total sales. This assumption will be tested using the bar chart below."
   ]
  },
  {
   "cell_type": "code",
   "execution_count": 56,
   "metadata": {},
   "outputs": [
    {
     "data": {
      "image/png": "[encoded data removed]",
      "text/plain": [
       "<Figure size 1000x600 with 1 Axes>"
      ]
     },
     "metadata": {},
     "output_type": "display_data"
    }
   ],
   "source": [
    "# bar chart visualization\n",
    "nfs_table_2005.plot(x='platform', y='total_sales', kind='bar', figsize=(10, 6))\n",
    "plt.xlabel('Platform')\n",
    "plt.ylabel('Total Sales in million Dollar')\n",
    "plt.title('Total Sales of \"Need for Speed: Most Wanted\" 2005 by Platform')\n",
    "plt.xticks(rotation=45)  # Rotate x-axis labels for better readability\n",
    "plt.show()"
   ]
  },
  {
   "cell_type": "markdown",
   "metadata": {},
   "source": [
    "Professional review scores show a positive, though weak, correlation with total sales. This finding is consistent with the bar chart above, which ultimately challenges the assumption that review scores directly drive total sales. *Need for Speed: Most Wanted* achieved the highest professional review score on the X360 platform, yet this platform did not record the highest total sales. Conversely, on the PS2 platform, the game ranked third in professional review scores but led in total sales, with a difference of approximately `$ 3.12` million compared to Xbox 360.\n",
    "\n",
    "These findings emphasize that **professional review scores alone are not reliable indicators for predicting sales outcomes**. A key influencing factor is likely platform ownership levels. According to \"Game Machines: The Encyclopedia of Consoles, Handhelds & Home Computers 1972–2012 (Foster & Winnie, 2012)\", PS2 ownership worldwide was significantly higher and more evenly distributed than that of Xbox, naturally contributing to PS2’s stronger game sales despite receiving comparatively lower review scores."
   ]
  },
  {
   "cell_type": "markdown",
   "metadata": {},
   "source": [
    "[Back to Analysis](#Analysis)"
   ]
  },
  {
   "cell_type": "markdown",
   "metadata": {},
   "source": [
    "### Popularity by Genre"
   ]
  },
  {
   "cell_type": "code",
   "execution_count": 57,
   "metadata": {
    "scrolled": true
   },
   "outputs": [
    {
     "data": {
      "image/png": "[encoded data removed]",
      "text/plain": [
       "<Figure size 640x480 with 1 Axes>"
      ]
     },
     "metadata": {},
     "output_type": "display_data"
    }
   ],
   "source": [
    "# table of total sales per genre\n",
    "genre_sales = df.pivot_table(index='genre', values='total_sales', aggfunc='sum')\n",
    "genre_sales.sort_values(by='total_sales', ascending=False, inplace=True)\n",
    "genre_sales.plot(kind='bar', legend=None)\n",
    "plt.xlabel('Genre')\n",
    "plt.ylabel('Total Sales (in Million Dollars)')\n",
    "plt.title('Total Sales by Genre')\n",
    "plt.show()"
   ]
  },
  {
   "cell_type": "markdown",
   "metadata": {},
   "source": [
    "Based on total sales, the Action genre records the highest sales, while the Strategy genre ranks the lowest. However, these findings cannot yet be generalized, as they are not adjusted for the average (i.e., total sales normalized by the number of games within each genre)."
   ]
  },
  {
   "cell_type": "code",
   "execution_count": 58,
   "metadata": {},
   "outputs": [
    {
     "data": {
      "image/png": "[encoded data removed]",
      "text/plain": [
       "<Figure size 640x480 with 1 Axes>"
      ]
     },
     "metadata": {},
     "output_type": "display_data"
    }
   ],
   "source": [
    "# table of average sales per genre \n",
    "genre_avg = df.pivot_table(index='genre', values='total_sales', aggfunc='mean')\n",
    "genre_avg = genre_avg.rename(columns={'total_sales': 'avg_sales'})\n",
    "genre_avg.sort_values(by='avg_sales', ascending=False, inplace=True)\n",
    "genre_avg.plot(kind='bar', legend=None)\n",
    "plt.xlabel('Genre')\n",
    "plt.ylabel('Average Sales (in Million Dollars)')\n",
    "plt.title('Average Sales by Genre')\n",
    "plt.show()"
   ]
  },
  {
   "cell_type": "markdown",
   "metadata": {},
   "source": [
    "When assessed by average sales, the top-performing genre is not \"Action\" but \"Platform.\" This is followed by the \"Shooter\" and \"Role-Playing\" genres. \"Action\" falls to the seventh position, with \"Adventure\" occupying the last place in terms of average sales."
   ]
  },
  {
   "cell_type": "markdown",
   "metadata": {},
   "source": [
    "[Back to Analysis](#Analysis)"
   ]
  },
  {
   "cell_type": "markdown",
   "metadata": {},
   "source": [
    "[Back to Contents](#contents)"
   ]
  },
  {
   "cell_type": "markdown",
   "metadata": {},
   "source": [
    "## User Profile by Region"
   ]
  },
  {
   "cell_type": "markdown",
   "metadata": {},
   "source": [
    "### Platform Popularity by Region"
   ]
  },
  {
   "cell_type": "code",
   "execution_count": 59,
   "metadata": {
    "scrolled": true
   },
   "outputs": [
    {
     "data": {
      "text/html": [
       "<div>\n",
       "<style scoped>\n",
       "    .dataframe tbody tr th:only-of-type {\n",
       "        vertical-align: middle;\n",
       "    }\n",
       "\n",
       "    .dataframe tbody tr th {\n",
       "        vertical-align: top;\n",
       "    }\n",
       "\n",
       "    .dataframe thead th {\n",
       "        text-align: right;\n",
       "    }\n",
       "</style>\n",
       "<table border=\"1\" class=\"dataframe\">\n",
       "  <thead>\n",
       "    <tr style=\"text-align: right;\">\n",
       "      <th></th>\n",
       "      <th>eu_sales</th>\n",
       "      <th>jp_sales</th>\n",
       "      <th>na_sales</th>\n",
       "      <th>total_sales</th>\n",
       "    </tr>\n",
       "    <tr>\n",
       "      <th>platform</th>\n",
       "      <th></th>\n",
       "      <th></th>\n",
       "      <th></th>\n",
       "      <th></th>\n",
       "    </tr>\n",
       "  </thead>\n",
       "  <tbody>\n",
       "    <tr>\n",
       "      <th>PS2</th>\n",
       "      <td>339.29</td>\n",
       "      <td>139.20</td>\n",
       "      <td>583.84</td>\n",
       "      <td>1255.77</td>\n",
       "    </tr>\n",
       "    <tr>\n",
       "      <th>X360</th>\n",
       "      <td>270.76</td>\n",
       "      <td>12.43</td>\n",
       "      <td>602.47</td>\n",
       "      <td>971.42</td>\n",
       "    </tr>\n",
       "    <tr>\n",
       "      <th>PS3</th>\n",
       "      <td>330.29</td>\n",
       "      <td>80.19</td>\n",
       "      <td>393.49</td>\n",
       "      <td>939.65</td>\n",
       "    </tr>\n",
       "    <tr>\n",
       "      <th>Wii</th>\n",
       "      <td>262.21</td>\n",
       "      <td>69.33</td>\n",
       "      <td>496.90</td>\n",
       "      <td>907.51</td>\n",
       "    </tr>\n",
       "    <tr>\n",
       "      <th>DS</th>\n",
       "      <td>188.89</td>\n",
       "      <td>175.57</td>\n",
       "      <td>382.40</td>\n",
       "      <td>806.12</td>\n",
       "    </tr>\n",
       "  </tbody>\n",
       "</table>\n",
       "</div>"
      ],
      "text/plain": [
       "          eu_sales  jp_sales  na_sales  total_sales\n",
       "platform                                           \n",
       "PS2         339.29    139.20    583.84      1255.77\n",
       "X360        270.76     12.43    602.47       971.42\n",
       "PS3         330.29     80.19    393.49       939.65\n",
       "Wii         262.21     69.33    496.90       907.51\n",
       "DS          188.89    175.57    382.40       806.12"
      ]
     },
     "execution_count": 59,
     "metadata": {},
     "output_type": "execute_result"
    }
   ],
   "source": [
    "# display 5 platforms with highest total sales in descending order\n",
    "top_platforms = df.pivot_table(index='platform', values=['na_sales', 'eu_sales', 'jp_sales', 'total_sales'], aggfunc='sum')\n",
    "top_platforms.sort_values(by='total_sales', ascending=False, inplace=True)\n",
    "top_platforms = top_platforms.drop(top_platforms.index[5:])\n",
    "top_platforms"
   ]
  },
  {
   "cell_type": "markdown",
   "metadata": {},
   "source": [
    "The table above displays the five most popular platforms based on total global sales. In terms of overall sales, the most popular platform is the PS2, followed by the X360. However, this ranking may vary when examining specific regional markets. This section will analyze user profiles across regions to understand game platform preferences by market."
   ]
  },
  {
   "cell_type": "markdown",
   "metadata": {},
   "source": [
    "#### Popular Platform in European Market"
   ]
  },
  {
   "cell_type": "code",
   "execution_count": 60,
   "metadata": {},
   "outputs": [
    {
     "data": {
      "image/png": "[encoded data removed]",
      "text/plain": [
       "<Figure size 640x480 with 1 Axes>"
      ]
     },
     "metadata": {},
     "output_type": "display_data"
    }
   ],
   "source": [
    "# bar diagram of 5 top-selling platform in EU market\n",
    "eu_top_platforms = top_platforms.sort_values(by='eu_sales', ascending=False)   \n",
    "eu_top_platforms.plot(kind='bar', y='eu_sales', color='blue',legend=None)\n",
    "plt.xlabel('Platform')\n",
    "plt.ylabel('Total Sales in EU market (in Million Dollars)')\n",
    "plt.title('Total Sales by Platform in EU market')\n",
    "plt.show()"
   ]
  },
  {
   "cell_type": "markdown",
   "metadata": {},
   "source": [
    "In the European market, the most popular platform is the **PS2**, followed by the PS3. None of these top five gaming platforms are from European companies. The popularity of PlayStation's second and third generations in Europe could be attributed to factors such as consumer accessibility to these consoles and their pricing relative to other consoles. \n",
    "\n",
    "Chronologically, the PS2 is the oldest, making it the most affordable option. The PS3, released seven years later, was sold at a higher price point. Although the Xbox 360 was introduced around the same time as the PS2, its price range was closer to that of the PS3, and it offered more accessories, potentially explaining its lower popularity compared to the PS2 and PS3."
   ]
  },
  {
   "cell_type": "markdown",
   "metadata": {},
   "source": [
    "#### Popular Platform in North American Market"
   ]
  },
  {
   "cell_type": "code",
   "execution_count": 61,
   "metadata": {},
   "outputs": [
    {
     "data": {
      "image/png": "[encoded data removed]",
      "text/plain": [
       "<Figure size 640x480 with 1 Axes>"
      ]
     },
     "metadata": {},
     "output_type": "display_data"
    }
   ],
   "source": [
    "# bar diagram of 5 top-selling platform in NA market\n",
    "na_top_platforms = top_platforms.sort_values(by='na_sales', ascending=False)   \n",
    "na_top_platforms.plot(kind='bar', y='na_sales', color='green',legend=None)\n",
    "plt.xlabel('Platform')\n",
    "plt.ylabel('Total Sales in NA market (in Million Dollars)')\n",
    "plt.title('Total Sales by Platform in NA Market')\n",
    "plt.show()"
   ]
  },
  {
   "cell_type": "markdown",
   "metadata": {},
   "source": [
    "In the North American market, the **Xbox 360** leads in popularity, followed by the PS2. Xbox’s position at the top is likely due to its production by Microsoft Corporation, a major U.S.-based technology company. This domestic advantage made it easier for Xbox to expand its reach and enhance platform accessibility in the North American market. The high popularity of the PS2, despite being second, is likely influenced by its lower price relative to other platforms."
   ]
  },
  {
   "cell_type": "markdown",
   "metadata": {},
   "source": [
    "#### Popular Platform in Japanese Market"
   ]
  },
  {
   "cell_type": "code",
   "execution_count": 62,
   "metadata": {
    "scrolled": true
   },
   "outputs": [
    {
     "data": {
      "image/png": "[encoded data removed]",
      "text/plain": [
       "<Figure size 640x480 with 1 Axes>"
      ]
     },
     "metadata": {},
     "output_type": "display_data"
    }
   ],
   "source": [
    "# bar diagram of 5 top-selling platform in JP market\n",
    "jp_top_platforms = top_platforms.sort_values(by='jp_sales', ascending=False)   \n",
    "jp_top_platforms.plot(kind='bar', y='jp_sales', color='red',legend=None)\n",
    "plt.xlabel('Platform')\n",
    "plt.ylabel('Total Sales in JP Market (in Million Dollars)')\n",
    "plt.title('Total Sales by Platform in JP Market')\n",
    "plt.show()"
   ]
  },
  {
   "cell_type": "markdown",
   "metadata": {},
   "source": [
    "In the Japanese market, the DS is the most popular platform, followed by the PS2. Both platforms are produced by Japanese companies; however, the DS's manufacturer, Nintendo, has been established for a decade longer than Sony, which produces the PS2. Consequently, Nintendo’s stronger local brand identity likely contributed to the DS’s higher popularity among Japanese consumers."
   ]
  },
  {
   "cell_type": "markdown",
   "metadata": {},
   "source": [
    "<span style=\"font-size:12pt; font-weight: bold;\">Preliminary Conclusions</span>"
   ]
  },
  {
   "cell_type": "markdown",
   "metadata": {},
   "source": [
    "Each market exhibits distinct preferences for gaming platforms. In North America and Japan, the most popular platforms are predominantly produced by companies based in those respective countries. In the Japanese market, despite the majority of platforms being manufactured by domestic companies, consumer preference tends to favor those with a longer-standing presence in the industry. Conversely, in the European market, the most popular platforms are also those that enjoy global recognition, namely the PS2 and PS3."
   ]
  },
  {
   "cell_type": "markdown",
   "metadata": {},
   "source": [
    "[Back to User Profile by Region](#User-Profile-by-Region)"
   ]
  },
  {
   "cell_type": "markdown",
   "metadata": {},
   "source": [
    "### Genre Popularity by Region"
   ]
  },
  {
   "cell_type": "code",
   "execution_count": 63,
   "metadata": {},
   "outputs": [
    {
     "data": {
      "text/html": [
       "<div>\n",
       "<style scoped>\n",
       "    .dataframe tbody tr th:only-of-type {\n",
       "        vertical-align: middle;\n",
       "    }\n",
       "\n",
       "    .dataframe tbody tr th {\n",
       "        vertical-align: top;\n",
       "    }\n",
       "\n",
       "    .dataframe thead th {\n",
       "        text-align: right;\n",
       "    }\n",
       "</style>\n",
       "<table border=\"1\" class=\"dataframe\">\n",
       "  <thead>\n",
       "    <tr style=\"text-align: right;\">\n",
       "      <th></th>\n",
       "      <th>eu_sales</th>\n",
       "      <th>jp_sales</th>\n",
       "      <th>na_sales</th>\n",
       "      <th>total_sales</th>\n",
       "    </tr>\n",
       "    <tr>\n",
       "      <th>genre</th>\n",
       "      <th></th>\n",
       "      <th></th>\n",
       "      <th></th>\n",
       "      <th></th>\n",
       "    </tr>\n",
       "  </thead>\n",
       "  <tbody>\n",
       "    <tr>\n",
       "      <th>Action</th>\n",
       "      <td>519.13</td>\n",
       "      <td>161.43</td>\n",
       "      <td>879.01</td>\n",
       "      <td>1744.17</td>\n",
       "    </tr>\n",
       "    <tr>\n",
       "      <th>Sports</th>\n",
       "      <td>376.79</td>\n",
       "      <td>135.54</td>\n",
       "      <td>684.43</td>\n",
       "      <td>1331.27</td>\n",
       "    </tr>\n",
       "    <tr>\n",
       "      <th>Shooter</th>\n",
       "      <td>317.34</td>\n",
       "      <td>38.76</td>\n",
       "      <td>592.24</td>\n",
       "      <td>1052.45</td>\n",
       "    </tr>\n",
       "    <tr>\n",
       "      <th>Role-Playing</th>\n",
       "      <td>188.71</td>\n",
       "      <td>355.41</td>\n",
       "      <td>330.81</td>\n",
       "      <td>934.56</td>\n",
       "    </tr>\n",
       "    <tr>\n",
       "      <th>Platform</th>\n",
       "      <td>200.35</td>\n",
       "      <td>130.83</td>\n",
       "      <td>445.50</td>\n",
       "      <td>827.77</td>\n",
       "    </tr>\n",
       "  </tbody>\n",
       "</table>\n",
       "</div>"
      ],
      "text/plain": [
       "              eu_sales  jp_sales  na_sales  total_sales\n",
       "genre                                                  \n",
       "Action          519.13    161.43    879.01      1744.17\n",
       "Sports          376.79    135.54    684.43      1331.27\n",
       "Shooter         317.34     38.76    592.24      1052.45\n",
       "Role-Playing    188.71    355.41    330.81       934.56\n",
       "Platform        200.35    130.83    445.50       827.77"
      ]
     },
     "execution_count": 63,
     "metadata": {},
     "output_type": "execute_result"
    }
   ],
   "source": [
    "# display 5 top-selling genres\n",
    "top_genres = df.pivot_table(index='genre', values=['na_sales', 'eu_sales', 'jp_sales', 'total_sales'], aggfunc='sum')\n",
    "top_genres.sort_values(by='total_sales', ascending=False, inplace=True)\n",
    "top_genres = top_genres.drop(top_genres.index[5:])\n",
    "top_genres"
   ]
  },
  {
   "cell_type": "markdown",
   "metadata": {},
   "source": [
    "#### Popular Genre in European Market"
   ]
  },
  {
   "cell_type": "code",
   "execution_count": 64,
   "metadata": {},
   "outputs": [
    {
     "data": {
      "image/png": "[encoded data removed]",
      "text/plain": [
       "<Figure size 640x480 with 1 Axes>"
      ]
     },
     "metadata": {},
     "output_type": "display_data"
    }
   ],
   "source": [
    "# bar diagram of 5 top-selling genre in EU market\n",
    "eu_top_genres = top_genres.sort_values(by='eu_sales', ascending=False)   \n",
    "eu_top_genres.plot(kind='bar', y='eu_sales', color='blue',legend=None)\n",
    "plt.xlabel('Genre')\n",
    "plt.ylabel('Total Sales (in Million) Dollars)')\n",
    "plt.title('Total Sales by Genre in EU Market')\n",
    "plt.show()"
   ]
  },
  {
   "cell_type": "markdown",
   "metadata": {},
   "source": [
    "In the European market, the most favored genre is Action, followed by Sports and then Shooter."
   ]
  },
  {
   "cell_type": "markdown",
   "metadata": {},
   "source": [
    "#### Popular Genre in North American Market"
   ]
  },
  {
   "cell_type": "code",
   "execution_count": 65,
   "metadata": {},
   "outputs": [
    {
     "data": {
      "image/png": "[encoded data removed]",
      "text/plain": [
       "<Figure size 640x480 with 1 Axes>"
      ]
     },
     "metadata": {},
     "output_type": "display_data"
    }
   ],
   "source": [
    "# bar diagram of 5 top-selling genre in NA market\n",
    "na_top_genres = top_genres.sort_values(by='na_sales', ascending=False)   \n",
    "na_top_genres.plot(kind='bar', y='na_sales', color='green',legend=None)\n",
    "plt.xlabel('Genre')\n",
    "plt.ylabel('Total Sales (in Million Dollars)')\n",
    "plt.title('Total Sales by Genre in NA Market')\n",
    "plt.show()"
   ]
  },
  {
   "cell_type": "markdown",
   "metadata": {},
   "source": [
    "In the North American market, the most popular genre is also Action, followed by Sports and then Shooter. The ranking of genre popularity is identical to that of the European market."
   ]
  },
  {
   "cell_type": "markdown",
   "metadata": {},
   "source": [
    "#### Popular Genre in Japanese Market"
   ]
  },
  {
   "cell_type": "code",
   "execution_count": 66,
   "metadata": {},
   "outputs": [
    {
     "data": {
      "image/png": "[encoded data removed]",
      "text/plain": [
       "<Figure size 640x480 with 1 Axes>"
      ]
     },
     "metadata": {},
     "output_type": "display_data"
    }
   ],
   "source": [
    "# bar diagram of 5 top-selling genre in JP market\n",
    "jp_top_genres = top_genres.sort_values(by='jp_sales', ascending=False)   \n",
    "jp_top_genres.plot(kind='bar', y='jp_sales', color='red',legend=None)\n",
    "plt.xlabel('Genre')\n",
    "plt.ylabel('Total Sales (in Million Dollars)')\n",
    "plt.title('Total Sales by Genre in JP Market')\n",
    "plt.show()"
   ]
  },
  {
   "cell_type": "markdown",
   "metadata": {},
   "source": [
    "In contrast, the Japanese market shows a different pattern, with Role-Playing emerging as the most preferred genre, followed by Action and then Sports. This deviation distinguishes it from the trends observed in the other two markets."
   ]
  },
  {
   "cell_type": "markdown",
   "metadata": {},
   "source": [
    "<span style=\"font-size:12pt; font-weight: bold;\">Preliminary Conclusions</span>"
   ]
  },
  {
   "cell_type": "markdown",
   "metadata": {},
   "source": [
    "Genre preferences in the European and North American markets are largely identical, with both regions favoring Action, Sports, and Shooter genres. However, a distinct pattern emerges in the Japanese market, where the Role-Playing genre significantly surpasses all others, and the popularity of the Shooter genre is notably low compared to its counterparts in Europe and North America. This variation in genre preference may be influenced by the availability of games within each genre in the respective markets."
   ]
  },
  {
   "cell_type": "markdown",
   "metadata": {},
   "source": [
    "[Back to User Profile by Region](#User-Profile-by-Region)"
   ]
  },
  {
   "cell_type": "markdown",
   "metadata": {},
   "source": [
    "### Age Rating and Total Sales"
   ]
  },
  {
   "cell_type": "markdown",
   "metadata": {},
   "source": [
    "In accordance with existing regulations, every game is assigned an age rating that indicates the appropriate age group for which the game is intended. This section aims to examine how age ratings influence total sales in the European, North American, and Japanese markets. The preliminary assumption is that the lowest age rating—in this case, **E (Everyone)** —should exhibit the highest total sales, as it encompasses a broader demographic. Conversely, higher age ratings, such as **AO (Adult Only)**, are expected to correlate with lower total sales due to a smaller demographic reach."
   ]
  },
  {
   "cell_type": "code",
   "execution_count": 67,
   "metadata": {},
   "outputs": [
    {
     "data": {
      "text/html": [
       "<div>\n",
       "<style scoped>\n",
       "    .dataframe tbody tr th:only-of-type {\n",
       "        vertical-align: middle;\n",
       "    }\n",
       "\n",
       "    .dataframe tbody tr th {\n",
       "        vertical-align: top;\n",
       "    }\n",
       "\n",
       "    .dataframe thead th {\n",
       "        text-align: right;\n",
       "    }\n",
       "</style>\n",
       "<table border=\"1\" class=\"dataframe\">\n",
       "  <thead>\n",
       "    <tr style=\"text-align: right;\">\n",
       "      <th></th>\n",
       "      <th>eu_sales</th>\n",
       "      <th>jp_sales</th>\n",
       "      <th>na_sales</th>\n",
       "      <th>total_sales</th>\n",
       "    </tr>\n",
       "    <tr>\n",
       "      <th>rating</th>\n",
       "      <th></th>\n",
       "      <th></th>\n",
       "      <th></th>\n",
       "      <th></th>\n",
       "    </tr>\n",
       "  </thead>\n",
       "  <tbody>\n",
       "    <tr>\n",
       "      <th>E</th>\n",
       "      <td>710.52</td>\n",
       "      <td>199.57</td>\n",
       "      <td>1295.55</td>\n",
       "      <td>2439.84</td>\n",
       "    </tr>\n",
       "    <tr>\n",
       "      <th>T</th>\n",
       "      <td>427.03</td>\n",
       "      <td>151.40</td>\n",
       "      <td>759.75</td>\n",
       "      <td>1493.35</td>\n",
       "    </tr>\n",
       "    <tr>\n",
       "      <th>M</th>\n",
       "      <td>483.97</td>\n",
       "      <td>64.24</td>\n",
       "      <td>748.48</td>\n",
       "      <td>1473.79</td>\n",
       "    </tr>\n",
       "    <tr>\n",
       "      <th>E10+</th>\n",
       "      <td>188.52</td>\n",
       "      <td>40.20</td>\n",
       "      <td>353.32</td>\n",
       "      <td>655.60</td>\n",
       "    </tr>\n",
       "    <tr>\n",
       "      <th>AO</th>\n",
       "      <td>0.61</td>\n",
       "      <td>0.00</td>\n",
       "      <td>1.26</td>\n",
       "      <td>1.96</td>\n",
       "    </tr>\n",
       "    <tr>\n",
       "      <th>EC</th>\n",
       "      <td>0.11</td>\n",
       "      <td>0.00</td>\n",
       "      <td>1.53</td>\n",
       "      <td>1.75</td>\n",
       "    </tr>\n",
       "    <tr>\n",
       "      <th>RP</th>\n",
       "      <td>0.08</td>\n",
       "      <td>0.00</td>\n",
       "      <td>0.00</td>\n",
       "      <td>0.09</td>\n",
       "    </tr>\n",
       "  </tbody>\n",
       "</table>\n",
       "</div>"
      ],
      "text/plain": [
       "        eu_sales  jp_sales  na_sales  total_sales\n",
       "rating                                           \n",
       "E         710.52    199.57   1295.55      2439.84\n",
       "T         427.03    151.40    759.75      1493.35\n",
       "M         483.97     64.24    748.48      1473.79\n",
       "E10+      188.52     40.20    353.32       655.60\n",
       "AO          0.61      0.00      1.26         1.96\n",
       "EC          0.11      0.00      1.53         1.75\n",
       "RP          0.08      0.00      0.00         0.09"
      ]
     },
     "execution_count": 67,
     "metadata": {},
     "output_type": "execute_result"
    }
   ],
   "source": [
    "# display total sales by rating category in descending order\n",
    "rating_rank = df.pivot_table(index='rating', values=['na_sales', 'eu_sales', 'jp_sales', 'total_sales'], aggfunc='sum')\n",
    "rating_rank.sort_values(by='total_sales', ascending=False, inplace=True)\n",
    "\n",
    "# drop rows with rating 'unknown'\n",
    "rating_rank = rating_rank.drop(rating_rank.index[0])\n",
    "rating_rank"
   ]
  },
  {
   "cell_type": "markdown",
   "metadata": {},
   "source": [
    "The table above indicates that the highest sales are achieved by games categorized with the **E (Everyone)** rating. Games in this category are deemed suitable for all ages. Following this, games rated **T (Teen)** occupy the second position, which are considered appropriate for ages 13 and up. Next are games rated **M (Mature)**, suitable for ages 17 and older. This aligns with the preliminary assumption that lower age ratings correspond to a larger market share, thereby resulting in higher total sales.\n",
    "\n",
    "The last position is held by games with the **RP (Rating Pending)** category. This designation indicates that these games are still awaiting a rating from the ESRB. Due to the limited number of entries in this category, which cannot adequately represent the actual rating categories, this row will be excluded from further analysis."
   ]
  },
  {
   "cell_type": "code",
   "execution_count": 68,
   "metadata": {},
   "outputs": [
    {
     "data": {
      "text/html": [
       "<div>\n",
       "<style scoped>\n",
       "    .dataframe tbody tr th:only-of-type {\n",
       "        vertical-align: middle;\n",
       "    }\n",
       "\n",
       "    .dataframe tbody tr th {\n",
       "        vertical-align: top;\n",
       "    }\n",
       "\n",
       "    .dataframe thead th {\n",
       "        text-align: right;\n",
       "    }\n",
       "</style>\n",
       "<table border=\"1\" class=\"dataframe\">\n",
       "  <thead>\n",
       "    <tr style=\"text-align: right;\">\n",
       "      <th></th>\n",
       "      <th>eu_sales</th>\n",
       "      <th>jp_sales</th>\n",
       "      <th>na_sales</th>\n",
       "      <th>total_sales</th>\n",
       "    </tr>\n",
       "    <tr>\n",
       "      <th>rating</th>\n",
       "      <th></th>\n",
       "      <th></th>\n",
       "      <th></th>\n",
       "      <th></th>\n",
       "    </tr>\n",
       "  </thead>\n",
       "  <tbody>\n",
       "    <tr>\n",
       "      <th>E</th>\n",
       "      <td>710.52</td>\n",
       "      <td>199.57</td>\n",
       "      <td>1295.55</td>\n",
       "      <td>2439.84</td>\n",
       "    </tr>\n",
       "    <tr>\n",
       "      <th>T</th>\n",
       "      <td>427.03</td>\n",
       "      <td>151.40</td>\n",
       "      <td>759.75</td>\n",
       "      <td>1493.35</td>\n",
       "    </tr>\n",
       "    <tr>\n",
       "      <th>M</th>\n",
       "      <td>483.97</td>\n",
       "      <td>64.24</td>\n",
       "      <td>748.48</td>\n",
       "      <td>1473.79</td>\n",
       "    </tr>\n",
       "    <tr>\n",
       "      <th>E10+</th>\n",
       "      <td>188.52</td>\n",
       "      <td>40.20</td>\n",
       "      <td>353.32</td>\n",
       "      <td>655.60</td>\n",
       "    </tr>\n",
       "    <tr>\n",
       "      <th>AO</th>\n",
       "      <td>0.61</td>\n",
       "      <td>0.00</td>\n",
       "      <td>1.26</td>\n",
       "      <td>1.96</td>\n",
       "    </tr>\n",
       "    <tr>\n",
       "      <th>EC</th>\n",
       "      <td>0.11</td>\n",
       "      <td>0.00</td>\n",
       "      <td>1.53</td>\n",
       "      <td>1.75</td>\n",
       "    </tr>\n",
       "  </tbody>\n",
       "</table>\n",
       "</div>"
      ],
      "text/plain": [
       "        eu_sales  jp_sales  na_sales  total_sales\n",
       "rating                                           \n",
       "E         710.52    199.57   1295.55      2439.84\n",
       "T         427.03    151.40    759.75      1493.35\n",
       "M         483.97     64.24    748.48      1473.79\n",
       "E10+      188.52     40.20    353.32       655.60\n",
       "AO          0.61      0.00      1.26         1.96\n",
       "EC          0.11      0.00      1.53         1.75"
      ]
     },
     "execution_count": 68,
     "metadata": {},
     "output_type": "execute_result"
    }
   ],
   "source": [
    "# drop rows with rating \"RP\"\n",
    "rating_rank = rating_rank.drop(rating_rank.index[-1])\n",
    "rating_rank"
   ]
  },
  {
   "cell_type": "markdown",
   "metadata": {},
   "source": [
    "Following the removal of rows labeled as **RP (Rating Pending)**, the final ranking now features games categorized with the **EC (Early Childhood)** rating in the last position. This category encompasses games deemed suitable for ages 3 and up. The second-to-last position is occupied by games assigned the **AO (Adult Only)** rating, which are regarded as appropriate for ages 18 and over.\n",
    "\n",
    "This section will proceed to investigate the relationship between game age ratings and sales in the European, North American, and Japanese markets."
   ]
  },
  {
   "cell_type": "markdown",
   "metadata": {},
   "source": [
    "#### Sales by Age Rating in European Market"
   ]
  },
  {
   "cell_type": "code",
   "execution_count": 69,
   "metadata": {},
   "outputs": [
    {
     "data": {
      "image/png": "[encoded data removed]",
      "text/plain": [
       "<Figure size 640x480 with 1 Axes>"
      ]
     },
     "metadata": {},
     "output_type": "display_data"
    }
   ],
   "source": [
    "# bar diagram of Age Rating and Total Sales in EU market\n",
    "eu_rating = rating_rank.sort_values(by='eu_sales', ascending=False)   \n",
    "eu_rating.plot(kind='bar', y='eu_sales', color='blue',legend=None)\n",
    "plt.xlabel('Age Rating')\n",
    "plt.ylabel('Total Sales (in Million Dollars)')\n",
    "plt.title('Total Sales by Age Rating in EU Market')\n",
    "plt.show()"
   ]
  },
  {
   "cell_type": "markdown",
   "metadata": {},
   "source": [
    "The diagram above illustrates that the video games with the highest total sales in the European market belong to the **E (Everyone)** rating, which aligns with the general trend. The lowest sales ranking is also consistent with this trend, with the last position falling under the **EC** rating, followed by the **AO**. \n",
    "\n",
    "However, the second to fourth rankings differ from the general trend, as the second most popular rating is **M (Mature)**, designated for players aged 17 and older. Its total sales surpass those of the **T (Teen)** rating. Further research is necessary to identify the factors influencing this pattern.\n",
    "\n",
    "One topic that could be investigated is the parenting styles in Europe that may affect the activities of children and teenagers. The **E10+** and **T** ratings are specifically designed for children aged 10 to teenagers up to 17. Within this age range, parents serve as gatekeepers in the purchasing decision-making process. The possibility that playing video games is not an activity favored by European parents may explain why sales of games targeted at this age group are lower than those aimed at adults."
   ]
  },
  {
   "cell_type": "markdown",
   "metadata": {},
   "source": [
    "#### Sales by Age Rating in North American Market"
   ]
  },
  {
   "cell_type": "code",
   "execution_count": 70,
   "metadata": {},
   "outputs": [
    {
     "data": {
      "image/png": "[encoded data removed]",
      "text/plain": [
       "<Figure size 640x480 with 1 Axes>"
      ]
     },
     "metadata": {},
     "output_type": "display_data"
    }
   ],
   "source": [
    "# bar diagram of Age Rating and Total Sales in NA market\n",
    "na_rating = rating_rank.sort_values(by='na_sales', ascending=False)   \n",
    "na_rating.plot(kind='bar', y='na_sales', color='green',legend=None)\n",
    "plt.xlabel('Age Rating')\n",
    "plt.ylabel('Total Sales (in Million Dollars)')\n",
    "plt.title('Total Sales by Age Rating in NA Market')\n",
    "plt.show()"
   ]
  },
  {
   "cell_type": "markdown",
   "metadata": {},
   "source": [
    "The diagram above indicates that the video games with the highest total sales in the North American market are those rated **E (Everyone)**, followed by **T (Teen)** and **M (Mature)**, which is consistent with the general trend. The lowest sales ranking shows slight variation from the general trend, with the last position falling under the **AO** rating, followed by the **EC** rating.\n",
    "\n",
    "In contrast to the European market, **the activity of playing video games among children and teenagers is more prevalent in North America**. Furthermore, the total sales of games with an \"M\" rating are nearly equivalent to those with a \"T\" rating. This suggests that gaming activity patterns in North America remain relatively consistent across different age groups."
   ]
  },
  {
   "cell_type": "markdown",
   "metadata": {},
   "source": [
    "#### Sales by Age Rating in Japanese Market"
   ]
  },
  {
   "cell_type": "code",
   "execution_count": 71,
   "metadata": {},
   "outputs": [
    {
     "data": {
      "image/png": "[encoded data removed]",
      "text/plain": [
       "<Figure size 640x480 with 1 Axes>"
      ]
     },
     "metadata": {},
     "output_type": "display_data"
    }
   ],
   "source": [
    "# bar diagram of Age Rating and Total Sales in JP market\n",
    "jp_rating = rating_rank.sort_values(by='jp_sales', ascending=False)   \n",
    "jp_rating.plot(kind='bar', y='jp_sales', color='red',legend=None)\n",
    "plt.xlabel('Age Rating')\n",
    "plt.ylabel('Total Sales (in Million Dollars)')\n",
    "plt.title('Total Sales by Age Rating in JP Market')\n",
    "plt.show()"
   ]
  },
  {
   "cell_type": "markdown",
   "metadata": {},
   "source": [
    "The diagram above reveals that the video games with the highest total sales in the Japanese market are those rated **\"E (Everyone)**, followed by **T (Teen)** and **M (Mature)**, which aligns with the general trend. The lowest sales ranking is also consistent with this trend, where the last position falls under the **EC** rating, followed by the **AO** rating.\n",
    "\n",
    "A crucial point to consider from this diagram is the sales difference between the \"T\" and \"M\" ratings. The gap between the \"E\" and \"T\" ratings is approximately `$ 50` million, while the difference between the \"T\" and \"M\" ratings is around `$ 90` million. This disparity indicates a shift in gaming activity patterns between children and teenagers and adults.\n",
    "\n",
    "Unlike the North American market, where gaming activity remains relatively consistent from adolescence to adulthood, adult consumers in Japan exhibit greater segmentation. This suggests that the hobby of gaming among adults is not a common phenomenon in Japanese society. One potential influencing factor is the cultural differences in work ethics between Japan and North America, which affect how individuals spend their leisure time."
   ]
  },
  {
   "cell_type": "markdown",
   "metadata": {},
   "source": [
    "<span style=\"font-size:12pt; font-weight: bold;\">Preliminary Conclusions</span>"
   ]
  },
  {
   "cell_type": "markdown",
   "metadata": {},
   "source": [
    "Age rating has impact on the total sales of video games. Since the age rating system is designed to restrict access to games based on age groups, it follows that a lower age rating should correlate with higher total sales due to broader accessibility for individuals across various age demographics.\n",
    "\n",
    "Games rated **E (Everyone)** consistently achieve the highest total sales across all three regions. There is no need for specific efforts to maintain or increase sales of \"E\" rated games, as they will invariably lead in total sales within all regions. Instead, it would be more effective for companies to explore segments that occupy the second and third positions, which differ across each region.\n",
    "\n",
    "In the European market, targeted efforts could be made to bolster sales of **M (Mature)** rated games. Conversely, in the North American and Japanese markets, specific initiatives could focus on enhancing the sales of **T (Teen)** rated games. Potential strategies may include increasing accessibility, creating communication campaigns relevant to the target age group, and implementing promotions or collaborations aimed at consumers within those age segments."
   ]
  },
  {
   "cell_type": "markdown",
   "metadata": {},
   "source": [
    "[Back to Age Rating and Total Sales](#Age-Rating-and-Total-Sales)"
   ]
  },
  {
   "cell_type": "markdown",
   "metadata": {},
   "source": [
    "[Back to Contents](#contents)"
   ]
  },
  {
   "cell_type": "markdown",
   "metadata": {},
   "source": [
    "## Hypothesis Testing"
   ]
  },
  {
   "cell_type": "markdown",
   "metadata": {},
   "source": [
    "### Average Users Review on XBOX 360 and PC"
   ]
  },
  {
   "cell_type": "code",
   "execution_count": 72,
   "metadata": {
    "scrolled": true
   },
   "outputs": [
    {
     "data": {
      "text/html": [
       "<div>\n",
       "<style scoped>\n",
       "    .dataframe tbody tr th:only-of-type {\n",
       "        vertical-align: middle;\n",
       "    }\n",
       "\n",
       "    .dataframe tbody tr th {\n",
       "        vertical-align: top;\n",
       "    }\n",
       "\n",
       "    .dataframe thead th {\n",
       "        text-align: right;\n",
       "    }\n",
       "</style>\n",
       "<table border=\"1\" class=\"dataframe\">\n",
       "  <thead>\n",
       "    <tr style=\"text-align: right;\">\n",
       "      <th>platform</th>\n",
       "      <th>name</th>\n",
       "      <th>X360</th>\n",
       "    </tr>\n",
       "  </thead>\n",
       "  <tbody>\n",
       "    <tr>\n",
       "      <th>6935</th>\n",
       "      <td>Omerta: City of Gangsters</td>\n",
       "      <td>3.3</td>\n",
       "    </tr>\n",
       "    <tr>\n",
       "      <th>3319</th>\n",
       "      <td>Forza Motorsport 3</td>\n",
       "      <td>8.0</td>\n",
       "    </tr>\n",
       "    <tr>\n",
       "      <th>10457</th>\n",
       "      <td>Tornado Outbreak</td>\n",
       "      <td>8.0</td>\n",
       "    </tr>\n",
       "    <tr>\n",
       "      <th>10208</th>\n",
       "      <td>The Witcher 2: Assassins of Kings</td>\n",
       "      <td>8.3</td>\n",
       "    </tr>\n",
       "    <tr>\n",
       "      <th>1669</th>\n",
       "      <td>Country Dance: All Stars</td>\n",
       "      <td>5.2</td>\n",
       "    </tr>\n",
       "  </tbody>\n",
       "</table>\n",
       "</div>"
      ],
      "text/plain": [
       "platform                               name  X360\n",
       "6935              Omerta: City of Gangsters   3.3\n",
       "3319                     Forza Motorsport 3   8.0\n",
       "10457                      Tornado Outbreak   8.0\n",
       "10208     The Witcher 2: Assassins of Kings   8.3\n",
       "1669               Country Dance: All Stars   5.2"
      ]
     },
     "execution_count": 72,
     "metadata": {},
     "output_type": "execute_result"
    }
   ],
   "source": [
    "# new dataset of average users review score across platforms\n",
    "avg_rating = pd.pivot_table(df, index='name', columns='platform', values='user_score', aggfunc='mean').reset_index()\n",
    "\n",
    "# table of average users review score on X360\n",
    "avg_x360 = avg_rating.loc[:, ['name', 'X360']].dropna()\n",
    "avg_x360.sample(5)"
   ]
  },
  {
   "cell_type": "code",
   "execution_count": 73,
   "metadata": {},
   "outputs": [
    {
     "data": {
      "text/html": [
       "<div>\n",
       "<style scoped>\n",
       "    .dataframe tbody tr th:only-of-type {\n",
       "        vertical-align: middle;\n",
       "    }\n",
       "\n",
       "    .dataframe tbody tr th {\n",
       "        vertical-align: top;\n",
       "    }\n",
       "\n",
       "    .dataframe thead th {\n",
       "        text-align: right;\n",
       "    }\n",
       "</style>\n",
       "<table border=\"1\" class=\"dataframe\">\n",
       "  <thead>\n",
       "    <tr style=\"text-align: right;\">\n",
       "      <th>platform</th>\n",
       "      <th>name</th>\n",
       "      <th>PC</th>\n",
       "    </tr>\n",
       "  </thead>\n",
       "  <tbody>\n",
       "    <tr>\n",
       "      <th>9771</th>\n",
       "      <td>Test Drive Unlimited 2</td>\n",
       "      <td>5.7</td>\n",
       "    </tr>\n",
       "    <tr>\n",
       "      <th>1760</th>\n",
       "      <td>Crysis: Maximum Edition</td>\n",
       "      <td>8.2</td>\n",
       "    </tr>\n",
       "    <tr>\n",
       "      <th>10509</th>\n",
       "      <td>TrackMania Turbo</td>\n",
       "      <td>6.8</td>\n",
       "    </tr>\n",
       "    <tr>\n",
       "      <th>8856</th>\n",
       "      <td>Sniper: Ghost Warrior</td>\n",
       "      <td>5.5</td>\n",
       "    </tr>\n",
       "    <tr>\n",
       "      <th>10131</th>\n",
       "      <td>The Sims 2: Pets</td>\n",
       "      <td>7.7</td>\n",
       "    </tr>\n",
       "  </tbody>\n",
       "</table>\n",
       "</div>"
      ],
      "text/plain": [
       "platform                     name   PC\n",
       "9771       Test Drive Unlimited 2  5.7\n",
       "1760      Crysis: Maximum Edition  8.2\n",
       "10509            TrackMania Turbo  6.8\n",
       "8856        Sniper: Ghost Warrior  5.5\n",
       "10131            The Sims 2: Pets  7.7"
      ]
     },
     "execution_count": 73,
     "metadata": {},
     "output_type": "execute_result"
    }
   ],
   "source": [
    "# table of average users review score on X360\n",
    "avg_pc = avg_rating.loc[:, ['name', 'PC']].dropna()\n",
    "avg_pc.sample(5)"
   ]
  },
  {
   "cell_type": "code",
   "execution_count": 74,
   "metadata": {},
   "outputs": [
    {
     "data": {
      "image/png": "[encoded data removed]",
      "text/plain": [
       "<Figure size 640x480 with 2 Axes>"
      ]
     },
     "metadata": {},
     "output_type": "display_data"
    }
   ],
   "source": [
    "# Histogram \n",
    "plt.subplot(1, 2, 1)\n",
    "plt.xlabel('User Score')\n",
    "plt.ylabel('Frequency')\n",
    "plt.title('Xbox 360')\n",
    "sns.histplot(avg_x360['X360'], bins=10, color='red')\n",
    "\n",
    "plt.subplot(1, 2, 2)\n",
    "plt.xlabel('User Score')\n",
    "plt.ylabel('Frequency')\n",
    "plt.title('PC')\n",
    "sns.histplot(avg_pc['PC'], bins=10, color='blue')\n",
    "plt.show()"
   ]
  },
  {
   "cell_type": "markdown",
   "metadata": {},
   "source": [
    "The two histograms above indicate that the distribution of average user review scores for games on the Xbox 360 and PC platforms tends to be non-normally distributed. The average review scores are concentrated between the values of 6 and 8. Below is an examination of the variance and standard deviation for both distributions."
   ]
  },
  {
   "cell_type": "code",
   "execution_count": 75,
   "metadata": {},
   "outputs": [
    {
     "name": "stdout",
     "output_type": "stream",
     "text": [
      "Xbox 360:\n",
      "Standard deviation: 1.3\n",
      "Variance: 1.6\n",
      "\n",
      "PC:\n",
      "Standard deviation: 1.4\n",
      "Variance: 1.9\n"
     ]
    }
   ],
   "source": [
    "# Variance and standard deviation of users average review score\n",
    "# Platform Xbox 360\n",
    "x360_std = round(avg_x360['X360'].std(), 1)\n",
    "x360_var = round(avg_x360['X360'].var(), 1)\n",
    "print('Xbox 360:')\n",
    "print(f'Standard deviation: {x360_std}')\n",
    "print(f'Variance: {x360_var}')\n",
    "print()\n",
    "\n",
    "# Platform PC\n",
    "pc_std = round(avg_pc['PC'].std(), 1)\n",
    "pc_var = round(avg_pc['PC'].var(), 1)\n",
    "print('PC:')\n",
    "print(f'Standard deviation: {pc_std}')\n",
    "print(f'Variance: {pc_var}')"
   ]
  },
  {
   "cell_type": "markdown",
   "metadata": {},
   "source": [
    "The calculation results for standard deviation reveal that **the average user review scores for the PC platform exhibit greater variability** compared to the Xbox 360 platform. However, the difference is minimal. With a minimum value of 1 and a maximum value of 10, the standard deviations for both platforms suggest that the variation in scores is relatively small, predominantly concentrated near the mean value.\n",
    "\n",
    "The difference in variance between the two datasets is relatively minor, indicating that the assumption of homogeneity of variance holds in this case.\n",
    "\n",
    "To determine which significance test may be applicable, it remains necessary to conduct the Shapiro-Wilk normality test for both datasets."
   ]
  },
  {
   "cell_type": "code",
   "execution_count": 91,
   "metadata": {},
   "outputs": [],
   "source": [
    "# function for normality test\n",
    "def normality_test(series):\n",
    "    p_value_shapiro = shapiro(series).pvalue\n",
    "    print(f'P-Value: {p_value_shapiro}')\n",
    "    print(f'Alpha  : {alpha}')\n",
    "    if p_value_shapiro >= alpha:\n",
    "        print('Fail to reject H0: Data distribution IS normal')\n",
    "    else:\n",
    "        print('H0 is rejected: Data distribution is NOT normal')"
   ]
  },
  {
   "cell_type": "code",
   "execution_count": 94,
   "metadata": {},
   "outputs": [
    {
     "name": "stdout",
     "output_type": "stream",
     "text": [
      "P-Value: 1.5596075365354002e-29\n",
      "Alpha  : 0.05\n",
      "H0 is rejected: Data distribution is NOT normal\n"
     ]
    }
   ],
   "source": [
    "# Test normality of users average review score on platform Xbox 360\n",
    "alpha = 0.05\n",
    "normality_test(avg_x360['X360'])"
   ]
  },
  {
   "cell_type": "code",
   "execution_count": 95,
   "metadata": {},
   "outputs": [
    {
     "name": "stdout",
     "output_type": "stream",
     "text": [
      "P-Value: 4.918970770713433e-25\n",
      "Alpha  : 0.05\n",
      "H0 is rejected: Data distribution is NOT normal\n"
     ]
    }
   ],
   "source": [
    "# Test normality of users average review score on platform PC\n",
    "alpha = 0.05\n",
    "normality_test(avg_pc['PC'])"
   ]
  },
  {
   "cell_type": "markdown",
   "metadata": {},
   "source": [
    "The normality test results indicate that both datasets do not follow a normal distribution. Consequently, the independent samples t-test cannot be applied. Instead, the significance test will employ the Mann-Whitney U test, which is typically utilized for two independent samples that are non-normally distributed with homogeneous variances. \n",
    "\n",
    "Below are the hypotheses being tested:"
   ]
  },
  {
   "cell_type": "markdown",
   "metadata": {},
   "source": [
    "**H0**: There is NO significant difference between the average review scores of players on the Xbox 360 platform and those on the PC platform.\n",
    "\n",
    "**H1**: There IS a significant difference between the average review scores of players on the Xbox 360 platform and those on the PC platform."
   ]
  },
  {
   "cell_type": "code",
   "execution_count": 96,
   "metadata": {},
   "outputs": [
    {
     "name": "stdout",
     "output_type": "stream",
     "text": [
      "Alpha  : 0.05\n",
      "P-Value: 2.67249719135721e-11\n",
      "H0 is rejected: There IS a significant difference between the average review scores of players on the Xbox 360 platform and those on the PC platform\n"
     ]
    }
   ],
   "source": [
    "# test hypothesis\n",
    "alpha = 0.05\n",
    "p_value = mannwhitneyu(avg_x360['X360'], avg_pc['PC'], nan_policy='omit').pvalue\n",
    "print(f'Alpha  : {alpha}')\n",
    "print(f'P-Value: {p_value}')\n",
    "if p_value >= alpha:\n",
    "    print('Fail to reject H0: There is NO significant difference between the average review scores of players on the Xbox 360 platform and those on the PC platform')\n",
    "else:\n",
    "    print('H0 is rejected: There IS a significant difference between the average review scores of players on the Xbox 360 platform and those on the PC platform')"
   ]
  },
  {
   "cell_type": "markdown",
   "metadata": {},
   "source": [
    "The Mann-Whitney U hypothesis test, conducted at an alpha level of 0.05, resulted in the rejection of the null hypothesis and the acceptance of the alternative hypothesis. \n",
    "\n",
    "This indicates that **there is a significant difference between the average review scores of players on the Xbox 360 platform and those on the PC platform**."
   ]
  },
  {
   "cell_type": "markdown",
   "metadata": {},
   "source": [
    "[Back to Hypothesis Testing](#Hypothesis-Testing)"
   ]
  },
  {
   "cell_type": "markdown",
   "metadata": {},
   "source": [
    "### Average Users Review of Action dan Sports Genre"
   ]
  },
  {
   "cell_type": "code",
   "execution_count": 97,
   "metadata": {},
   "outputs": [
    {
     "data": {
      "text/html": [
       "<div>\n",
       "<style scoped>\n",
       "    .dataframe tbody tr th:only-of-type {\n",
       "        vertical-align: middle;\n",
       "    }\n",
       "\n",
       "    .dataframe tbody tr th {\n",
       "        vertical-align: top;\n",
       "    }\n",
       "\n",
       "    .dataframe thead th {\n",
       "        text-align: right;\n",
       "    }\n",
       "</style>\n",
       "<table border=\"1\" class=\"dataframe\">\n",
       "  <thead>\n",
       "    <tr style=\"text-align: right;\">\n",
       "      <th>genre</th>\n",
       "      <th>name</th>\n",
       "      <th>Action</th>\n",
       "    </tr>\n",
       "  </thead>\n",
       "  <tbody>\n",
       "    <tr>\n",
       "      <th>9759</th>\n",
       "      <td>Terminator 3: Rise of the Machines</td>\n",
       "      <td>5.145475</td>\n",
       "    </tr>\n",
       "    <tr>\n",
       "      <th>2121</th>\n",
       "      <td>Devil Kings</td>\n",
       "      <td>7.400000</td>\n",
       "    </tr>\n",
       "    <tr>\n",
       "      <th>511</th>\n",
       "      <td>Assassin's Creed: Unity</td>\n",
       "      <td>4.000000</td>\n",
       "    </tr>\n",
       "    <tr>\n",
       "      <th>7905</th>\n",
       "      <td>Rengoku II:  The Stairway To H.E.A.V.E.N.</td>\n",
       "      <td>7.600000</td>\n",
       "    </tr>\n",
       "    <tr>\n",
       "      <th>9736</th>\n",
       "      <td>Tenchu: Stealth Assassins</td>\n",
       "      <td>8.800000</td>\n",
       "    </tr>\n",
       "  </tbody>\n",
       "</table>\n",
       "</div>"
      ],
      "text/plain": [
       "genre                                       name    Action\n",
       "9759          Terminator 3: Rise of the Machines  5.145475\n",
       "2121                                 Devil Kings  7.400000\n",
       "511                      Assassin's Creed: Unity  4.000000\n",
       "7905   Rengoku II:  The Stairway To H.E.A.V.E.N.  7.600000\n",
       "9736                   Tenchu: Stealth Assassins  8.800000"
      ]
     },
     "execution_count": 97,
     "metadata": {},
     "output_type": "execute_result"
    }
   ],
   "source": [
    "# new dataset of average users review score across genres\n",
    "avg_genre = pd.pivot_table(df, index='name', columns='genre', values='user_score', aggfunc='mean').reset_index()\n",
    "\n",
    "# table of average users Action games\n",
    "avg_action = avg_genre.loc[:, ['name', 'Action']].dropna()\n",
    "avg_action.sample(5)"
   ]
  },
  {
   "cell_type": "code",
   "execution_count": 98,
   "metadata": {},
   "outputs": [
    {
     "data": {
      "text/html": [
       "<div>\n",
       "<style scoped>\n",
       "    .dataframe tbody tr th:only-of-type {\n",
       "        vertical-align: middle;\n",
       "    }\n",
       "\n",
       "    .dataframe tbody tr th {\n",
       "        vertical-align: top;\n",
       "    }\n",
       "\n",
       "    .dataframe thead th {\n",
       "        text-align: right;\n",
       "    }\n",
       "</style>\n",
       "<table border=\"1\" class=\"dataframe\">\n",
       "  <thead>\n",
       "    <tr style=\"text-align: right;\">\n",
       "      <th>genre</th>\n",
       "      <th>name</th>\n",
       "      <th>Sports</th>\n",
       "    </tr>\n",
       "  </thead>\n",
       "  <tbody>\n",
       "    <tr>\n",
       "      <th>6421</th>\n",
       "      <td>NBA Live 2001</td>\n",
       "      <td>7.568213</td>\n",
       "    </tr>\n",
       "    <tr>\n",
       "      <th>6530</th>\n",
       "      <td>NFL Xtreme 2</td>\n",
       "      <td>7.136426</td>\n",
       "    </tr>\n",
       "    <tr>\n",
       "      <th>5248</th>\n",
       "      <td>Links 2004</td>\n",
       "      <td>9.000000</td>\n",
       "    </tr>\n",
       "    <tr>\n",
       "      <th>9062</th>\n",
       "      <td>Sports Collection</td>\n",
       "      <td>7.136426</td>\n",
       "    </tr>\n",
       "    <tr>\n",
       "      <th>8003</th>\n",
       "      <td>River City Super Sports Challenge</td>\n",
       "      <td>7.136426</td>\n",
       "    </tr>\n",
       "  </tbody>\n",
       "</table>\n",
       "</div>"
      ],
      "text/plain": [
       "genre                               name    Sports\n",
       "6421                       NBA Live 2001  7.568213\n",
       "6530                        NFL Xtreme 2  7.136426\n",
       "5248                          Links 2004  9.000000\n",
       "9062                   Sports Collection  7.136426\n",
       "8003   River City Super Sports Challenge  7.136426"
      ]
     },
     "execution_count": 98,
     "metadata": {},
     "output_type": "execute_result"
    }
   ],
   "source": [
    "# table of average users review score on Sports games\n",
    "avg_sports = avg_genre.loc[:, ['name', 'Sports']].dropna()\n",
    "avg_sports.sample(5)"
   ]
  },
  {
   "cell_type": "code",
   "execution_count": 99,
   "metadata": {},
   "outputs": [
    {
     "data": {
      "image/png": "[encoded data removed]",
      "text/plain": [
       "<Figure size 640x480 with 2 Axes>"
      ]
     },
     "metadata": {},
     "output_type": "display_data"
    }
   ],
   "source": [
    "# Histogram\n",
    "plt.subplot(1, 2, 1)\n",
    "plt.xlabel('User Score')\n",
    "plt.ylabel('Frequency')\n",
    "plt.title('Action')\n",
    "sns.histplot(avg_action['Action'], bins=10, color='green')\n",
    "\n",
    "plt.subplot(1, 2, 2)\n",
    "plt.xlabel('User Score')\n",
    "plt.ylabel('Frequency')\n",
    "plt.title('Sports')\n",
    "sns.histplot(avg_sports['Sports'], bins=10, color='orange')\n",
    "plt.show()"
   ]
  },
  {
   "cell_type": "markdown",
   "metadata": {},
   "source": [
    "The histograms above illustrate that the distribution of average user review scores for both Action and Sports games deviates from normality. User review scores for both genres are primarily concentrated between 6 and 8. An examination of variance and standard deviation for each distribution follows below:"
   ]
  },
  {
   "cell_type": "code",
   "execution_count": 100,
   "metadata": {},
   "outputs": [
    {
     "name": "stdout",
     "output_type": "stream",
     "text": [
      "Genre Action:\n",
      "Standard deviation: 0.9\n",
      "Variance: 0.8\n",
      "\n",
      "Genre Sports:\n",
      "Standard deviation: 0.8\n",
      "Variance: 0.7\n"
     ]
    }
   ],
   "source": [
    "# Variance and standard deviation of users reviews score\n",
    "# Genre Action\n",
    "action_std = round(avg_action['Action'].std(), 1)\n",
    "action_var = round(avg_action['Action'].var(), 1)\n",
    "print('Genre Action:')\n",
    "print(f'Standard deviation: {action_std}')\n",
    "print(f'Variance: {action_var}')\n",
    "print()\n",
    "\n",
    "# Genre Sports\n",
    "sports_std = round(avg_sports['Sports'].std(), 1)\n",
    "sports_var = round(avg_sports['Sports'].var(), 1)\n",
    "print('Genre Sports:')\n",
    "print(f'Standard deviation: {sports_std}')\n",
    "print(f'Variance: {sports_var}')"
   ]
  },
  {
   "cell_type": "markdown",
   "metadata": {},
   "source": [
    "The standard deviation calculations indicate that **average user review scores for the Action genre exhibit slightly greater variability** compared to those for the Sports genre. However, the difference remains marginal. With minimum and maximum scores spanning from 1 to 10, the standard deviations for both genres suggest limited variation, with scores largely clustering around the mean. \n",
    "\n",
    "The variance difference between the two datasets is also minimal, supporting the assumption of homogeneity of variances in this case. \n",
    "\n",
    "To determine the appropriate significance test, a Shapiro-Wilk normality test remains necessary for both datasets."
   ]
  },
  {
   "cell_type": "code",
   "execution_count": 101,
   "metadata": {},
   "outputs": [
    {
     "name": "stdout",
     "output_type": "stream",
     "text": [
      "P-Value: 1.401298464324817e-45\n",
      "Alpha  : 0.05\n",
      "H0 is rejected: Data distribution is NOT normal\n"
     ]
    }
   ],
   "source": [
    "# normality test of average users reviews score for Action games\n",
    "alpha = 0.05\n",
    "normality_test(avg_action['Action'])"
   ]
  },
  {
   "cell_type": "code",
   "execution_count": 102,
   "metadata": {},
   "outputs": [
    {
     "name": "stdout",
     "output_type": "stream",
     "text": [
      "P-Value: 7.51095976878102e-43\n",
      "Alpha  : 0.05\n",
      "H0 is rejected: Data distribution is NOT normal\n"
     ]
    }
   ],
   "source": [
    "# normality test of average users reviews score for Sports games\n",
    "alpha = 0.05\n",
    "normality_test(avg_sports['Sports'])"
   ]
  },
  {
   "cell_type": "markdown",
   "metadata": {},
   "source": [
    "Normality testing reveals that both datasets deviate from a normal distribution. Consequently, an independent samples t-test is unsuitable. Instead, the **Mann-Whitney U test**, appropriate for comparing two independent, non-normal samples with homogeneous variances, will be employed to test for significant differences. \n",
    "\n",
    "The hypotheses for this test are as follows:\n",
    "\n",
    "**H0**: There is NO significant difference between the average user review scores for Action and Sports games.    \n",
    "**H1**: There IS a significant difference between the average user review scores for Action and Sports games."
   ]
  },
  {
   "cell_type": "code",
   "execution_count": 103,
   "metadata": {},
   "outputs": [
    {
     "name": "stdout",
     "output_type": "stream",
     "text": [
      "Alpha  : 0.05\n",
      "P-Value: 0.11400453389496806\n",
      "Fail to reject H0: There is NO significant difference between the average user review scores for Action and Sports games.\n"
     ]
    }
   ],
   "source": [
    "# test hypothesis\n",
    "alpha = 0.05\n",
    "p_value = mannwhitneyu(avg_action['Action'], avg_sports['Sports'], nan_policy='omit').pvalue\n",
    "print(f'Alpha  : {alpha}')\n",
    "print(f'P-Value: {p_value}')\n",
    "if p_value >= alpha:\n",
    "    print('Fail to reject H0: There is NO significant difference between the average user review scores for Action and Sports games.')\n",
    "else:\n",
    "    print('H0 is rejected: There IS a significant difference between the average user review scores for Action and Sports games.')"
   ]
  },
  {
   "cell_type": "markdown",
   "metadata": {},
   "source": [
    "The Mann-Whitney U hypothesis test, conducted with an alpha level of 0.05, failed to reject the null hypothesis.\n",
    "Thus, **there is no significant difference between the average user review scores for players on the Xbox 360 platform and those on the PC platform.**"
   ]
  },
  {
   "cell_type": "markdown",
   "metadata": {},
   "source": [
    "[Back to Hypothesis Testing](#Hypothesis-Testing)"
   ]
  },
  {
   "cell_type": "markdown",
   "metadata": {},
   "source": [
    "[Back to Contents](#contents)"
   ]
  },
  {
   "cell_type": "markdown",
   "metadata": {},
   "source": [
    "## Findings and Conclusions"
   ]
  },
  {
   "cell_type": "markdown",
   "metadata": {},
   "source": [
    "A sales analysis was conducted for ICE to develop a sales forecasting model for 2017. The initial dataset comprised sales data for 16,715 games released from 1980 to 2016, spanning multiple countries, platforms, and genres. The data preprocessing stage resulted in a refined dataset with 16,173 entries, as well as the addition of a table aggregating total sales across four market regions: Europe, North America, Japan, and other regions. Key preprocessing steps included handling missing values, renaming columns for clarity, and removing redundant categories within columns."
   ]
  },
  {
   "cell_type": "markdown",
   "metadata": {},
   "source": [
    "<span style=\"font-size:14pt; font-weight: bold;\">Findings</span>"
   ]
  },
  {
   "cell_type": "markdown",
   "metadata": {},
   "source": [
    "During the data analysis stage, several key findings were identified:\n",
    "\n",
    "**Declining trends of game and platform sales**    \n",
    "The rapid growth of the gaming industry reached its peak in the 2000s but declined in the 2010s, with PlayStation 2 emerging as the most popular platform (with the highest total sales) over four decades. Currently, game and platform sales are trending downward, likely influenced by the surge in smartphone ownership, which allows gaming through apps rather than requiring separate gaming devices.    \n",
    "\n",
    "The platform with the greatest potential to drive profits in 2017 is the Sony PlayStation 4 (PS4). Based on the popularity trends of the PS2, it generally takes a platform about a year to reach peak popularity after its release, while it takes approximately seven years for its popularity to decline until sales are negligible.\n",
    "\n",
    "**Review scores are not reliable indicators for predicting sales outcomes**    \n",
    "An analysis of intervariable relationships yielded the following insights: A weak linear relationship exists between review scores (both from professional critics and general players) and total sales. Although games with high review scores sometimes show higher sales, this correlation is inconsistent, making review scores unreliable as a sole basis for sales-related decisions.\n",
    "\n",
    "**Multiplatform games sales figure**    \n",
    "This finding also applies to multiplatform games (the same game produced for multiple platforms), which may receive high review scores on one platform but show higher total sales on another platform with a lower review score. This discrepancy may be influenced by platform availability in specific regions, leading to a regional segmentation analysis.\n",
    "\n",
    "**Popularity by region**    \n",
    "A profiling analysis of regions, based on gaming platforms, game genres, and age ratings, shows the following: Each region exhibits distinct preferences regarding gaming platforms. Platforms originating from a country within that region and with longstanding presence tend to be more popular—this trend holds in both the North American and Japanese markets. In contrast, for the European market, where no Europe-based platform ranks in the top five, the favored platforms originate from Japan.\n",
    "\n",
    "Genre preferences are notably similar between the North American and European markets, with Action, Sports, and Shooter being the top genres. However, in Japan, the leading genre is Role-playing.\n",
    "\n",
    "**Popularity by age rating**    \n",
    "Age ratings also impact total sales differently across regions. In all three regions, the most popular rating is E (Everyone). However, distinct preferences emerge for subsequent ratings.\n",
    "\n",
    "In Europe, the M (Mature) rating is more popular than T (Teen) and E10+ (Everyone 10+), while in North America, T and M ratings share similar popularity. In Japan, a disparity exists, with T-rated games being relatively less popular.\n",
    "\n",
    "**Platform and genre preferences**    \n",
    "Hypothesis testing was conducted to assess the significance of differences in user review scores between two platforms (Xbox 360 and PC) and between two genres (Action and Sports). A Mann-Whitney U test with an alpha of 0.05 showed the following:\n",
    "\n",
    "* There is a significant difference in the average review scores between players on Xbox 360 and those on PC, with Xbox 360 as the lead.     \n",
    "* However, there is no significant difference in the average review scores between the Action and Sports genres."
   ]
  },
  {
   "cell_type": "markdown",
   "metadata": {},
   "source": [
    "<span style=\"font-size:14pt; font-weight: bold;\">Conclusions</span>"
   ]
  },
  {
   "cell_type": "markdown",
   "metadata": {},
   "source": [
    "Based on this analysis, the recommendation for the company in 2017 is to implement a **location-specific marketing plan**. As gaming consumers on platform-based devices become increasingly segmented over time, the company still has several years to leverage game sales on the PS4 platform. Therefore, a targeted marketing strategy is needed that caters to PS4 gamers by region.\n",
    "\n",
    "The company should conduct further research and analysis to better understand **user profiles in each region**. By doing so, the company can improve game accessibility (availability) tailored to the user profile in each region and design marketing communications that resonate effectively with these profiles."
   ]
  },
  {
   "cell_type": "markdown",
   "metadata": {},
   "source": [
    "[Back to Contents](#contents)"
   ]
  }
 ],
 "metadata": {
  "ExecuteTimeLog": [
   {
    "duration": 163,
    "start_time": "2024-10-29T04:07:34.462Z"
   },
   {
    "duration": 6,
    "start_time": "2024-10-29T05:14:02.357Z"
   },
   {
    "duration": 2589,
    "start_time": "2024-10-30T03:23:10.876Z"
   },
   {
    "duration": 48,
    "start_time": "2024-10-30T03:23:13.467Z"
   },
   {
    "duration": 12,
    "start_time": "2024-10-30T03:23:13.516Z"
   },
   {
    "duration": 11,
    "start_time": "2024-10-30T03:23:13.529Z"
   },
   {
    "duration": 4,
    "start_time": "2024-10-30T03:23:13.542Z"
   },
   {
    "duration": 10,
    "start_time": "2024-10-30T03:23:13.547Z"
   },
   {
    "duration": 6,
    "start_time": "2024-10-30T03:23:13.559Z"
   },
   {
    "duration": 3,
    "start_time": "2024-10-30T03:23:13.567Z"
   },
   {
    "duration": 4,
    "start_time": "2024-10-30T03:23:13.572Z"
   },
   {
    "duration": 3,
    "start_time": "2024-10-30T03:23:13.579Z"
   },
   {
    "duration": 43,
    "start_time": "2024-10-30T03:23:13.583Z"
   },
   {
    "duration": 3,
    "start_time": "2024-10-30T03:23:13.628Z"
   },
   {
    "duration": 11,
    "start_time": "2024-10-30T03:23:13.633Z"
   },
   {
    "duration": 5,
    "start_time": "2024-10-30T03:23:13.645Z"
   },
   {
    "duration": 5,
    "start_time": "2024-10-30T03:23:13.651Z"
   },
   {
    "duration": 8,
    "start_time": "2024-10-30T03:23:13.657Z"
   },
   {
    "duration": 4,
    "start_time": "2024-10-30T03:23:13.666Z"
   },
   {
    "duration": 4,
    "start_time": "2024-10-30T03:23:13.671Z"
   },
   {
    "duration": 50,
    "start_time": "2024-10-30T03:23:13.676Z"
   },
   {
    "duration": 5,
    "start_time": "2024-10-30T03:23:13.729Z"
   },
   {
    "duration": 8,
    "start_time": "2024-10-30T03:23:13.737Z"
   },
   {
    "duration": 14,
    "start_time": "2024-10-30T03:23:13.747Z"
   },
   {
    "duration": 13,
    "start_time": "2024-10-30T03:23:13.763Z"
   },
   {
    "duration": 5,
    "start_time": "2024-10-30T03:23:13.778Z"
   },
   {
    "duration": 40,
    "start_time": "2024-10-30T03:23:13.785Z"
   },
   {
    "duration": 8,
    "start_time": "2024-10-30T03:23:13.826Z"
   },
   {
    "duration": 6,
    "start_time": "2024-10-30T03:23:13.836Z"
   },
   {
    "duration": 14,
    "start_time": "2024-10-30T03:23:13.847Z"
   },
   {
    "duration": 4,
    "start_time": "2024-10-30T03:23:13.863Z"
   },
   {
    "duration": 5,
    "start_time": "2024-10-30T03:23:13.868Z"
   },
   {
    "duration": 49,
    "start_time": "2024-10-30T03:23:13.875Z"
   },
   {
    "duration": 6,
    "start_time": "2024-10-30T03:23:13.926Z"
   },
   {
    "duration": 11,
    "start_time": "2024-10-30T03:23:13.934Z"
   },
   {
    "duration": 12,
    "start_time": "2024-10-30T03:23:13.946Z"
   },
   {
    "duration": 10,
    "start_time": "2024-10-30T03:23:13.960Z"
   },
   {
    "duration": 5,
    "start_time": "2024-10-30T03:23:13.971Z"
   },
   {
    "duration": 48,
    "start_time": "2024-10-30T03:23:13.977Z"
   },
   {
    "duration": 12,
    "start_time": "2024-10-30T03:23:14.027Z"
   },
   {
    "duration": 15,
    "start_time": "2024-10-30T03:23:14.040Z"
   },
   {
    "duration": 10,
    "start_time": "2024-10-30T03:23:14.056Z"
   },
   {
    "duration": 11,
    "start_time": "2024-10-30T03:23:14.067Z"
   },
   {
    "duration": 9,
    "start_time": "2024-10-30T03:23:14.080Z"
   },
   {
    "duration": 367,
    "start_time": "2024-10-30T03:23:14.090Z"
   },
   {
    "duration": 141,
    "start_time": "2024-10-30T03:23:14.459Z"
   },
   {
    "duration": 137,
    "start_time": "2024-10-30T03:23:14.602Z"
   },
   {
    "duration": 122,
    "start_time": "2024-10-30T03:23:14.741Z"
   },
   {
    "duration": 246,
    "start_time": "2024-10-30T03:23:14.864Z"
   },
   {
    "duration": 19,
    "start_time": "2024-10-30T03:23:15.112Z"
   },
   {
    "duration": 96,
    "start_time": "2024-10-30T03:23:15.133Z"
   },
   {
    "duration": 10,
    "start_time": "2024-10-30T03:23:15.231Z"
   },
   {
    "duration": 346,
    "start_time": "2024-10-30T03:23:15.242Z"
   },
   {
    "duration": 7,
    "start_time": "2024-10-30T03:23:15.589Z"
   },
   {
    "duration": 8,
    "start_time": "2024-10-30T03:23:15.598Z"
   },
   {
    "duration": 28,
    "start_time": "2024-10-30T03:23:15.608Z"
   },
   {
    "duration": 11,
    "start_time": "2024-10-30T03:23:15.639Z"
   },
   {
    "duration": 147,
    "start_time": "2024-10-30T03:23:15.651Z"
   },
   {
    "duration": 165,
    "start_time": "2024-10-30T03:23:15.800Z"
   },
   {
    "duration": 134,
    "start_time": "2024-10-30T03:23:15.966Z"
   },
   {
    "duration": 24,
    "start_time": "2024-10-30T03:23:16.101Z"
   },
   {
    "duration": 115,
    "start_time": "2024-10-30T03:23:16.126Z"
   },
   {
    "duration": 117,
    "start_time": "2024-10-30T03:23:16.244Z"
   },
   {
    "duration": 110,
    "start_time": "2024-10-30T03:23:16.363Z"
   },
   {
    "duration": 14,
    "start_time": "2024-10-30T03:23:16.474Z"
   },
   {
    "duration": 119,
    "start_time": "2024-10-30T03:23:16.489Z"
   },
   {
    "duration": 104,
    "start_time": "2024-10-30T03:23:16.610Z"
   },
   {
    "duration": 195,
    "start_time": "2024-10-30T03:23:16.716Z"
   },
   {
    "duration": 20,
    "start_time": "2024-10-30T03:23:16.913Z"
   },
   {
    "duration": 9,
    "start_time": "2024-10-30T03:23:16.935Z"
   },
   {
    "duration": 126,
    "start_time": "2024-10-30T03:23:16.946Z"
   },
   {
    "duration": 118,
    "start_time": "2024-10-30T03:23:17.074Z"
   },
   {
    "duration": 114,
    "start_time": "2024-10-30T03:23:17.194Z"
   },
   {
    "duration": 45,
    "start_time": "2024-10-30T03:23:17.310Z"
   },
   {
    "duration": 10,
    "start_time": "2024-10-30T03:23:17.357Z"
   },
   {
    "duration": 199,
    "start_time": "2024-10-30T03:23:17.368Z"
   },
   {
    "duration": 5,
    "start_time": "2024-10-30T03:23:17.569Z"
   },
   {
    "duration": 2,
    "start_time": "2024-10-30T03:23:17.577Z"
   },
   {
    "duration": 3,
    "start_time": "2024-10-30T03:23:17.581Z"
   },
   {
    "duration": 3,
    "start_time": "2024-10-30T03:23:17.585Z"
   },
   {
    "duration": 6,
    "start_time": "2024-10-30T03:23:17.590Z"
   },
   {
    "duration": 0,
    "start_time": "2024-10-30T03:23:17.597Z"
   },
   {
    "duration": 0,
    "start_time": "2024-10-30T03:23:17.623Z"
   },
   {
    "duration": 0,
    "start_time": "2024-10-30T03:23:17.624Z"
   },
   {
    "duration": 0,
    "start_time": "2024-10-30T03:23:17.625Z"
   },
   {
    "duration": 0,
    "start_time": "2024-10-30T03:23:17.626Z"
   },
   {
    "duration": 0,
    "start_time": "2024-10-30T03:23:17.627Z"
   },
   {
    "duration": 0,
    "start_time": "2024-10-30T03:23:17.628Z"
   },
   {
    "duration": 137,
    "start_time": "2024-10-30T03:24:50.438Z"
   },
   {
    "duration": 3,
    "start_time": "2024-10-30T03:28:02.067Z"
   },
   {
    "duration": 4,
    "start_time": "2024-10-30T03:28:09.999Z"
   },
   {
    "duration": 4,
    "start_time": "2024-10-30T03:28:11.329Z"
   },
   {
    "duration": 7,
    "start_time": "2024-10-30T03:28:37.657Z"
   },
   {
    "duration": 30,
    "start_time": "2024-10-30T03:28:55.143Z"
   },
   {
    "duration": 11,
    "start_time": "2024-10-30T03:28:55.636Z"
   },
   {
    "duration": 171,
    "start_time": "2024-10-30T03:28:56.428Z"
   },
   {
    "duration": 5,
    "start_time": "2024-10-30T03:29:02.692Z"
   },
   {
    "duration": 4,
    "start_time": "2024-10-30T03:29:07.838Z"
   },
   {
    "duration": 4,
    "start_time": "2024-10-30T03:29:08.973Z"
   },
   {
    "duration": 3,
    "start_time": "2024-10-30T03:29:26.663Z"
   },
   {
    "duration": 3,
    "start_time": "2024-10-30T03:29:27.275Z"
   },
   {
    "duration": 4,
    "start_time": "2024-10-30T03:29:27.770Z"
   },
   {
    "duration": 4,
    "start_time": "2024-10-30T03:29:35.815Z"
   },
   {
    "duration": 3,
    "start_time": "2024-10-30T03:29:36.728Z"
   },
   {
    "duration": 6,
    "start_time": "2024-10-30T03:29:42.944Z"
   },
   {
    "duration": 29,
    "start_time": "2024-10-30T03:29:52.470Z"
   },
   {
    "duration": 10,
    "start_time": "2024-10-30T03:29:52.866Z"
   },
   {
    "duration": 172,
    "start_time": "2024-10-30T03:29:53.200Z"
   },
   {
    "duration": 5,
    "start_time": "2024-10-30T03:29:55.059Z"
   },
   {
    "duration": 3,
    "start_time": "2024-10-30T03:29:57.136Z"
   },
   {
    "duration": 4,
    "start_time": "2024-10-30T03:29:58.514Z"
   },
   {
    "duration": 7,
    "start_time": "2024-10-30T03:30:02.540Z"
   }
  ],
  "kernelspec": {
   "display_name": "Python 3 (ipykernel)",
   "language": "python",
   "name": "python3"
  },
  "language_info": {
   "codemirror_mode": {
    "name": "ipython",
    "version": 3
   },
   "file_extension": ".py",
   "mimetype": "text/x-python",
   "name": "python",
   "nbconvert_exporter": "python",
   "pygments_lexer": "ipython3",
   "version": "3.9.19"
  },
  "toc": {
   "base_numbering": 1,
   "nav_menu": {},
   "number_sections": true,
   "sideBar": true,
   "skip_h1_title": true,
   "title_cell": "Table of Contents",
   "title_sidebar": "Contents",
   "toc_cell": false,
   "toc_position": {},
   "toc_section_display": true,
   "toc_window_display": false
  }
 },
 "nbformat": 4,
 "nbformat_minor": 2
}
